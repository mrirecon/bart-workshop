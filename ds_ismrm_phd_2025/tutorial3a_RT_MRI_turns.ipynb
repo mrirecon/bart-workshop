{
 "cells": [
  {
   "cell_type": "markdown",
   "id": "6f2acd66",
   "metadata": {},
   "source": [
    "# Real-Time MRI with BART 🎥\n",
    "\n",
    "## Structure\n",
    "\n",
    "### Part 1: Simple Real-Time MRI Reconstruction\n",
    "\n",
    "Using the adjoint NuFFT paired with the Ram-Lak Filter, a real-time dataset\n",
    "acquired with a turn-based radial FLASH sequence is reconstructed.\n",
    "\n",
    "### Part 2: Iterative Reconstruction\n",
    "\n",
    "We transform the previous reconstruction into something more modern.\n",
    "\n",
    "### Part 3: iGRASP and Real-Time NLINV\n",
    "\n",
    "We use BART to run the well-known iGRASP method.\n",
    "\n",
    "A previously \"hidden\" step, the creation of coil sensitivities, is examined further. We look at a different iterative reconstruction scheme which is very suitable for real-time MRI and real-time reconstruction."
   ]
  },
  {
   "cell_type": "markdown",
   "id": "47ab7f2e-c673-4267-b17d-38510131a6e2",
   "metadata": {},
   "source": [
    "## Setup Environment for BART\n",
    "\n",
    "This notebook assumes bart is 'available', i.e. has been successfully installed beforehand.\n",
    "\n",
    "\n",
    "If this doesn't work, please consult the [installation guide](https://mrirecon.github.io/bart/installation.html)."
   ]
  },
  {
   "cell_type": "markdown",
   "id": "a3c44ae3-cd25-4670-b9b5-1d46e7a58130",
   "metadata": {},
   "source": [
    "✅ You should be able to run bart \"directly\" in this notebook:"
   ]
  },
  {
   "cell_type": "code",
   "execution_count": null,
   "id": "06cb31c3-b968-4c3c-bb7c-e0b7a990dbda",
   "metadata": {},
   "outputs": [],
   "source": [
    "! bart version"
   ]
  },
  {
   "cell_type": "markdown",
   "id": "24e40568-8b24-4c91-a827-58129823ac13",
   "metadata": {},
   "source": [
    "# Part 1: Simple Real-Time MRI Reconstruction"
   ]
  },
  {
   "cell_type": "markdown",
   "id": "2cd5370a-053d-4855-905e-8bf4d3abda41",
   "metadata": {},
   "source": [
    "In this part, we will reconstruct a real-time MRI dataset recorded using a turn-based linear trajectory.\n",
    "\n",
    "We create a new directory and go there first:"
   ]
  },
  {
   "cell_type": "code",
   "execution_count": null,
   "id": "4a745331-f0f6-4104-b7ea-5dbadea48a1d",
   "metadata": {},
   "outputs": [],
   "source": [
    "! mkdir -p session3_1\n",
    "%cd session3_1"
   ]
  },
  {
   "cell_type": "markdown",
   "id": "8787ea56-26fd-43d8-ba07-47d862e8dfc7",
   "metadata": {},
   "source": [
    "## Acquiring the data\n",
    "\n",
    "Download the file from TU Graz cloud if it is not already there. The file is about 70MB big, so it shouldn't take too long."
   ]
  },
  {
   "cell_type": "code",
   "execution_count": null,
   "id": "0d1f26bc-501e-48d4-9cc5-66231ea4169e",
   "metadata": {},
   "outputs": [],
   "source": [
    "%%bash\n",
    "[ -f ksp_turns5.ra ] || wget https://cloud.tugraz.at/index.php/s/N79NSwJSFaBM7mY/download/ksp_turns5.ra\n",
    "bart copy ksp_turns5.ra ksp"
   ]
  },
  {
   "cell_type": "markdown",
   "id": "9eec9b1b-378f-4cdb-948b-e5e1fd3cf6eb",
   "metadata": {},
   "source": [
    "✏️ **Use the BART `show` tool to confirm the dimensions of the raw data.**"
   ]
  },
  {
   "cell_type": "code",
   "execution_count": null,
   "id": "2e49d8e2-ac5c-4942-9486-a51610ea55d7",
   "metadata": {},
   "outputs": [],
   "source": [
    "!"
   ]
  },
  {
   "cell_type": "markdown",
   "id": "db26d809-955f-4126-ac21-3a5a6bcec450",
   "metadata": {},
   "source": [
    "<details>\n",
    "    <summary>Show solution</summary>\n",
    "\n",
    "    ! bart show -m ksp\n",
    "</details>"
   ]
  },
  {
   "cell_type": "markdown",
   "id": "6d901b82-e5db-46df-89c5-102dac7bfb98",
   "metadata": {},
   "source": [
    "✅ You should now have a file called \"ksp\" which contains 100 k-space frames.\n",
    "\n",
    "There are 256 samples and the number of spokes is 13.\n",
    "\n",
    "**The number of turns is 5.** This is, however, not visible from the \"ksp\" file.\n",
    "\n",
    "We do a small preprocessing step which will be explained later:"
   ]
  },
  {
   "cell_type": "code",
   "execution_count": null,
   "id": "aff84682-df86-4210-8577-3991b413ae5c",
   "metadata": {},
   "outputs": [],
   "source": [
    "%%bash\n",
    "bart reshape 7 1 256 13 ksp ksp"
   ]
  },
  {
   "cell_type": "markdown",
   "id": "9cbd0c21-25f5-41ca-bb11-db82cd2c852e",
   "metadata": {},
   "source": [
    "Followed by another preprocessing step as an exercise!\n",
    "\n",
    "✏️ **Preprocessing**:\n",
    "- Use the bart `cc` (coil compression) tool to reduce the number of channels in this file to 6!\n",
    "\n",
    "Output filename \"ksp_cc\""
   ]
  },
  {
   "cell_type": "code",
   "execution_count": null,
   "id": "3ae61276-2502-43c6-93d0-f2c653c0c22b",
   "metadata": {},
   "outputs": [],
   "source": [
    "%%bash\n",
    "\n"
   ]
  },
  {
   "cell_type": "markdown",
   "id": "2c869361-e24c-4841-8026-b5ddd0644f4d",
   "metadata": {},
   "source": [
    "<details>\n",
    "    <summary>Show solution</summary>\n",
    "\n",
    "    %%bash\n",
    "\n",
    "    bart cc -p6 ksp ksp_cc\n",
    "</details>"
   ]
  },
  {
   "cell_type": "markdown",
   "id": "fc3e8765-4a24-4b05-8f67-3206e0d70545",
   "metadata": {},
   "source": [
    "✅ You should now have a file called \"ksp_cc\" which has dimension 6 instead of 26 in axis 3."
   ]
  },
  {
   "cell_type": "markdown",
   "id": "04a147e5-871d-430a-a47a-6bdfaba40588",
   "metadata": {},
   "source": [
    "## Sliding window\n",
    "\n",
    "The next step is to create the \"sliding window\", i.e., we will create a file which has 5 * 13 = 65 spokes and 100 frames.\n",
    "To achieve this, for every output frame, the spokes of the next four frames (or 0, as available) should follow after the 13 spokes of the current input frame.\n",
    "\n",
    "This tutorial is guiding you along one way to achieve this, but there are certainly others as well. :)"
   ]
  },
  {
   "cell_type": "markdown",
   "id": "74fb9faf-6894-4395-9111-54d06e407d44",
   "metadata": {},
   "source": [
    "✏️ **Creating shifted copies of the input file**:\n",
    "- `bart extract` can be used to copy only part of an array into a new file (i.e., cropping).\n",
    "- `bart resize` can be used for cropping as well, but it can also create zero-padded versions of an array.\n",
    "\n",
    "First, use bart extract to remove the first frame from the ksp file.\n",
    "\n",
    "Repeat this four times, removing also the second, third, and fourth frame.\n",
    "\n",
    "Zero-Pad the resulting arrays at the end, so that the resulting files have 100 frames again.\n",
    "\n",
    "Output filenames: ksp_1, ksp_2, ksp_3"
   ]
  },
  {
   "cell_type": "code",
   "execution_count": null,
   "id": "109a3d41-183b-42ff-8b31-24c9e5b984b0",
   "metadata": {},
   "outputs": [],
   "source": [
    "%%bash\n",
    "## create sliding window by joining shifted copies of the data\n",
    "for i in $(seq 4); do\n",
    "\n",
    "done\n"
   ]
  },
  {
   "cell_type": "markdown",
   "id": "e4d01bbc-da7b-4de0-ac17-d2b5c1ef415b",
   "metadata": {},
   "source": [
    "<details>\n",
    "    <summary>Show solution</summary>\n",
    "\n",
    "    %%bash\n",
    "    ## create sliding window by joining shifted copies of the data\n",
    "    for i in $(seq 4); do\n",
    "        bart extract 10 $i 100 ksp_cc ksp_$i\n",
    "        bart resize 10 100 ksp_$i ksp_$i\n",
    "    done\n",
    "\n",
    "</details>"
   ]
  },
  {
   "cell_type": "markdown",
   "id": "e7f7072d-5913-4a6b-adad-0c0dfc26024e",
   "metadata": {},
   "source": [
    "✅ You should now have four files which have the same shape as the ksp_cc file, but are shifted and zero-padded (along dim 10) copies of it.\n",
    "\n",
    "You can run the following code as a test to see if your result is correct:"
   ]
  },
  {
   "cell_type": "code",
   "execution_count": null,
   "id": "edbbf62b-9793-488f-aea6-e1ea5a739bfc",
   "metadata": {},
   "outputs": [],
   "source": [
    "%%bash\n",
    "bart slice 10 3 ksp_cc tmp1\n",
    "bart slice 10 0 ksp_3 tmp2\n",
    "bart nrmse -t0 tmp1 tmp2"
   ]
  },
  {
   "cell_type": "markdown",
   "id": "b6651986-3d86-431a-84f3-065f5b623248",
   "metadata": {},
   "source": [
    "In the next step, `join` the shifted copies AND the original file into a new array, using the bart command of the same name.\n",
    "\n",
    "Let's say you join the files along dimension \"11\". The dimensionality of the resulting array is then (256,13,6,100,5) (without singleton dims).\n",
    "\n",
    "Goal of this exercise was to get (65) instead of (13,5) - so we're not quite there yet.\n",
    "\n",
    "Similar to numpy etc., there is a bart command \"reshape\" which works pretty similarly. However, there is a big pitfall here:\n",
    "\n",
    "The turn-based pattern means that spokes from subsequent frames are interleaved.\n",
    "We want the same for our resulting file, meaning, the first spoke in the result should be from the original, the second from the 1-shifted copy (aka the second frame), the third from the 2-shifted copy, and so on.\n",
    "\n",
    "For reshaping, one needs to know that BART uses **Fortran** or **Column-Major** storage. That is, if an axis comes first, neighbouring indices there are close in memory.\n",
    "Or in other words, think of a 2D matrix. Rows are the first index, columns the second. In BARTs file format, the columns are stored one after another, values that are neighbours in a column (top-down) are neighbours in memory.\n",
    "(Numpy defaults to the opposite, i.e. rows are stored one after another.)\n",
    "\n",
    "To come back to our array, if we were to reshape while the spoke axis is before the shifted-copies axis, the shifted copies are far away and we get the wrong behaviour. Thus, we need to transpose first!\n",
    "\n",
    "✏️ **Re-Arranging the data**\n",
    "- `join` the original array + the shifted copies along dimension 11 into a new array.\n",
    "- use the `bart transpose` command to swap the spoke and \"shift\"-axes\n",
    "- `reshape` to the desired shape.\n",
    "\n",
    "Output file: ksp_sw"
   ]
  },
  {
   "cell_type": "markdown",
   "id": "718062ac-8b89-453c-95a2-7bfa5d7ffa69",
   "metadata": {},
   "source": [
    "<details>\n",
    "    <summary>Bitmasks AKA flags</summary>\n",
    "\n",
    "A set of dimensions (e.g., 0,2,3) can be specified in multiple ways.\n",
    "\n",
    "Which way needs to be used depends on the context in BART .\n",
    "\n",
    "Some commands just expect the dimensions (e.g., bart extract), typically separated by additional arguments (index along that dimension).\n",
    "\n",
    "Other commands take a so-called bitmask - that is, the number that would result if the bits specified by the given dimensions are set to 1.\n",
    "\n",
    "So, the list of dimensions (0, 2, 3) becomes 1011b = 13.\n",
    "\n",
    "This actually saves some typing and you only need a single number, not a list of numbers (which often makes things way easier if you are programming close to the hardware :).\n",
    "\n",
    "There is a bart tool which saves you the effort of manually calculcating bitmasks:\n",
    "\n",
    "`bart bitmask` takes a list of space-separated dimensions and outputs the correspdoning bitmask.\n",
    "\n",
    "The reverse can be accomplished by using `bart bitmask -b`.\n",
    "\n",
    "</details>"
   ]
  },
  {
   "cell_type": "code",
   "execution_count": null,
   "id": "25c780fd-7b68-42b3-9a4d-2e98c96fb75c",
   "metadata": {},
   "outputs": [],
   "source": [
    "%%bash"
   ]
  },
  {
   "cell_type": "markdown",
   "id": "293ec9c4-1ef2-4a3a-8569-d5b525264322",
   "metadata": {},
   "source": [
    "<details>\n",
    "    <summary>Show solution</summary>\n",
    "\n",
    "    %%bash\n",
    "    bart join 11 ksp_cc $(seq -s' ' -f 'ksp_%g' 4) tmp\n",
    "    bart transpose 2 11 tmp tmp\n",
    "    bart reshape $(bart bitmask 2 11) 65 1 tmp ksp_sw\n",
    "</details>"
   ]
  },
  {
   "cell_type": "markdown",
   "id": "d252f212-993f-447f-a29d-d61998f47e7a",
   "metadata": {},
   "source": [
    "✅ You should now have an output file with dimensions (256,65,1,6,1,...,1,100)\n",
    "\n",
    "To check that it worked:"
   ]
  },
  {
   "cell_type": "code",
   "execution_count": null,
   "id": "301b9e2b-e1d7-498f-a5fb-474d13aa1670",
   "metadata": {},
   "outputs": [],
   "source": [
    "%%bash\n",
    "\n",
    "bart slice 2 1 10 0 ksp_sw tmp1\n",
    "bart slice 2 0 10 1 ksp_cc tmp2\n",
    "bart nrmse tmp1 tmp2"
   ]
  },
  {
   "cell_type": "markdown",
   "id": "7b79a62f-4ede-47b9-acba-b3a483417454",
   "metadata": {},
   "source": [
    "## Trajectory\n",
    "\n",
    "Next, we need a trajectory that describes the (spatial) frequencies at which our k-space data was actually measured.\n",
    "\n",
    "bart can create turn-based trajectories using the `-t` switch of the `traj` tool.\n",
    "\n",
    "Furthermore, we need\n",
    "- the `-r` for radial\n",
    "- `-D` for double-angle\n",
    "- `-x` and `-y`,\n",
    "- `-o2`, because Siemens does default two-times oversampling.\n",
    "\n",
    "Finding the specific command line for a given dataset can be a challenge, if no further information is available."
   ]
  },
  {
   "cell_type": "code",
   "execution_count": null,
   "id": "8676c67e-d407-4abb-920d-174aa23eb0e0",
   "metadata": {},
   "outputs": [],
   "source": [
    "%%bash\n",
    "\n",
    "##Create trajectory\n",
    "bart traj -r -D -o2 -x128 -y13 -t5 trj_turns"
   ]
  },
  {
   "cell_type": "markdown",
   "id": "6573244b-e335-484e-a999-5c769a77b23c",
   "metadata": {},
   "source": [
    "Because the turn-based trajectory repeats after a few frames, the output doesn't have nearly the same shape as the ksp file.\n",
    "\n",
    "Using `repmat` (similar to np.tile), you can create an array which contains several copies of the input array.\n",
    "\n",
    "With `reshape`, you can bring that file into the same shape as the original ksp data.\n",
    "\n",
    "✏️ **Make the trajectory match the data**:\n",
    "- Use repmat and reshape to create a trajectory with 100 frames."
   ]
  },
  {
   "cell_type": "code",
   "execution_count": null,
   "id": "4a1eb3a0-9abe-4084-8e05-2a4c70fbce07",
   "metadata": {},
   "outputs": [],
   "source": [
    "%%bash"
   ]
  },
  {
   "cell_type": "markdown",
   "id": "543615d0-afc1-44ae-a2ec-dc2c58385dc7",
   "metadata": {},
   "source": [
    "<details>\n",
    "    <summary>Show solution</summary>\n",
    "    \n",
    "    %%bash\n",
    "    bart repmat 11 20 trj_turns tmp\n",
    "    bart reshape $(bart bitmask 10 11) 100 1 tmp trj\n",
    "</details>"
   ]
  },
  {
   "cell_type": "markdown",
   "id": "c084d1cf-d52b-4d1c-aa37-2eb67f96bd20",
   "metadata": {},
   "source": [
    "✅ You should now have an output file with dimensions (3, 256, 13, 1, ..., 1, 100)\n",
    "\n",
    "Trajectories, by convention, use the first axis for the different spatial frequency axes (k_x, k_y, k_z).\n",
    "\n",
    "For any bart tool which needs a trajectory, we need k-space shape to start with a singleton dimension for this reason - that's the reason for the reshape step in the beginning."
   ]
  },
  {
   "cell_type": "markdown",
   "id": "45342eeb-640a-427d-842d-390be2332df8",
   "metadata": {},
   "source": [
    "Next, we process the trajectory in the same manner as the k-space beforehand to generate the 'sliding window' trajectory:\n",
    "\n",
    "✏️ **Re-Use the code from before to create a trajectory matching the sliding window data**:"
   ]
  },
  {
   "cell_type": "code",
   "execution_count": null,
   "id": "75c33e32-73bf-486d-947c-5a235f043cef",
   "metadata": {},
   "outputs": [],
   "source": [
    "%%bash"
   ]
  },
  {
   "cell_type": "markdown",
   "id": "59cfc14f-e262-4fcb-8969-8842d21db91d",
   "metadata": {},
   "source": [
    "<details>\n",
    "    <summary>Show solution</summary>\n",
    "    \n",
    "    %%bash\n",
    "    ## create sliding window traj.\n",
    "    for i in $(seq 4); do\n",
    "        bart extract 10 $i 100 trj trj_$i\n",
    "        bart resize 10 100 trj_$i trj_$i\n",
    "    done\n",
    "    bart join 11 trj $(seq -s' ' -f 'trj_%g' 4) tmp\n",
    "    bart transpose 2 11 tmp tmp\n",
    "    bart reshape $(bart bitmask 2 11) 65 1 tmp trj_sw\n",
    "</details>"
   ]
  },
  {
   "cell_type": "code",
   "execution_count": null,
   "id": "6dce3a31-d675-413a-89f0-cffee6a46dc0",
   "metadata": {},
   "outputs": [],
   "source": [
    "!bart show -m trj_sw\n",
    "!bart show -m ksp_sw"
   ]
  },
  {
   "cell_type": "markdown",
   "id": "5728efc6-00a3-4a86-8724-afd97ee94e18",
   "metadata": {},
   "source": [
    "✅ You should now have two files:\n",
    "- ksp_sw with dimensions (1, 256, 13, 1, ..., 1, 100) and\n",
    "- trj_sw with dimensions (3, 256, 13, 1, ..., 1, 100)\n",
    "\n",
    "## Ram-Lak filter and reconstruction\n",
    "\n",
    "With trajectory in place, we can construct the Ram-Lak filter and multiply it with the k-space.\n",
    "\n",
    "For multiplication (and accumulation), `bart fmac` can be used.\n",
    "\n",
    "✏️ **k-Space filtering:**\n",
    "- Use bart rss to create a Ram-Lak filter\n",
    "- Create a filtered k-space by multiplying the filter to it"
   ]
  },
  {
   "cell_type": "code",
   "execution_count": null,
   "id": "2b5102bc-08da-4b66-bf0a-1ab558a33063",
   "metadata": {},
   "outputs": [],
   "source": [
    "%%bash\n"
   ]
  },
  {
   "cell_type": "markdown",
   "id": "136bb6d1-b285-4a80-8d1e-93925125a6d5",
   "metadata": {},
   "source": [
    "✏️ **Use the adjoint NuFFT to reconstruct the filtered k-space.**"
   ]
  },
  {
   "cell_type": "code",
   "execution_count": null,
   "id": "22709628-32e0-49af-944e-ddf5f5a93003",
   "metadata": {},
   "outputs": [],
   "source": [
    "!bart nufft"
   ]
  },
  {
   "cell_type": "markdown",
   "id": "e8d512df-bbb5-4d18-ad12-24378c96c513",
   "metadata": {},
   "source": [
    "The resulting image still has 6 channels - using a root-sum-of-squares coil combination, we can create a single image / movie:\n",
    "\n",
    "✏️ Combine the coils of the output image using root-sum-of-squares:"
   ]
  },
  {
   "cell_type": "code",
   "execution_count": null,
   "id": "03f4f3ae-8184-43cb-ae20-08ed6bddc458",
   "metadata": {},
   "outputs": [],
   "source": [
    "!bart rss "
   ]
  },
  {
   "cell_type": "markdown",
   "id": "8badb39c-fd51-4179-a42a-564f68084ea2",
   "metadata": {},
   "source": [
    "<details>\n",
    "    <summary>Show solutions</summary>\n",
    "\n",
    "    %%bash\n",
    "    \n",
    "    bart rss 1 trj_sw filter\n",
    "    bart fmac filter ksp_sw ksp_f\n",
    "    bart nufft -a trj_sw ksp_f coil_img\n",
    "    bart rss 8 coil_img img\n",
    "\n",
    "</details>"
   ]
  },
  {
   "cell_type": "markdown",
   "id": "91d55ba1-dcf6-4cac-856a-58dd8db64716",
   "metadata": {},
   "source": [
    "✅ Have a look at the resulting image using view:"
   ]
  },
  {
   "cell_type": "code",
   "execution_count": null,
   "id": "df8f0890-8fac-4808-9386-523a916669da",
   "metadata": {},
   "outputs": [],
   "source": [
    "!bart view img"
   ]
  },
  {
   "cell_type": "markdown",
   "id": "9c21f2f9-442e-4057-9e14-a3a8950634ed",
   "metadata": {},
   "source": [
    "# Part 2: Iterative reconstruction\n",
    "\n",
    "In the last part, a simple, non-iterative algorithm was used to reconstruct a real-time dataset.\n",
    "\n",
    "This part focusses on a step-wise improval of the algorithm.\n",
    "\n",
    "## Inverse NuFFT\n",
    "\n",
    "As a first step, replace adjoint NuFFT + Ram-Lak filter by an actual inverse NuFFT.\n",
    "In principle, this is already an \"iterative reconstruction\"!\n",
    "\n",
    "This also means it will be slow. To get some results quickly, try it first on the first 20 frames!\n",
    "\n",
    "✏️ **inverse NuFFT reco**\n",
    "- Extract the first 20 frames from sliding window ksp and trajectory\n",
    "- Run an inverse NuFFT and look at te results"
   ]
  },
  {
   "cell_type": "code",
   "execution_count": null,
   "id": "82775203-fc29-433b-adb4-da5c2ee5db83",
   "metadata": {},
   "outputs": [],
   "source": [
    "%%bash"
   ]
  },
  {
   "cell_type": "markdown",
   "id": "de8bf28f-f1be-4c62-a4be-85755ea5588a",
   "metadata": {},
   "source": [
    "<details>\n",
    "    <summary>Show solution</summary>\n",
    "    \n",
    "    %%bash\n",
    "    bart extract 10 0 20 ksp_sw ksp_small\n",
    "    bart extract 10 0 20 trj_sw trj_small\n",
    "    bart nufft -i trj_small ksp_small coil_img_inv\n",
    "</details>"
   ]
  },
  {
   "cell_type": "code",
   "execution_count": null,
   "id": "e6e41a04-f076-4148-b207-81ae00c64845",
   "metadata": {},
   "outputs": [],
   "source": [
    "!view coil_img_inv"
   ]
  },
  {
   "cell_type": "markdown",
   "id": "7a0108f5-f744-4523-9a1b-708b4898cf5a",
   "metadata": {},
   "source": [
    "What happened?! The image looks actually worse than before.\n",
    "\n",
    "The artefacts are characteristic for a NuFFT on a too-small field of view.\n",
    "\n",
    "The answer is in the `-o2` option we used for creating the trajectory earlier.\n",
    "From the $\\Delta k$ in the trajectory and the number of samples, the NuFFT can infer the original resolution.\n",
    "However, as is not unusual for radial cardiac MRI, there are objects outside the selected FoV, which would lead to aliasing.\n",
    "\n",
    "Due to oversampling and radial sampling, we actually acquired with a twice as large FoV, but the NuFFT doesn't know about it.\n",
    "\n",
    "By multiplying the trajectory with the desired \"overgridding\" factor, we can reconstruct a larger FoV. `1.5` is a typical value.\n",
    "We don't just use \"2\" because that would reconstruct a lot of empty air.\n",
    "\n",
    "The problem did not occur with the previous reco, because we used the adjoint NuFFT, which never needs to estimate an image size (the normal NuFFT does not need to estimate any sizes either, because they are given by the input data shape).\n",
    "\n",
    "✏️ **inverse NuFFT reco with overgridding**\n",
    "\n",
    "- scale the trajectory so as to reconstruct on an 1.5oversampled grid\n",
    "- re-run the iNuFFT\n",
    "- Crop the resulting image, to get the same FoV as in the adjoint NuFFT Reco (`bart resize -c`)\n",
    "- Use `bart rss` to combine the channels"
   ]
  },
  {
   "cell_type": "code",
   "execution_count": null,
   "id": "1256ef78-bf5b-41e4-ad92-1d536b498ac0",
   "metadata": {},
   "outputs": [],
   "source": [
    "%%bash\n"
   ]
  },
  {
   "cell_type": "markdown",
   "id": "2dd54396-f847-454f-b039-2d1b63bfa860",
   "metadata": {},
   "source": [
    "<details>\n",
    "    <summary>Show solution</summary>\n",
    "    \n",
    "    %%bash\n",
    "    bart scale 1.5 trj_small trj_small_os\n",
    "    bart nufft -i trj_small_os ksp_small coil_img_inv_os\n",
    "    bart resize -c 0 128 1 128 coil_img_inv_os coil_img_inv\n",
    "    bart rss 8 coil_img_inv img_inv\n",
    "\n",
    "</details>"
   ]
  },
  {
   "cell_type": "markdown",
   "id": "fe15712b-0dca-4dba-9acd-27070046177b",
   "metadata": {},
   "source": [
    "✅ Compare both images using view:\n",
    "\n",
    "What do you see? Does it match your expecations?"
   ]
  },
  {
   "cell_type": "code",
   "execution_count": null,
   "id": "efe50b8d-d241-497a-9c81-3ab5a6e3e65f",
   "metadata": {},
   "outputs": [],
   "source": [
    "!view img_inv img"
   ]
  },
  {
   "cell_type": "markdown",
   "id": "ee06c6da-b584-4945-b55c-4f61898a8f22",
   "metadata": {},
   "source": [
    "### Bonus Exercise: iNuFFT without sliding window\n",
    "\n",
    "Maybe you are a bit disappointed by the \"washy\" appearance of the iNuFFT result.\n",
    "\n",
    "One probable cause is \"data inconsistency\": Data within a single sliding window k-space frame actually represents several successive timepoints, and there was motion between this timepoints.\n",
    "Thus, there is no 'correct' image which the NuFFT could find that describes the data.\n",
    "\n",
    "What happens if you 'get rid' of the sliding window already at this point?\n",
    "Is inverse NuFFT / \"iterative reco\", but without PI/CS sufficient for RT-MRI?\n",
    "\n",
    "Repeat the previous steps, but use the original (coil-compressed) k-space and traj instead of the sliding window variant:\n",
    "\n",
    "✏️ inverse NuFFT reco without sliding window\n",
    "\n",
    "- Extract the first 20 frames from the Non-sliding window ksp (ksp_cc) and trajectory (trj)\n",
    "- scale the trajectory\n",
    "- re-run the iNuFFT\n",
    "- Crop the resulting image\n",
    "- combine the channels\n",
    "- Compare!"
   ]
  },
  {
   "cell_type": "code",
   "execution_count": null,
   "id": "19bf787d-a5d1-4d92-b333-e547b7d1f467",
   "metadata": {},
   "outputs": [],
   "source": [
    "%%bash\n"
   ]
  },
  {
   "cell_type": "markdown",
   "id": "e99a2d01-c798-48a5-841e-e816dfccccc4",
   "metadata": {},
   "source": [
    "<details>\n",
    "    <summary>Show solution</summary>\n",
    "    \n",
    "    %%bash\n",
    "    \n",
    "    bart extract 10 0 20 ksp_cc ksp_small2\n",
    "    bart extract 10 0 20 trj trj_small2\n",
    "    \n",
    "    \n",
    "    bart scale 1.5 trj_small2 trj_small_os2\n",
    "    bart nufft -i trj_small_os2 ksp_small2 coil_img_inv_os2\n",
    "    bart resize -c 0 128 1 128 coil_img_inv_os2 coil_img_inv2\n",
    "    bart rss 8 coil_img_inv2 img_inv2\n",
    "\n",
    "</details>\n"
   ]
  },
  {
   "cell_type": "code",
   "execution_count": null,
   "id": "f923d42e-6de2-41f2-9429-b4f15b69cb1c",
   "metadata": {},
   "outputs": [],
   "source": [
    "!view img_inv img_inv2"
   ]
  },
  {
   "cell_type": "markdown",
   "id": "53cdbc88-be6c-4c5f-bab9-aa00e0aa2453",
   "metadata": {},
   "source": [
    "## PI/CS\n",
    "\n",
    "### Sensitivities\n",
    "\n",
    "A big factor we haven't used so far is parallel imaging.\n",
    "\n",
    "However, to use parallel imaging, you have to estimate coil sensitivities.\n",
    "\n",
    "This is done in the next step using a bart command named \"ncalib\". We will later see how it works;"
   ]
  },
  {
   "cell_type": "code",
   "execution_count": null,
   "id": "2c42e8c4-344f-4b9d-8506-38ba9abdb534",
   "metadata": {},
   "outputs": [],
   "source": [
    "%%bash\n",
    "\n",
    "bart extract 10 0 5 ksp_cc ksp_f0\n",
    "bart reshape $(bart bitmask 2 10) 65 1 ksp_f0 ksp_f0\n",
    "bart reshape $(bart bitmask 2 10) 65 1 trj_turns trj_f0\n",
    "\n",
    "bart scale 1.5 trj_f0 trj_f0\n",
    "\n",
    "bart ncalib -t trj_f0 ksp_f0 coils"
   ]
  },
  {
   "cell_type": "markdown",
   "id": "a057936e-ccd7-430e-b815-213efe160cef",
   "metadata": {},
   "source": [
    "### Reco\n",
    "\n",
    "Equipped with the coil sensitivities, which should now be stored in a file called coils(.cfl/hdr), classical parallel imaging becomes possible:\n",
    "\n",
    "✏️ **Parallel Imaging**\n",
    "- BART provides the pics tool. Run a simple pics reconstruction.\n",
    "\n",
    "Note: What applied for the iNUFFT applies for pics as well: The trajectory needs to be scaled, and the image cropped afterwards."
   ]
  },
  {
   "cell_type": "code",
   "execution_count": null,
   "id": "bd680e9c-b342-4596-8a74-f62c721bfedb",
   "metadata": {},
   "outputs": [],
   "source": [
    "%%bash"
   ]
  },
  {
   "cell_type": "markdown",
   "id": "9c66b10b-6ab9-4092-8330-55fe6cf2f368",
   "metadata": {},
   "source": [
    "<details>\n",
    "    <summary>Show solution</summary>\n",
    "    \n",
    "    bart pics -t trj_small_os ksp_small coils img_pics_os\n",
    "    bart resize -c 0 128 1 128 img_pics_os img_pics\n",
    "</details>"
   ]
  },
  {
   "cell_type": "code",
   "execution_count": null,
   "id": "bb04aef8-1d0d-4331-bc9e-64510cba95ee",
   "metadata": {},
   "outputs": [],
   "source": [
    "!view img_pics"
   ]
  },
  {
   "cell_type": "markdown",
   "id": "db4a503d-cf5a-4a75-99bb-fcca382adac0",
   "metadata": {},
   "source": [
    "✅ Compare with the adjoint NuFFT result.\n",
    "\n",
    "The result should look slightly better.\n",
    "\n",
    "\n",
    "### Bonus: PICS without sliding window\n",
    "\n",
    "Is parallel imaging / compressed sensing enough to do RT-MRI?\n",
    "\n",
    "✏️ **Try the above pics command with the non-sliding window dataset**\n",
    "\n",
    "If you skipped the previous bonus exercise, you can extract the first 20 frames from traj. and k-space first, and rescale the trajectory, with the following commands:"
   ]
  },
  {
   "cell_type": "code",
   "execution_count": null,
   "id": "30604298-52df-48ff-bad2-353206234312",
   "metadata": {},
   "outputs": [],
   "source": [
    "%%bash\n",
    "bart extract 10 0 20 ksp_cc ksp_small2\n",
    "bart extract 10 0 20 trj trj_small2\n",
    "bart scale 1.5 trj_small2 trj_small_os2"
   ]
  },
  {
   "cell_type": "markdown",
   "id": "c5fee5cf-8ee0-409e-902f-983ba255f82e",
   "metadata": {},
   "source": [
    "---"
   ]
  },
  {
   "cell_type": "code",
   "execution_count": null,
   "id": "41f2dd41-4529-446a-b50a-ea731da25797",
   "metadata": {},
   "outputs": [],
   "source": [
    "%%bash"
   ]
  },
  {
   "cell_type": "markdown",
   "id": "1b335850-dff1-4edf-981f-74d11b19147d",
   "metadata": {},
   "source": [
    "<details>\n",
    "    <summary>Show solution</summary>\n",
    "\n",
    "    bart pics -t trj_small_os2 ksp_small2 coils img_pics_os2\n",
    "    bart resize -c 0 128 1 128 img_pics_os2 img_pics2\n",
    "</details>"
   ]
  },
  {
   "cell_type": "code",
   "execution_count": null,
   "id": "e4ebf196-24d4-4a32-80af-714bf252b79e",
   "metadata": {},
   "outputs": [],
   "source": [
    "!view img_pics2 img"
   ]
  },
  {
   "cell_type": "markdown",
   "id": "aedfa5d3-dc4c-4102-ab2a-afe866a44153",
   "metadata": {},
   "source": [
    "### Bonus 2: Add Regularization\n",
    "\n",
    "This is intended to be completed after the iGRASP part is done: The idea is to use the TV Regularization parameter on this dataset."
   ]
  },
  {
   "cell_type": "code",
   "execution_count": null,
   "id": "f386c7ae-9e37-43c8-b6c3-416558768b9d",
   "metadata": {},
   "outputs": [],
   "source": [
    "%%bash"
   ]
  },
  {
   "cell_type": "markdown",
   "id": "8c8aac6d-73b9-4cc4-bc3e-97fb343a9c32",
   "metadata": {},
   "source": [
    "<details>\n",
    "    <summary>Show solution</summary>\n",
    "    \n",
    "    %%bash\n",
    "    bart pics -RT:1024:0:0.01 -t trj_small_os2 ksp_small2 coils img_pics_os3\n",
    "    bart resize -c 0 128 1 128 img_pics_os3 img_pics3\n",
    "</details>"
   ]
  },
  {
   "cell_type": "code",
   "execution_count": null,
   "id": "7e347fce-eb0b-4037-9d30-c363a84bb554",
   "metadata": {},
   "outputs": [],
   "source": [
    "!view img_pics3"
   ]
  }
 ],
 "metadata": {
  "kernelspec": {
   "display_name": "Python 3 (ipykernel)",
   "language": "python",
   "name": "python3"
  },
  "language_info": {
   "codemirror_mode": {
    "name": "ipython",
    "version": 3
   },
   "file_extension": ".py",
   "mimetype": "text/x-python",
   "name": "python",
   "nbconvert_exporter": "python",
   "pygments_lexer": "ipython3",
   "version": "3.13.2"
  }
 },
 "nbformat": 4,
 "nbformat_minor": 5
}
