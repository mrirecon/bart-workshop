{
 "cells": [
  {
   "cell_type": "markdown",
   "metadata": {},
   "source": [
    "# Image Reconstruction in a Nutshell - with BART\n",
    "\n",
    "## PhD-Training of DS-ISMRM in Ulm\n",
    "\n",
    "- 17. & 18. March 2025"
   ]
  },
  {
   "cell_type": "markdown",
   "metadata": {},
   "source": [
    "The purpose of this notebook is to introduce basic concepts of the [BART toolbox](https://mrirecon.github.io/bart), and its use as a tool for reconstruction.\n",
    "\n",
    "We recommend checking other points of reference, primarily available in the following locations:\n",
    "- [BART Workshops](https://github.com/mrirecon/bart-workshop)\n",
    "- [BART Webinars](https://github.com/mrirecon/bart-webinars) (and [webinar recordings](https://www.youtube.com/@bart-toolboxdepartmental7435/playlists)\\)"
   ]
  },
  {
   "cell_type": "markdown",
   "metadata": {},
   "source": [
    "## On the Idea of this Notebook\n",
    "\n",
    "Many tutorials on BART are provided as Jupyter notebooks. The reason behind this is that Jupyter Notebooks are a great tool to combine code and markdown text in a single document, share them with others, and run them on online hosted services like Google Colab. It should be mentioned that most users of BART don't use Jupyter Notebooks, but rather write scripts to write their reconstruction pipelines.\n",
    "\n",
    "In this interactive session, we recommend running BART calls in the terminal, and use this notebook as a reference. Nevertheless, we will provide some examples of how to run BART commands in this notebook to be self-contained.\n",
    "\n",
    "**💡Hint:💡**\n",
    "\n",
    "- **`%%bash` Cells in Jupyter Notebooks:**\n",
    "  In Google Colab, `%%bash` cells allow you to run bash commands directly within your notebook.\n",
    "  Simply prefix your cell with `%%bash`, and you can run any shell command, including calls to BART tools, just as you would in a terminal.\n",
    "  If you only have a single command you can also prefix it with `!` for the same effect.\n",
    "\n",
    "## Content\n",
    "\n",
    "* BART Fundamentals\n",
    "  * BART Command Structure\n",
    "  * File Formats and Metadata\n",
    "  * Python Bindings\n",
    "  * Look at Everything (`bart view`)\n",
    "* An Image Reconstruction Pipeline in BART\n",
    "  * Downloading Data\n",
    "  * Reconstruction of Fully-Sampled Data\n",
    "  * Undersampling\n",
    "  * Coil Compression\n",
    "  * Coil Sensitivity Estimation\n",
    "  * Reconstruction with PICS\n",
    "* Various Aspects (if time allows)\n",
    "  * NLINV for Joint Estimation of Coils and Image\n",
    "  * Removing Frequency Oversampling"
   ]
  },
  {
   "cell_type": "markdown",
   "metadata": {},
   "source": [
    "## Installation\n",
    "\n",
    "You can find more information on BART on the [Website](https://mrirecon.github.io/bart/)."
   ]
  },
  {
   "cell_type": "markdown",
   "metadata": {},
   "source": [
    "## Setup\n",
    "\n",
    "As a first step, you should check where BART is installed on your system and which version you are using:"
   ]
  },
  {
   "cell_type": "code",
   "execution_count": 1,
   "metadata": {},
   "outputs": [
    {
     "name": "stdout",
     "output_type": "stream",
     "text": [
      "# BART location: \n",
      "/home/mblum/Bart/bart/bart\n",
      "# BART version: \n",
      "v0.9.00-755-ga902642\n"
     ]
    }
   ],
   "source": [
    "%%bash\n",
    "\n",
    "echo \"# BART location: \"\n",
    "which bart\n",
    "\n",
    "echo \"# BART version: \"\n",
    "bart version"
   ]
  },
  {
   "cell_type": "markdown",
   "metadata": {},
   "source": [
    "## BART Fundamentals\n",
    "BART provides a number of tools for MR image reconstruction and multi-dimensional array manipulation. We can get a list of them by running `bart` with no arguments.\n",
    "\n",
    "Note: The ! character indicates that the following cell should be executed in bash vs. the native python kernel. It is not necessary when running BART commands from your terminal.\n",
    "\n"
   ]
  },
  {
   "cell_type": "code",
   "execution_count": 2,
   "metadata": {},
   "outputs": [
    {
     "name": "stdout",
     "output_type": "stream",
     "text": [
      "BART. Available commands are:\n",
      "affinereg   avg         bench       bin         bitmask     cabs        \n",
      "calc        caldir      calmat      carg        casorati    cc          \n",
      "ccapply     cdf97       circshift   conj        conv        conway      \n",
      "copy        cpyphs      creal       crop        delta       denoise     \n",
      "ecalib      ecaltwo     epg         estdelay    estdims     estmotion   \n",
      "estshift    estvar      extract     fakeksp     fft         fftmod      \n",
      "fftrot      fftshift    filter      flatten     flip        fmac        \n",
      "fovshift    grog        homodyne    ictv        index       interpolate \n",
      "invert      itsense     join        looklocker  lrmatrix    mandelbrot  \n",
      "measure     mip         mnist       moba        mobafit     morphop     \n",
      "multicfl    ncalib      nlinv       nlinvnet    nlmeans     nnet        \n",
      "noise       normalize   nrmse       nufft       nufftbase   onehotenc   \n",
      "ones        pattern     phantom     pics        pocsense    poisson     \n",
      "pol2mask    poly        psf         raga        reconet     repmat      \n",
      "reshape     resize      rmfreq      rof         roistat     rovir       \n",
      "rss         rtnlinv     sake        saxpy       scale       sdot        \n",
      "show        signal      sim         slice       spow        sqpics      \n",
      "squeeze     ssa         std         svd         tee         tensorflow  \n",
      "tgv         threshold   toimg       traj        transpose   trx         \n",
      "twixread    upat        var         vec         version     walsh       \n",
      "wave        wavelet     wavepsf     whiten      window      wshfl       \n",
      "zeros       zexp        \n"
     ]
    }
   ],
   "source": [
    "# get a list of BART commands by running bart with no arguments:\n",
    "! bart"
   ]
  },
  {
   "cell_type": "markdown",
   "metadata": {},
   "source": [
    "### BART Command Structure\n",
    "\n",
    "All BART commands are structured in the following way:\n",
    "\n",
    "> **`bart`** + **`command`** + **`options`** + **`input / output`**\n",
    "\n",
    "Each BART command consists of a number of optional arguments, followed by input and output files. To get some information about a command, use the **-h** flag. Optional arguments are indicated by brackets, and files are indicated by `<,>` symbols.\n",
    "\n",
    "For example, the following command demonstrates the full suite of options for generating a numerical phantom in the image or k-space domain:"
   ]
  },
  {
   "cell_type": "code",
   "execution_count": 3,
   "metadata": {},
   "outputs": [
    {
     "name": "stdout",
     "output_type": "stream",
     "text": [
      "Usage: phantom [-s d] [-S d] [-k] [-t <file>] [-G] [-T] [--NIST] [--SONAR] [--BRAIN] [--ELLIPSOID] [--ellipsoid_center d:d:d] [--ellipsoid_axes f:f:f] [-N d] [-B] [--FILE <file>] [-x d] [-g d] [-3] [-b] [-r d] [--rotation-angle f] [--rotation-steps d] [--coil ...] <output> \n",
      "\n",
      "Image and k-space domain phantoms.\n",
      "\n",
      "-s nc                       nc sensitivities\n",
      "-S nc                       Output nc sensitivities\n",
      "-k                          k-space\n",
      "-t file                     trajectory\n",
      "-G                          geometric object phantom\n",
      "-T                          tubes phantom\n",
      "--NIST                      NIST phantom (T2 sphere)\n",
      "--SONAR                     Diagnostic Sonar phantom\n",
      "--BRAIN                     BRAIN geometry phantom\n",
      "--ELLIPSOID                 Ellipsoid.\n",
      "--ellipsoid_center d:d:d    x,y,z center coordinates of ellipsoid.\n",
      "--ellipsoid_axes f:f:f      Axes lengths of ellipsoid.\n",
      "-N num                      Random tubes phantom with num tubes\n",
      "-B                          BART logo\n",
      "--FILE name                 Arbitrary geometry based on multicfl file.\n",
      "-x n                        dimensions in y and z\n",
      "-g n=1,2,3                  select geometry for object phantom\n",
      "-3                          3D\n",
      "-b                          basis functions for geometry\n",
      "-r d                        random seed initialization. '0' uses the default seed.\n",
      "--rotation-angle [deg]      Angle of rotation\n",
      "--rotation-steps n          Number of rotation steps\n",
      "--coil ...                  configure type of coil\n",
      "-h                          help\n"
     ]
    }
   ],
   "source": [
    "! bart phantom -h"
   ]
  },
  {
   "cell_type": "markdown",
   "metadata": {},
   "source": [
    "The `phantom` tool includes the option `-k` to create it in k-space, and `-x` to specify the size. Let's generate a 2D phantom in image space:"
   ]
  },
  {
   "cell_type": "code",
   "execution_count": 4,
   "metadata": {},
   "outputs": [],
   "source": [
    "! bart phantom phantom"
   ]
  },
  {
   "cell_type": "markdown",
   "metadata": {},
   "source": [
    "### File formats and metadata\n",
    "\n",
    "The phantom image \"*phantom*\" is stored in a BART-specific file format in your current working directory. If you open the directory, you will see two files: `phantom.cfl` and `phantom.hdr`. These files contain the raw data and metadata, respectively.\n",
    "\n",
    "BART data files are (typically) stored in two files:\n",
    "\n",
    "* A header (`.hdr`) file which contains metadata (dimensions, file type, etc.)\n",
    "\n",
    "* A complex float (`.cfl`) file which contains the raw data.\n",
    "\n",
    "The header file can be opened and read as a normal text file, while the raw data is a binary file. The raw data is a multi-dimensional array of single-precision complex floats, stored in col-major order with interleaved real and imaginary components.\n",
    "\n",
    "Open the header file to see the metadata, you can use any text editor or the `cat` command in the terminal:\n"
   ]
  },
  {
   "cell_type": "code",
   "execution_count": 5,
   "metadata": {},
   "outputs": [
    {
     "name": "stdout",
     "output_type": "stream",
     "text": [
      "# Dimensions\n",
      "128 128 1 1 1 1 1 1 1 1 1 1 1 1 1 1 \n",
      "# Command\n",
      "phantom phantom \n",
      "# Files\n",
      " >phantom\n",
      "# Creator\n",
      "BART v0.9.00-755-ga902642\n"
     ]
    }
   ],
   "source": [
    "! cat phantom.hdr"
   ]
  },
  {
   "cell_type": "markdown",
   "metadata": {},
   "source": [
    "As you can see, the header file contains information about the dimensions of the data which is in our case a 2D image of size 128x128. Generally, MRI data can be very high-dimensional, so BART is designed to handle multi-dimensional (up to 16-dimensional) data. If you are familiar with numpy, a 16 dimensional numpy array is the equivalent. However, in most applications, many dimensions are singleton, i.e. have size 1. For some tools (ecalib, pics, nlinv, ...), specific dimensions have a special meaning, so it is generally a good idea to stick to the default dimension order:\n",
    "\n",
    "#### BART Data Format for Cartesian Data\n",
    "\n",
    "For our Cartesian data, BART expects the following dimension order:\n",
    "\n",
    "| Index | Dimension Name | Description |\n",
    "|-------|----------------|-------------|\n",
    "| 0     | READ_DIM       | Readout dimension |\n",
    "| 1     | PHS1_DIM       | First phase-encoding dimension |\n",
    "| 2     | PHS2_DIM       | Second phase-encoding dimension |\n",
    "| 3     | COIL_DIM       | Receiver coil dimension |\n",
    "| 4     | MAPS_DIM       | Maps dimension (e.g., for multiple sets of sensitivity maps) |\n",
    "| 5     | TE_DIM         | Echo time dimension |\n",
    "| 6     | COEFF_DIM      | Coefficient dimension (e.g., for parameter maps) |\n",
    "| ...   | ...            | ... |\n",
    "| 10    | TIME_DIM       | Dimension for time series |\n",
    "| ...   | ...            | ... |\n",
    "\n",
    "There is also a bart command to display the dimensions of a file, `show`:"
   ]
  },
  {
   "cell_type": "code",
   "execution_count": 6,
   "metadata": {},
   "outputs": [
    {
     "name": "stdout",
     "output_type": "stream",
     "text": [
      "Type: complex float\n",
      "Dimensions: 16\n",
      "AoD:\t128\t128\t1\t1\t1\t1\t1\t1\t1\t1\t1\t1\t1\t1\t1\t1\n"
     ]
    }
   ],
   "source": [
    "! bart show -m phantom"
   ]
  },
  {
   "cell_type": "markdown",
   "metadata": {},
   "source": [
    "Note that the file extension is not required when using the BART commands."
   ]
  },
  {
   "cell_type": "markdown",
   "metadata": {},
   "source": [
    "### Python Bindings\n",
    "\n",
    "BART comes equipped with Python bindings that easily integrate with popular scientific computing libraries in Python. The python bindings provide functions to read and write NumPy arrays as BART data files. Moreover, you can apply BART commands directly to NumPy arrays.\n"
   ]
  },
  {
   "cell_type": "markdown",
   "metadata": {},
   "source": [
    "<details>\n",
    "  <summary>If you are interested you can find a more detailed explanation of the Python bindings by expanding this cell.</summary>\n",
    "\n",
    "If you're running in Colab, the paths should be updated and you should be all set to run the following demos.\n",
    "\n",
    "If you are running locally, you will need to directly import the bart module. To do this, you can add BART's python directory to your `PYTHONPATH` environment variable. Add the following line to your .bashrc to do this:\n",
    "\n",
    "```bash\n",
    "export PYTHONPATH=\"${BART_TOOLBOX_PATH}/python:$PYTHONPATH\"\n",
    "```\n",
    "\n",
    "Where `BART_TOOLBOX_PATH` is the location of your BART install.\n",
    "\n",
    "This way, we can import the bart module as well as cfl, our utility file for dealing with BART's data format: a .hdr header file and a .cfl file of complex-float data.\n",
    "\n",
    "If you're already running the demo in Colab, you may have to manually modify the path, which we do here:\n",
    "</details>"
   ]
  },
  {
   "cell_type": "code",
   "execution_count": 7,
   "metadata": {},
   "outputs": [
    {
     "name": "stdout",
     "output_type": "stream",
     "text": [
      "/home/mblum/Bart/bart\n",
      "Processing /home/mblum/Bart/bart/pkg/python\n",
      "  Installing build dependencies: started\n",
      "  Installing build dependencies: finished with status 'done'\n",
      "  Getting requirements to build wheel: started\n",
      "  Getting requirements to build wheel: finished with status 'done'\n",
      "  Preparing metadata (pyproject.toml): started\n",
      "  Preparing metadata (pyproject.toml): finished with status 'done'\n",
      "Requirement already satisfied: numpy in /home/mblum/.anaconda3/lib/python3.10/site-packages (from bart==0.9.0) (1.23.5)\n",
      "Building wheels for collected packages: bart\n",
      "  Building wheel for bart (pyproject.toml): started\n",
      "  Building wheel for bart (pyproject.toml): finished with status 'done'\n",
      "  Created wheel for bart: filename=bart-0.9.0-py3-none-any.whl size=7318 sha256=77bb250d0dd8941457792aeb0c60b18a11e48a52bae40724d4167f93887edd5f\n",
      "  Stored in directory: /tmp/pip-ephem-wheel-cache-kze2xlyd/wheels/b1/6c/e1/e76a30b8436030ee4d10aa23c8dae084a11860ed38e6cb610a\n",
      "Successfully built bart\n",
      "Installing collected packages: bart\n",
      "  Attempting uninstall: bart\n",
      "    Found existing installation: bart 0.9.0\n",
      "    Uninstalling bart-0.9.0:\n",
      "      Successfully uninstalled bart-0.9.0\n",
      "Successfully installed bart-0.9.0\n"
     ]
    }
   ],
   "source": [
    "%%bash\n",
    "\n",
    "# we can use pip install to install the Python bindings using the package description in the pkg/python subdirectory\n",
    "echo $BART_TOOLBOX_PATH\n",
    "pip install $BART_TOOLBOX_PATH/pkg/python"
   ]
  },
  {
   "cell_type": "code",
   "execution_count": 8,
   "metadata": {},
   "outputs": [
    {
     "data": {
      "image/png": "[encoded data removed]",
      "text/plain": [
       "<Figure size 640x480 with 1 Axes>"
      ]
     },
     "metadata": {},
     "output_type": "display_data"
    }
   ],
   "source": [
    "#This is now a python cell\n",
    "\n",
    "import cfl\n",
    "phan = cfl.readcfl('phantom')\n",
    "\n",
    "from matplotlib import pyplot as plt\n",
    "plt.imshow(phan.real)\n",
    "plt.show()"
   ]
  },
  {
   "cell_type": "markdown",
   "metadata": {},
   "source": [
    "### Look at Everything\n",
    "\n",
    "Obviously a golden rule of image reconstruction (and science in general) is to always look at your data and intermediate results. Does your data make sense? Do your dimensions make sense? Do your coil sensitivities make sense? Do your reconstructions make sense? Always look at your data!\n",
    "\n",
    "The **view** tool is a simple way to visualize image data. It does not directly come with a BART installation but can be installed on Debian-based systems with 'apt install bart-view' or can be installed following the instructions at [GitHub](https://github.com/mrirecon/view). Alternatively, you could load the data into Python/Matlab and view it there.\n",
    "\n",
    "Let's view the phantom image we generated earlier:\n"
   ]
  },
  {
   "cell_type": "code",
   "execution_count": 9,
   "metadata": {},
   "outputs": [],
   "source": [
    "!bart view phantom"
   ]
  },
  {
   "cell_type": "markdown",
   "metadata": {},
   "source": [
    "## An Image Reconstruction Pipeline in BART"
   ]
  },
  {
   "cell_type": "markdown",
   "metadata": {},
   "source": [
    "### Download Data\n",
    "\n",
    "For this tutorial, we use a fully-sampled Cartesian brain dataset available at [Zenodo](https://zenodo.org/record/14497769). The dataset is already in the BART format. So you can investigate it with the `show` command or view it with the `view` command."
   ]
  },
  {
   "cell_type": "code",
   "execution_count": 10,
   "metadata": {},
   "outputs": [
    {
     "name": "stdout",
     "output_type": "stream",
     "text": [
      "--2025-03-11 13:29:22--  https://zenodo.org/records/14497769/files/ksp_fully.hdr\n",
      "Resolving zenodo.org (zenodo.org)... 188.185.48.194, 188.185.43.25, 188.185.45.92, ...\n",
      "Connecting to zenodo.org (zenodo.org)|188.185.48.194|:443... connected.\n",
      "HTTP request sent, awaiting response... 200 OK\n",
      "Length: 144 [application/octet-stream]\n",
      "Saving to: ‘ksp_fully.hdr’\n",
      "\n",
      "ksp_fully.hdr       100%[===================>]     144  --.-KB/s    in 0.02s   \n",
      "\n",
      "2025-03-11 13:29:23 (7.80 KB/s) - ‘ksp_fully.hdr’ saved [144/144]\n",
      "\n",
      "--2025-03-11 13:29:23--  https://zenodo.org/records/14497769/files/ksp_fully.cfl\n",
      "Resolving zenodo.org (zenodo.org)... 188.185.43.25, 188.185.45.92, 188.185.48.194, ...\n",
      "Connecting to zenodo.org (zenodo.org)|188.185.43.25|:443... connected.\n",
      "HTTP request sent, awaiting response... 200 OK\n",
      "Length: 68812800 (66M) [application/octet-stream]\n",
      "Saving to: ‘ksp_fully.cfl’\n",
      "\n",
      "ksp_fully.cfl       100%[===================>]  65.62M  2.66MB/s    in 25s     \n",
      "\n",
      "2025-03-11 13:29:49 (2.60 MB/s) - ‘ksp_fully.cfl’ saved [68812800/68812800]\n",
      "\n"
     ]
    }
   ],
   "source": [
    "! wget https://zenodo.org/records/14497769/files/ksp_fully.hdr -O ksp_fully.hdr\n",
    "! wget https://zenodo.org/records/14497769/files/ksp_fully.cfl -O ksp_fully.cfl"
   ]
  },
  {
   "cell_type": "code",
   "execution_count": 11,
   "metadata": {},
   "outputs": [],
   "source": [
    "!bart view ksp_fully"
   ]
  },
  {
   "cell_type": "markdown",
   "metadata": {},
   "source": [
    "### Reconstruction of Fully-Sampled Data\n",
    "\n",
    "As we have a fully-sampled dataset, we can directly use the inverse FFT to transform the k-space data to image space. Afterwards, separate coil images can be combined with the root-sum-of-squares (RSS) method. You will need to use the `bart fft` and `bart rss` commands for this task. Look at the help of both.\n",
    "\n",
    "Here, we introduce the concept of `bitmask` in BART to select the dimensions along which the FFT is performed or along which the sum is taken. Each bit of the bitmask decides whether the corresponding dimension is selected or not. For example, if you want to select dimension 0 and 3, the bitmask would be $9 = 2^0 + 2^3$. The `bart bitmask` command can be used to generate the bitmask.\n",
    "\n",
    "What is the bitmask for the inverse FFT? What is the bitmask for the RSS combination?\n"
   ]
  },
  {
   "cell_type": "code",
   "execution_count": 12,
   "metadata": {},
   "outputs": [],
   "source": [
    "%%bash\n",
    "\n",
    "bart fft -i 3 ksp_fully coil_image_fully\n",
    "bart rss 8 coil_image_fully rss_fully\n",
    "\n",
    "bart view coil_image_fully rss_fully"
   ]
  },
  {
   "cell_type": "markdown",
   "metadata": {},
   "source": [
    "### Undersampling\n",
    "\n",
    "We perform some retrospective undersampling of the data. You can generate a regular undersampling pattern using the `bart upat` command. As undersampling in read out direction never makes sense, the pattern will have undersampling in y and z direction by default. You need to specify dimensions for the undersampling pattern according to the k-space dimensions. You should also include some AC region by setting `-c12`.\n",
    "\n",
    "After generating the undersampling pattern, you can multiply it with the k-space using the `bart fmac` (fused multiply-accumulate) command. Probably you want to do an inverse FFT and RSS reconstruction afterwards to see the effect on the image."
   ]
  },
  {
   "cell_type": "code",
   "execution_count": 15,
   "metadata": {},
   "outputs": [],
   "source": [
    "%%bash\n",
    "\n",
    "bart upat -c12 -y3 -Y420 -Z1 pattern\n",
    "bart fmac ksp_fully pattern ksp_us\n",
    "\n",
    "bart view ksp_us"
   ]
  },
  {
   "cell_type": "code",
   "execution_count": 16,
   "metadata": {},
   "outputs": [],
   "source": [
    "%%bash\n",
    "\n",
    "bart fft -i 3 ksp_us coil_image_us\n",
    "bart rss 8 coil_image_us rss_us\n",
    "\n",
    "bart view rss_us"
   ]
  },
  {
   "cell_type": "markdown",
   "metadata": {},
   "source": [
    "### Coil Compression\n",
    "\n",
    "A standard approach to speed up iterative reconstructions is to compress the k-space data along the coil dimension. This can be done with the `bart cc` command. The command requires the number of singular values to keep which you can provide with the `-p` option. Use eight virtual coils for the compression.\n",
    "\n",
    "If you want to investigate the effect of coil compression, perform coil compression on the fully sampled data, keep many coils, and look at the coil images after performing the inverse FFT. You'll see that later coils contain less information and mostly noise.\n",
    "\n",
    "\n",
    "**💡Hint:💡**\n",
    "\n",
    "- **Debug Level**\n",
    "  By default the `bart cc` command does not print any output. You can increase the debug level by setting the `BART_DEBUG_LEVEL` environment variable to a higher debug level.\n"
   ]
  },
  {
   "cell_type": "code",
   "execution_count": 17,
   "metadata": {},
   "outputs": [
    {
     "name": "stdout",
     "output_type": "stream",
     "text": [
      "Calibration region...  (size: 24x24x1, pos: 309x198x0)\n",
      "Energy: 0.369 0.270 0.136 0.078 0.051 0.037 0.018 0.015 0.013 0.005 0.003 0.003 0.001 0.001 0.001 0.000 0.000 0.000 0.000 0.000 0.000 0.000 0.000 0.000 0.000 0.000 0.000 0.000 0.000 0.000 0.000 0.000\n",
      "Compressing to 10 virtual coils...\n",
      "Done.\n"
     ]
    }
   ],
   "source": [
    "%%bash\n",
    "\n",
    "export BART_DEBUG_LEVEL=4\n",
    "bart cc -p10 ksp_us ksp_cc\n",
    "\n",
    "bart view ksp_cc"
   ]
  },
  {
   "cell_type": "code",
   "execution_count": 18,
   "metadata": {},
   "outputs": [
    {
     "name": "stdout",
     "output_type": "stream",
     "text": [
      "Calibration region...  (size: 24x24x1, pos: 309x198x0)\n",
      "Energy: 0.369 0.270 0.136 0.078 0.051 0.037 0.018 0.015 0.013 0.005 0.003 0.003 0.001 0.001 0.001 0.000 0.000 0.000 0.000 0.000 0.000 0.000 0.000 0.000 0.000 0.000 0.000 0.000 0.000 0.000 0.000 0.000\n",
      "Compressing to 32 virtual coils...\n",
      "Done.\n"
     ]
    }
   ],
   "source": [
    "%%bash\n",
    "\n",
    "export BART_DEBUG_LEVEL=4\n",
    "bart cc -p32 ksp_fully ksp_cc_fully\n",
    "bart fft -i 3 ksp_cc_fully coil_images_cc_fully\n",
    "\n",
    "bart view coil_images_cc_fully"
   ]
  },
  {
   "cell_type": "markdown",
   "metadata": {},
   "source": [
    "### Coil Sensitivity Estimation\n",
    "\n",
    "One option to estimate coil sensitivity maps from a fully sampled, Cartesian auto-calibration region is the ESPIRiT algorithm. The `bart ecalib` command can be used for this task. By default, the command estimates two sets of sensitivity maps (c.f. the paper for details). We only need one set, so you can select the first set with the `-m 1` option."
   ]
  },
  {
   "cell_type": "code",
   "execution_count": 19,
   "metadata": {},
   "outputs": [
    {
     "name": "stdout",
     "output_type": "stream",
     "text": [
      "Calibration region...  (size: 24x24x1, pos: 309x198x0)\n",
      "Energy: 0.372 0.273 0.137 0.079 0.052 0.037 0.018 0.015 0.013 0.005\n",
      "Build calibration matrix and SVD...\n",
      "Eigen decomposition... (size: 360)\n",
      "Using 36/360 kernels (10.00%, last SV: 0.033626).\n",
      "Zeropad...\n",
      "FFT (juggling)...\n",
      "Calculate Gram matrix...\n",
      "Resize...\n",
      "Point-wise eigen-decomposition...\n",
      "Crop maps... (c = 0.80)\n",
      "Fix phase...\n",
      "Done.\n"
     ]
    }
   ],
   "source": [
    "%%bash\n",
    "\n",
    "export BART_DEBUG_LEVEL=4\n",
    "bart ecalib -m1 ksp_cc coil\n",
    "\n",
    "bart view coil"
   ]
  },
  {
   "cell_type": "markdown",
   "metadata": {},
   "source": [
    "### Reconstruction with PICS\n",
    "\n",
    "Finally, we have all data available to use the Swiss Army knife of linear MR image reconstruction: the `bart pics` tool. You can use it without any regularization options to perform a SENSE reconstruction:"
   ]
  },
  {
   "cell_type": "code",
   "execution_count": 20,
   "metadata": {},
   "outputs": [
    {
     "name": "stdout",
     "output_type": "stream",
     "text": [
      "Size: 268800 Samples: 99839 Acc: 2.69\n",
      "Calibration region...  (size: 32x24x1, pos: 302x198x0)\n",
      "Scaling: 0.000282  (max = 0.000761/p90 = 0.000282/median = 0.000009)\n",
      "Inverse scaling of the data: 0.000282\n",
      "Regularization terms: 0, Supporting variables: 0\n",
      "conjugate gradients\n",
      "\t cg:  30\n",
      "Total Time: 3.724850\n"
     ]
    }
   ],
   "source": [
    "%%bash\n",
    "\n",
    "export BART_DEBUG_LEVEL=4\n",
    "bart pics ksp_cc coil recon\n",
    "\n",
    "bart view recon"
   ]
  },
  {
   "cell_type": "markdown",
   "metadata": {},
   "source": [
    "Note that pics scales (normalizes) your data by default. You can turn this off by providing a scaling ´-w´ or undo the scaling ´-S´ afterwards.\n",
    "We can now add some regularization (as we use regular undersampling pattern, we don't perform compressed sensing). You can use the `-Rh` option to print help on available regularization in pics. Most regularizations require two flags, 1.) which dimensions to perform a transform (e.g. Wavelet or gradients) over and a joint thresholding flag, which is in our case 0.\n",
    "\n",
    "You can try Wavelet regularization and experiment with different strength -RW:3:0:0.01, -RW:3:0:0.1, -RW:3:0:1, etc. In a sweet spot, you will see that the noise is slightly reduced."
   ]
  },
  {
   "cell_type": "markdown",
   "metadata": {},
   "source": [
    "## Various Aspects (if time allows)"
   ]
  },
  {
   "cell_type": "markdown",
   "metadata": {},
   "source": [
    "### NLINV for Joint Estimation of Coils and Image\n",
    "\n",
    "The `bart nlinv` command can be used for joint estimation of coil sensitivities and the image, hence you only need to provide it the k-space data. We will discuss and use the command in the next sessions, but you can try it here already:"
   ]
  },
  {
   "cell_type": "code",
   "execution_count": 3,
   "metadata": {},
   "outputs": [
    {
     "name": "stdout",
     "output_type": "stream",
     "text": [
      "\n",
      "Model created (Cartesian):\n",
      "kspace:  [640 420   1   8   1   1   1   1   1   1   1   1   1   1   1   1 ]\n",
      "images:  [640 420   1   1   1   1   1   1   1   1   1   1   1   1   1   1 ]\n",
      "coils:   [640 420   1   8   1   1   1   1   1   1   1   1   1   1   1   1 ]\n",
      "pattern: [640 420   1   1   1   1   1   1   1   1   1   1   1   1   1   1 ]\n",
      "coilimg: [640 420   1   8   1   1   1   1   1   1   1   1   1   1   1   1 ]\n",
      "\n",
      "Scaling: 1228.981934\n",
      "Step: 0, Res: 100.000002\n",
      "\t cg:   1\n",
      "Step: 1, Res: 99.993176\n",
      "\t cg:   0\n",
      "Step: 2, Res: 99.632359\n",
      "\t cg:   1\n",
      "Step: 3, Res: 98.893138\n",
      "\t cg:   2\n",
      "Step: 4, Res: 92.974706\n",
      "\t cg:   3\n",
      "Step: 5, Res: 73.474311\n",
      "\t cg:   4\n",
      "Step: 6, Res: 50.115916\n",
      "\t cg:   2\n",
      "Step: 7, Res: 8.538334\n",
      "\t cg:  11\n",
      "Total time: 15.40 s\n"
     ]
    }
   ],
   "source": [
    "%%bash\n",
    "\n",
    "export BART_DEBUG_LEVEL=4\n",
    "bart nlinv ksp_cc recon_nlinv coil_nlinv\n",
    "\n",
    "bart view recon_nlinv coil_nlinv"
   ]
  },
  {
   "cell_type": "markdown",
   "metadata": {},
   "source": [
    "### Removing Frequency Oversampling\n",
    "\n",
    "To remove frequency oversampling, you need to perform an inverse FFT along the readout direction, crop the data, and perform a forward FFT again. For cropping, you can use the `bart resize` command with the `-c` option. The center cropping of resize is consistent with the definition of the center of the FFT.\n",
    "The NLINV reconstruction will be faster now:)"
   ]
  },
  {
   "cell_type": "code",
   "execution_count": 5,
   "metadata": {},
   "outputs": [
    {
     "name": "stdout",
     "output_type": "stream",
     "text": [
      "\n",
      "Model created (Cartesian):\n",
      "kspace:  [320 420   1   8   1   1   1   1   1   1   1   1   1   1   1   1 ]\n",
      "images:  [320 420   1   1   1   1   1   1   1   1   1   1   1   1   1   1 ]\n",
      "coils:   [320 420   1   8   1   1   1   1   1   1   1   1   1   1   1   1 ]\n",
      "pattern: [320 420   1   1   1   1   1   1   1   1   1   1   1   1   1   1 ]\n",
      "coilimg: [320 420   1   8   1   1   1   1   1   1   1   1   1   1   1   1 ]\n",
      "\n",
      "Scaling: 1229.449707\n",
      "Step: 0, Res: 100.000010\n",
      "\t cg:   1\n",
      "Step: 1, Res: 99.986287\n",
      "\t cg:   0\n",
      "Step: 2, Res: 99.626723\n",
      "\t cg:   1\n",
      "Step: 3, Res: 98.877515\n",
      "\t cg:   2\n",
      "Step: 4, Res: 92.907263\n",
      "\t cg:   3\n",
      "Step: 5, Res: 73.338651\n",
      "\t cg:   4\n",
      "Step: 6, Res: 49.953508\n",
      "\t cg:   2\n",
      "Step: 7, Res: 8.081363\n",
      "\t cg:  11\n",
      "Total time: 8.13 s\n"
     ]
    }
   ],
   "source": [
    "%%bash\n",
    "\n",
    "export BART_DEBUG_LEVEL=4\n",
    "bart fft -u -i 1 ksp_cc tmp\n",
    "bart resize -c 0 320 tmp tmp\n",
    "bart fft -u 1 tmp ksp_no_os\n",
    "\n",
    "bart nlinv ksp_no_os recon_nlinv_no_os coil_nlinv_no_os\n",
    "\n",
    "bart view recon_nlinv_no_os coil_nlinv_no_os"
   ]
  }
 ],
 "metadata": {
  "kernelspec": {
   "display_name": "base",
   "language": "python",
   "name": "python3"
  },
  "language_info": {
   "codemirror_mode": {
    "name": "ipython",
    "version": 3
   },
   "file_extension": ".py",
   "mimetype": "text/x-python",
   "name": "python",
   "nbconvert_exporter": "python",
   "pygments_lexer": "ipython3",
   "version": "3.10.9"
  }
 },
 "nbformat": 4,
 "nbformat_minor": 2
}
