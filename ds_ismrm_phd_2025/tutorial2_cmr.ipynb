{
 "cells": [
  {
   "cell_type": "markdown",
   "metadata": {},
   "source": [
    "# CMR reconstruction with BART\n",
    "\n",
    "## PhD-Training of DS-ISMRM in Ulm\n",
    "\n",
    "- 17. & 18. March 2025"
   ]
  },
  {
   "cell_type": "markdown",
   "metadata": {},
   "source": [
    "The purpose of this notebook is to introduce basic concepts of the [BART toolbox](https://mrirecon.github.io/bart), and its use as a tool for reconstruction.\n",
    "\n",
    "We recommend checking other points of reference, primarily available in the following locations:\n",
    "- [BART Workshops](https://github.com/mrirecon/bart-workshop)\n",
    "- [BART Webinars](https://github.com/mrirecon/bart-webinars) (and [webinar recordings](https://www.youtube.com/@bart-toolboxdepartmental7435/playlists)\\)"
   ]
  },
  {
   "cell_type": "markdown",
   "metadata": {},
   "source": [
    "## Content\n",
    "\n",
    "* An Image Reconstruction Pipeline in BART\n",
    "  * Radial Trajectories and Point-Spread-Function\n",
    "  * Downloading Data\n",
    "  * Recap: Coil Compression\n",
    "  * Non-Cartesian Coil Sensitivity Estimation\n",
    "  * Reconstruction with PICS\n",
    "  * Gradien Delay Estimation (RING)\n",
    "  * Retrospective Data Binning (CINE)\n",
    "  * Temporal Total Variation Regularization in PICS\n"
   ]
  },
  {
   "cell_type": "markdown",
   "metadata": {},
   "source": [
    "## Installation\n",
    "\n",
    "You can find more information on BART on the [Website](https://mrirecon.github.io/bart/)."
   ]
  },
  {
   "cell_type": "markdown",
   "metadata": {},
   "source": [
    "## Setup\n",
    "\n",
    "As a first step, you should check where BART is installed on your system and which version you are using:"
   ]
  },
  {
   "cell_type": "code",
   "execution_count": null,
   "metadata": {},
   "outputs": [],
   "source": [
    "%%bash\n",
    "\n",
    "echo \"# BART location: \"\n",
    "which bart\n",
    "\n",
    "echo \"# BART version: \"\n",
    "bart version"
   ]
  },
  {
   "cell_type": "code",
   "execution_count": null,
   "metadata": {},
   "outputs": [],
   "source": [
    "# get a list of BART commands by running bart with no arguments:\n",
    "! bart"
   ]
  },
  {
   "cell_type": "markdown",
   "metadata": {},
   "source": [
    "## An Image Reconstruction Pipeline in BART"
   ]
  },
  {
   "cell_type": "markdown",
   "metadata": {},
   "source": [
    "### Trajectory\n",
    "\n",
    "First we generate a radial trajectory with a few number of spokes and check the dimensions. For better visualization, we can also calculate the point spread function (PSF), which can be obtained by the adjoint nuFFT of ones."
   ]
  },
  {
   "cell_type": "code",
   "execution_count": null,
   "metadata": {},
   "outputs": [],
   "source": [
    "%%bash\n",
    "\n",
    "RO=128\n",
    "SPK=5\n",
    "\n",
    "bart traj ..\n",
    "bart ones ..\n",
    "bart nufft ..\n",
    "\n",
    "bart view pattern"
   ]
  },
  {
   "cell_type": "markdown",
   "metadata": {},
   "source": [
    "#### BART Data Format for Radial Data\n",
    "\n",
    "For our radial data, BART expects the following dimension order:\n",
    "\n",
    "| Index | Dimension Name | Description |\n",
    "|-------|----------------|-------------|\n",
    "| 0     | READ_DIM       | 1 or spatial position [x, y, z] for trajectory |\n",
    "| 1     | PHS1_DIM       | Readout dimension |\n",
    "| 2     | PHS2_DIM       | First phase-encoding dimension |\n",
    "| 3     | COIL_DIM       | Receiver coil dimension |\n",
    "| 4     | MAPS_DIM       | Maps dimension (e.g., for multiple sets of sensitivity maps) |\n",
    "| 5     | TE_DIM         | Echo time dimension |\n",
    "| 6     | COEFF_DIM      | Coefficient dimension (e.g., for parameter maps) |\n",
    "| ...   | ...            | ... |\n",
    "| 10    | TIME_DIM       | Dimension for time series |\n",
    "| ...   | ...            | ... |\n",
    "| 13\t| SLICE_DIM\t\t | Second phase-encoding dimension |\n"
   ]
  },
  {
   "cell_type": "markdown",
   "metadata": {},
   "source": [
    "### (Tiny) Golden-Angle\n",
    "\n",
    "We can now generate radial trajectories with Golden Angle scheme. First, we check for k-space coverage  dependent on the number of spokes. Second, how are tiny Golden Angles distributed?"
   ]
  },
  {
   "cell_type": "code",
   "execution_count": null,
   "metadata": {},
   "outputs": [],
   "source": [
    "%%bash\n",
    "\n",
    "bart traj ..\n",
    "bart psf ..\n",
    "\n",
    "bart view psf_ga"
   ]
  },
  {
   "cell_type": "markdown",
   "metadata": {},
   "source": [
    "### Download Data\n",
    "\n",
    "For this tutorial, we use a fully-sampled Cartesian brain dataset available at [Zenodo](https://zenodo.org/record/14497769). The dataset is already in the BART format. So you can investigate it with the `show` command or view it with the `view` command."
   ]
  },
  {
   "cell_type": "code",
   "execution_count": null,
   "metadata": {},
   "outputs": [],
   "source": [
    "%%bash \n",
    "\n",
    "[ -f data_cmr.zip ] || curl -o data_cmr.zip https://cloud.tugraz.at/index.php/s/NBCWFxi9qfwn43L/download\n",
    "\n",
    "unzip data_cmr.zip\n",
    "\n",
    "bart view data_cmr/ksp"
   ]
  },
  {
   "cell_type": "markdown",
   "metadata": {},
   "source": [
    "### Recap: Coil Compression\n",
    "\n",
    "A standard approach to speed up iterative reconstructions is to compress the k-space data along the coil dimension. This can be done with the `bart cc` command. The command requires the number of singular values to keep which you can provide with the `-p` option. Use eight virtual coils for the compression."
   ]
  },
  {
   "cell_type": "code",
   "execution_count": null,
   "metadata": {},
   "outputs": [],
   "source": [
    "%%bash\n",
    "\n",
    "export BART_DEBUG_LEVEL=4\n",
    "bart transpose 2 10 data_cmr/pmu pmu\n",
    "bart transpose 0 1 data_cmr/ksp tmp\n",
    "bart transpose 2 10 tmp ksp\n",
    "bart cc ..\n",
    "\n",
    "\n",
    "bart view ksp_cc"
   ]
  },
  {
   "cell_type": "markdown",
   "metadata": {},
   "source": [
    "### Analyzing the data\n",
    "\n",
    "Now we look at the k-space center: \n",
    "What typical curve can we obtain for our data if we look at all spokes\n",
    "Now lets have a closer look to the steady-state: Can we find some typical osccillations?\n",
    "\n",
    "At which frequency does this occur when we assume a $TR=3.5~ms$?\n",
    "\n",
    "The PMU signal of a spoke is the time since the last trigger-signal (here the ECG at the R-peak) was detected.\n",
    "Is the oscillations in k-space center related to the PMU signal?"
   ]
  },
  {
   "cell_type": "code",
   "execution_count": null,
   "metadata": {},
   "outputs": [],
   "source": [
    "%%bash\n",
    "\n",
    "bart repmat 4 100 pmu pmu_r\n",
    "bart view ksp_cc pmu_r\n"
   ]
  },
  {
   "cell_type": "markdown",
   "metadata": {},
   "source": [
    "With a 1D frequency analysis we can find the approximate frequency of this oscillations. For this purpose we reduce the number of virtual coils to 1, and also perform a signal averaging to suppress noise.\n",
    "\n",
    "FFT frequencies: $\\Delta_f = 1 / (N*td) = 1 / (50 * 0.07) \\approx 0.29 Hz$"
   ]
  },
  {
   "cell_type": "code",
   "execution_count": null,
   "metadata": {},
   "outputs": [],
   "source": [
    "%%bash\n",
    "\n",
    "bart cc -p1 ksp_cc tmp\n",
    "bart resize -c 1 1 tmp tmp\n",
    "\n",
    "bart extract 2 800 1800 tmp tmp\n",
    "bart reshape $(bart bitmask 2 10) 20 50 tmp tmp\n",
    "bart transpose 2 10 tmp tmp\n",
    "bart avg 1024 tmp tmp\n",
    "bart show -m tmp\n",
    "bart fft 4 tmp tmp\n",
    "bart repmat 5 100 tmp tmp\n",
    "\n",
    "bart view tmp"
   ]
  },
  {
   "cell_type": "markdown",
   "metadata": {},
   "source": [
    "### Coil Sensitivity Estimation\n",
    "\n",
    "One option to estimate coil sensitivity maps from a radial - or general a non-Cartesian - dataset is an adapted version of the NLINV algorithm. Details will be discussed in a later point. \n",
    "The `bart ncalib` command can be used for this task. In order to have consistent data, we take out the last 100 spokes of the measurement, e.g. the steady-state with `extract`"
   ]
  },
  {
   "cell_type": "code",
   "execution_count": null,
   "metadata": {},
   "outputs": [],
   "source": [
    "%%bash\n",
    "bart traj ..\n",
    "\n",
    "bart extract .."
   ]
  },
  {
   "cell_type": "code",
   "execution_count": null,
   "metadata": {},
   "outputs": [],
   "source": [
    "%%bash\n",
    "which bart\n",
    "export BART_DEBUG_LEVEL=4\n",
    "\n",
    "bart ncalib ..\n",
    "\n",
    "bart view sens"
   ]
  },
  {
   "cell_type": "markdown",
   "metadata": {},
   "source": [
    "### Non-Cartesian Reconstruction with PICS\n",
    "\n",
    "Finally, we have all data available to use the Swiss Army knife of linear MR image reconstruction: the `bart pics` tool. You can use it without any regularization options to perform a SENSE reconstruction:"
   ]
  },
  {
   "cell_type": "code",
   "execution_count": null,
   "metadata": {},
   "outputs": [],
   "source": [
    "%%bash\n",
    "\n",
    "export BART_DEBUG_LEVEL=4\n",
    "bart pics ..\n",
    "\n",
    "bart view img"
   ]
  },
  {
   "cell_type": "markdown",
   "metadata": {},
   "source": [
    "### What happens to image outside the FOV - what can we do?\n",
    "\n",
    "From this simple example, we can see that there is a lot of image content outside of the Field-of-View. We can tackle this problem by scaling our trajectory and have a zooming - for example by our oversampling factor of $2$."
   ]
  },
  {
   "cell_type": "code",
   "execution_count": null,
   "metadata": {},
   "outputs": [],
   "source": [
    "%%bash\n",
    "\n",
    "bart scale ..\n",
    "\n",
    "bart ncalib ..\n",
    "bart pics ..\n",
    "\n",
    "bart view img img_os"
   ]
  },
  {
   "cell_type": "markdown",
   "metadata": {},
   "source": [
    "## Gradient Delay estimation (RING)\n",
    "\n",
    "From our steady-state data we can now also estimate the gradient delays by \"Radial spoke INtersections for Gradient delay estimation (RING)\". [Rosenzweig et al., MRM, 2018] "
   ]
  },
  {
   "cell_type": "code",
   "execution_count": null,
   "metadata": {},
   "outputs": [],
   "source": [
    "%%bash\n",
    "\n",
    "GDELAY=$(bart estdelay -R ..)\n",
    "\n",
    "bart traj .. traj_gd\n",
    "bart extract ..\n",
    "bart ncalib ..\n",
    "\n",
    "\n",
    "bart pics ..\n",
    "\n",
    "bart view img_os img_gd"
   ]
  },
  {
   "cell_type": "markdown",
   "metadata": {},
   "source": [
    "### Data binning into cardiac states (CINE)\n",
    "\n",
    "We can now use the PMU data to bin our data (and also the trajectory) to our different cardiac states.\n",
    "Therefore, we define 9 labels (as a compromise of temporal resolution and computational costs) with the PMU signal (each with size of 100ms during a regular heartbeat). Then we extract our window for CINE receonstruction which should not be affected by the longitudinal relaxation and bin this accordingly with the `bin` tool."
   ]
  },
  {
   "cell_type": "code",
   "execution_count": null,
   "metadata": {},
   "outputs": [],
   "source": [
    "%%bash\n",
    "\n",
    "#initialize an array of the same size\n",
    "bart scale 0 pmu labels\n",
    "\n",
    "size=100\n",
    "for i in $(seq 8) ; do\n",
    "    bart threshold -N $(((i+1)*size + 1)) pmu - | bart threshold -B $((i*size)) - - | bart saxpy $i - labels labels\n",
    "done\n",
    "\n"
   ]
  },
  {
   "cell_type": "code",
   "execution_count": null,
   "metadata": {},
   "outputs": [],
   "source": [
    "%%bash\n",
    "\n",
    "SPOKES=600\n",
    "bart extract 2 $((1800-SPOKES)) 1800 labels labels_e\n",
    "bart extract 2 $((1800-SPOKES)) 1800 ksp_cc ksp_e\n",
    "bart extract 2 $((1800-SPOKES)) 1800 traj_gd traj_e"
   ]
  },
  {
   "cell_type": "code",
   "execution_count": null,
   "metadata": {},
   "outputs": [],
   "source": [
    "%%bash\n",
    "\n",
    "bart bin ..\n",
    "bart bin ..\n",
    "bart pics ..\n",
    "\n",
    "bart view reco_9phases"
   ]
  },
  {
   "cell_type": "markdown",
   "metadata": {},
   "source": [
    "## Regularization\n",
    "\n",
    "Analogous to the previous example we can now add regularization: the `-Rh` option prints available regularization in pics.\n",
    "\n",
    "We can now compare regularization in spatial dimensions (`bitmask 7`) and/or in time dimension (`bart bitmask 10`). For spatial regularization, L1-wavelet with $\\lambda$ with values around $5e-3$ are a good starting point. If we additionally apply temporal Total Variation  over-regularization (e.g. $1e-1$) we can hardly see any changes from frame to frame. Here, $\\mu \\approx 1e-3$ would be a good start.\n",
    "\n",
    "Hint: With `-e` the stepsize can be scaled based on the max. eigenvalue to guarantee convergence."
   ]
  },
  {
   "cell_type": "code",
   "execution_count": null,
   "metadata": {},
   "outputs": [],
   "source": [
    "%%bash\n",
    "\n",
    "bart pics .."
   ]
  }
 ],
 "metadata": {
  "kernelspec": {
   "display_name": "Python 3",
   "language": "python",
   "name": "python3"
  },
  "language_info": {
   "codemirror_mode": {
    "name": "ipython",
    "version": 3
   },
   "file_extension": ".py",
   "mimetype": "text/x-python",
   "name": "python",
   "nbconvert_exporter": "python",
   "pygments_lexer": "ipython3",
   "version": "3.12.3"
  }
 },
 "nbformat": 4,
 "nbformat_minor": 2
}
