{
 "cells": [
  {
   "cell_type": "markdown",
   "metadata": {},
   "source": [
    "# Image Reconstruction in a Nutshell - with BART\n",
    "\n",
    "## PhD-Training of DS-ISMRM in Ulm\n",
    "\n",
    "- 17. & 18. March 2025"
   ]
  },
  {
   "cell_type": "markdown",
   "metadata": {},
   "source": [
    "The purpose of this notebook is to introduce basic concepts of the [BART toolbox](https://mrirecon.github.io/bart), and its use as a tool for reconstruction.\n",
    "\n",
    "We recommend checking other points of reference, primarily available in the following locations:\n",
    "- [BART Workshops](https://github.com/mrirecon/bart-workshop)\n",
    "- [BART Webinars](https://github.com/mrirecon/bart-webinars) (and [webinar recordings](https://www.youtube.com/@bart-toolboxdepartmental7435/playlists)\\)"
   ]
  },
  {
   "cell_type": "markdown",
   "metadata": {},
   "source": [
    "## On the Idea of this Notebook\n",
    "\n",
    "Many tutorials on BART are provided as Jupyter notebooks. The reason behind this is that Jupyter Notebooks are a great tool to combine code and markdown text in a single document, share them with others, and run them on online hosted services like Google Colab. It should be mentioned that most users of BART don't use Jupyter Notebooks, but rather write scripts to write their reconstruction pipelines.\n",
    "\n",
    "In this interactive session, we recommend running BART calls in the terminal, and use this notebook as a reference. Nevertheless, we will provide some examples of how to run BART commands in this notebook to be self-contained.\n",
    "\n",
    "**💡Hint:💡**\n",
    "\n",
    "- **`%%bash` Cells in Jupyter Notebooks:**\n",
    "  In Google Colab, `%%bash` cells allow you to run bash commands directly within your notebook.\n",
    "  Simply prefix your cell with `%%bash`, and you can run any shell command, including calls to BART tools, just as you would in a terminal.\n",
    "  If you only have a single command you can also prefix it with `!` for the same effect.\n",
    "\n",
    "## Content\n",
    "\n",
    "* BART Fundamentals\n",
    "  * BART Command Structure\n",
    "  * File Formats and Metadata\n",
    "  * Python Bindings\n",
    "  * Look at Everything (`bart view`)\n",
    "* An Image Reconstruction Pipeline in BART\n",
    "  * Downloading Data\n",
    "  * Reconstruction of Fully-Sampled Data\n",
    "  * Undersampling\n",
    "  * Coil Compression\n",
    "  * Coil Sensitivity Estimation\n",
    "  * Reconstruction with PICS\n",
    "* Various Aspects (if time allows)\n",
    "  * NLINV for Joint Estimation of Coils and Image\n",
    "  * Removing Frequency Oversampling"
   ]
  },
  {
   "cell_type": "markdown",
   "metadata": {},
   "source": [
    "## Installation\n",
    "\n",
    "You can find more information on BART on the [Website](https://mrirecon.github.io/bart/)."
   ]
  },
  {
   "cell_type": "markdown",
   "metadata": {},
   "source": [
    "## Setup\n",
    "\n",
    "As a first step, you should check where BART is installed on your system and which version you are using:"
   ]
  },
  {
   "cell_type": "code",
   "execution_count": null,
   "metadata": {},
   "outputs": [],
   "source": [
    "%%bash\n",
    "\n",
    "echo \"# BART location: \"\n",
    "which bart\n",
    "\n",
    "echo \"# BART version: \"\n",
    "bart version"
   ]
  },
  {
   "cell_type": "markdown",
   "metadata": {},
   "source": [
    "## BART Fundamentals\n",
    "BART provides a number of tools for MR image reconstruction and multi-dimensional array manipulation. We can get a list of them by running `bart` with no arguments.\n",
    "\n",
    "Note: The ! character indicates that the following cell should be executed in bash vs. the native python kernel. It is not necessary when running BART commands from your terminal.\n",
    "\n"
   ]
  },
  {
   "cell_type": "code",
   "execution_count": null,
   "metadata": {},
   "outputs": [],
   "source": [
    "# get a list of BART commands by running bart with no arguments:\n",
    "! bart"
   ]
  },
  {
   "cell_type": "markdown",
   "metadata": {},
   "source": [
    "### BART Command Structure\n",
    "\n",
    "All BART commands are structured in the following way:\n",
    "\n",
    "> **`bart`** + **`command`** + **`options`** + **`input / output`**\n",
    "\n",
    "Each BART command consists of a number of optional arguments, followed by input and output files. To get some information about a command, use the **-h** flag. Optional arguments are indicated by brackets, and files are indicated by `<,>` symbols.\n",
    "\n",
    "For example, the following command demonstrates the full suite of options for generating a numerical phantom in the image or k-space domain:"
   ]
  },
  {
   "cell_type": "code",
   "execution_count": null,
   "metadata": {},
   "outputs": [],
   "source": [
    "! bart phantom -h"
   ]
  },
  {
   "cell_type": "markdown",
   "metadata": {},
   "source": [
    "The `phantom` tool includes the option `-k` to create it in k-space, and `-x` to specify the size. Let's generate a 2D phantom in image space:"
   ]
  },
  {
   "cell_type": "code",
   "execution_count": null,
   "metadata": {},
   "outputs": [],
   "source": [
    "! bart phantom phantom"
   ]
  },
  {
   "cell_type": "markdown",
   "metadata": {},
   "source": [
    "### File formats and metadata\n",
    "\n",
    "The phantom image \"*phantom*\" is stored in a BART-specific file format in your current working directory. If you open the directory, you will see two files: `phantom.cfl` and `phantom.hdr`. These files contain the raw data and metadata, respectively.\n",
    "\n",
    "BART data files are (typically) stored in two files:\n",
    "\n",
    "* A header (`.hdr`) file which contains metadata (dimensions, file type, etc.)\n",
    "\n",
    "* A complex float (`.cfl`) file which contains the raw data.\n",
    "\n",
    "The header file can be opened and read as a normal text file, while the raw data is a binary file. The raw data is a multi-dimensional array of single-precision complex floats, stored in col-major order with interleaved real and imaginary components.\n",
    "\n",
    "Open the header file to see the metadata, you can use any text editor or the `cat` command in the terminal:\n"
   ]
  },
  {
   "cell_type": "code",
   "execution_count": null,
   "metadata": {},
   "outputs": [],
   "source": [
    "! cat phantom.hdr"
   ]
  },
  {
   "cell_type": "markdown",
   "metadata": {},
   "source": [
    "As you can see, the header file contains information about the dimensions of the data which is in our case a 2D image of size 128x128. Generally, MRI data can be very high-dimensional, so BART is designed to handle multi-dimensional (up to 16-dimensional) data. If you are familiar with numpy, a 16 dimensional numpy array is the equivalent. However, in most applications, many dimensions are singleton, i.e. have size 1. For some tools (ecalib, pics, nlinv, ...), specific dimensions have a special meaning, so it is generally a good idea to stick to the default dimension order:\n",
    "\n",
    "#### BART Data Format for Cartesian Data\n",
    "\n",
    "For our Cartesian data, BART expects the following dimension order:\n",
    "\n",
    "| Index | Dimension Name | Description |\n",
    "|-------|----------------|-------------|\n",
    "| 0     | READ_DIM       | Readout dimension |\n",
    "| 1     | PHS1_DIM       | First phase-encoding dimension |\n",
    "| 2     | PHS2_DIM       | Second phase-encoding dimension |\n",
    "| 3     | COIL_DIM       | Receiver coil dimension |\n",
    "| 4     | MAPS_DIM       | Maps dimension (e.g., for multiple sets of sensitivity maps) |\n",
    "| 5     | TE_DIM         | Echo time dimension |\n",
    "| 6     | COEFF_DIM      | Coefficient dimension (e.g., for parameter maps) |\n",
    "| ...   | ...            | ... |\n",
    "| 10    | TIME_DIM       | Dimension for time series |\n",
    "| ...   | ...            | ... |\n",
    "\n",
    "There is also a bart command to display the dimensions of a file, `show`:"
   ]
  },
  {
   "cell_type": "code",
   "execution_count": null,
   "metadata": {},
   "outputs": [],
   "source": [
    "! bart show -m phantom"
   ]
  },
  {
   "cell_type": "markdown",
   "metadata": {},
   "source": [
    "Note that the file extension is not required when using the BART commands."
   ]
  },
  {
   "cell_type": "markdown",
   "metadata": {},
   "source": [
    "### Python Bindings\n",
    "\n",
    "BART comes equipped with Python bindings that easily integrate with popular scientific computing libraries in Python. The python bindings provide functions to read and write NumPy arrays as BART data files. Moreover, you can apply BART commands directly to NumPy arrays.\n"
   ]
  },
  {
   "cell_type": "markdown",
   "metadata": {},
   "source": [
    "<details>\n",
    "  <summary>If you are interested you can find a more detailed explanation of the Python bindings by expanding this cell.</summary>\n",
    "\n",
    "If you're running in Colab, the paths should be updated and you should be all set to run the following demos.\n",
    "\n",
    "If you are running locally, you will need to directly import the bart module. To do this, you can add BART's python directory to your `PYTHONPATH` environment variable. Add the following line to your .bashrc to do this:\n",
    "\n",
    "```bash\n",
    "export PYTHONPATH=\"${BART_TOOLBOX_PATH}/python:$PYTHONPATH\"\n",
    "```\n",
    "\n",
    "Where `BART_TOOLBOX_PATH` is the location of your BART install.\n",
    "\n",
    "This way, we can import the bart module as well as cfl, our utility file for dealing with BART's data format: a .hdr header file and a .cfl file of complex-float data.\n",
    "\n",
    "If you're already running the demo in Colab, you may have to manually modify the path, which we do here:\n",
    "</details>"
   ]
  },
  {
   "cell_type": "code",
   "execution_count": null,
   "metadata": {},
   "outputs": [],
   "source": [
    "%%bash\n",
    "\n",
    "# we can use pip install to install the Python bindings using the package description in the pkg/python subdirectory\n",
    "#echo $BART_TOOLBOX_PATH\n",
    "#pip install $BART_TOOLBOX_PATH/pkg/python\n",
    "\n",
    "pip install \"git+https://github.com/mrirecon/bart/#egg=bart&subdirectory=pkg/python/\""
   ]
  },
  {
   "cell_type": "code",
   "execution_count": null,
   "metadata": {},
   "outputs": [],
   "source": [
    "#This is now a python cell\n",
    "\n",
    "import cfl\n",
    "phan = cfl.readcfl('phantom')\n",
    "\n",
    "from matplotlib import pyplot as plt\n",
    "plt.imshow(phan.real)\n",
    "plt.show()"
   ]
  },
  {
   "cell_type": "markdown",
   "metadata": {},
   "source": [
    "### Look at Everything\n",
    "\n",
    "Obviously a golden rule of image reconstruction (and science in general) is to always look at your data and intermediate results. Does your data make sense? Do your dimensions make sense? Do your coil sensitivities make sense? Do your reconstructions make sense? Always look at your data!\n",
    "\n",
    "The **view** tool is a simple way to visualize image data. It does not directly come with a BART installation but can be installed on Debian-based systems with 'apt install bart-view' or can be installed following the instructions at [GitHub](https://github.com/mrirecon/view). Alternatively, you could load the data into Python/Matlab and view it there.\n",
    "\n",
    "Let's view the phantom image we generated earlier:\n"
   ]
  },
  {
   "cell_type": "code",
   "execution_count": null,
   "metadata": {},
   "outputs": [],
   "source": [
    "!bart view phantom"
   ]
  },
  {
   "cell_type": "markdown",
   "metadata": {},
   "source": [
    "## An Image Reconstruction Pipeline in BART"
   ]
  },
  {
   "cell_type": "markdown",
   "metadata": {},
   "source": [
    "### Download Data\n",
    "\n",
    "For this tutorial, we use a fully-sampled Cartesian brain dataset available at [Zenodo](https://zenodo.org/record/14497769). The dataset is already in the BART format. So you can investigate it with the `show` command or view it with the `view` command."
   ]
  },
  {
   "cell_type": "code",
   "execution_count": null,
   "metadata": {},
   "outputs": [],
   "source": [
    "! wget https://zenodo.org/records/14497769/files/ksp_fully.hdr -O ksp_fully.hdr\n",
    "! wget https://zenodo.org/records/14497769/files/ksp_fully.cfl -O ksp_fully.cfl"
   ]
  },
  {
   "cell_type": "code",
   "execution_count": null,
   "metadata": {},
   "outputs": [],
   "source": [
    "!bart view ksp_fully"
   ]
  },
  {
   "cell_type": "markdown",
   "metadata": {},
   "source": [
    "### Reconstruction of Fully-Sampled Data\n",
    "\n",
    "As we have a fully-sampled dataset, we can directly use the inverse FFT to transform the k-space data to image space. Afterwards, separate coil images can be combined with the root-sum-of-squares (RSS) method. You will need to use the `bart fft` and `bart rss` commands for this task. Look at the help of both.\n",
    "\n",
    "Here, we introduce the concept of `bitmask` in BART to select the dimensions along which the FFT is performed or along which the sum is taken. Each bit of the bitmask decides whether the corresponding dimension is selected or not. For example, if you want to select dimension 0 and 3, the bitmask would be $9 = 2^0 + 2^3$. The `bart bitmask` command can be used to generate the bitmask.\n",
    "\n",
    "What is the bitmask for the inverse FFT? What is the bitmask for the RSS combination?\n"
   ]
  },
  {
   "cell_type": "code",
   "execution_count": null,
   "metadata": {},
   "outputs": [],
   "source": [
    "%%bash\n",
    "\n",
    "bart fft ...\n",
    "bart rss ...\n",
    "\n",
    "bart view coil_image_fully rss_fully"
   ]
  },
  {
   "cell_type": "markdown",
   "metadata": {},
   "source": [
    "### Undersampling\n",
    "\n",
    "We perform some retrospective undersampling of the data. You can generate a regular undersampling pattern using the `bart upat` command. As undersampling in read out direction never makes sense, the pattern will have undersampling in y and z direction by default. You need to specify dimensions for the undersampling pattern according to the k-space dimensions. You should also include some AC region by setting `-c12`.\n",
    "\n",
    "After generating the undersampling pattern, you can multiply it with the k-space using the `bart fmac` (fused multiply-accumulate) command. Probably you want to do an inverse FFT and RSS reconstruction afterwards to see the effect on the image."
   ]
  },
  {
   "cell_type": "code",
   "execution_count": null,
   "metadata": {},
   "outputs": [],
   "source": [
    "%%bash\n",
    "\n",
    "bart upat ...\n",
    "bart fmac ...\n",
    "\n",
    "bart view ksp_us"
   ]
  },
  {
   "cell_type": "code",
   "execution_count": null,
   "metadata": {},
   "outputs": [],
   "source": [
    "%%bash\n",
    "\n",
    "bart fft ...\n",
    "bart rss ...\n",
    "\n",
    "bart view rss_us"
   ]
  },
  {
   "cell_type": "markdown",
   "metadata": {},
   "source": [
    "### Coil Compression\n",
    "\n",
    "A standard approach to speed up iterative reconstructions is to compress the k-space data along the coil dimension. This can be done with the `bart cc` command. The command requires the number of singular values to keep which you can provide with the `-p` option. Use eight virtual coils for the compression.\n",
    "\n",
    "If you want to investigate the effect of coil compression, perform coil compression on the fully sampled data, keep many coils, and look at the coil images after performing the inverse FFT. You'll see that later coils contain less information and mostly noise.\n",
    "\n",
    "\n",
    "**💡Hint:💡**\n",
    "\n",
    "- **Debug Level**\n",
    "  By default the `bart cc` command does not print any output. You can increase the debug level by setting the `BART_DEBUG_LEVEL` environment variable to a higher debug level.\n"
   ]
  },
  {
   "cell_type": "code",
   "execution_count": null,
   "metadata": {},
   "outputs": [],
   "source": [
    "%%bash\n",
    "\n",
    "export BART_DEBUG_LEVEL=4\n",
    "bart cc ...\n",
    "\n",
    "bart view ksp_cc"
   ]
  },
  {
   "cell_type": "code",
   "execution_count": null,
   "metadata": {},
   "outputs": [],
   "source": [
    "%%bash\n",
    "\n",
    "export BART_DEBUG_LEVEL=4\n",
    "bart cc -p32 ksp_fully ksp_cc_fully\n",
    "bart fft -i 3 ksp_cc_fully coil_images_cc_fully\n",
    "\n",
    "bart view coil_images_cc_fully"
   ]
  },
  {
   "cell_type": "markdown",
   "metadata": {},
   "source": [
    "### Coil Sensitivity Estimation\n",
    "\n",
    "One option to estimate coil sensitivity maps from a fully sampled, Cartesian auto-calibration region is the ESPIRiT algorithm. The `bart ecalib` command can be used for this task. By default, the command estimates two sets of sensitivity maps (c.f. the paper for details). We only need one set, so you can select the first set with the `-m 1` option."
   ]
  },
  {
   "cell_type": "code",
   "execution_count": null,
   "metadata": {},
   "outputs": [],
   "source": [
    "%%bash\n",
    "\n",
    "export BART_DEBUG_LEVEL=4\n",
    "bart ecalib -m1 ...\n",
    "\n",
    "bart view coil"
   ]
  },
  {
   "cell_type": "markdown",
   "metadata": {},
   "source": [
    "### Reconstruction with PICS\n",
    "\n",
    "Finally, we have all data available to use the Swiss Army knife of linear MR image reconstruction: the `bart pics` tool. You can use it without any regularization options to perform a SENSE reconstruction:"
   ]
  },
  {
   "cell_type": "code",
   "execution_count": null,
   "metadata": {},
   "outputs": [],
   "source": [
    "%%bash\n",
    "\n",
    "export BART_DEBUG_LEVEL=4\n",
    "bart pics ...\n",
    "\n",
    "bart view recon"
   ]
  },
  {
   "cell_type": "markdown",
   "metadata": {},
   "source": [
    "Note that pics scales (normalizes) your data by default. You can turn this off by providing a scaling ´-w´ or undo the scaling ´-S´ afterwards.\n",
    "We can now add some regularization (as we use regular undersampling pattern, we don't perform compressed sensing). You can use the `-Rh` option to print help on available regularization in pics. Most regularizations require two flags, 1.) which dimensions to perform a transform (e.g. Wavelet or gradients) over and a joint thresholding flag, which is in our case 0.\n",
    "\n",
    "You can try Wavelet regularization and experiment with different strength -RW:3:0:0.001, -RW:3:0:0.01, -RW:3:0:0.1, etc. In a sweet spot, you will see that the noise is slightly reduced."
   ]
  },
  {
   "cell_type": "code",
   "execution_count": null,
   "metadata": {},
   "outputs": [],
   "source": [
    "%%bash\n",
    "\n",
    "export BART_DEBUG_LEVEL=4\n",
    "\n",
    "bart pics ...\n",
    "bart pics ...\n",
    "bart pics ...\n",
    "\n",
    "bart view recon recon1 recon2 recon3"
   ]
  },
  {
   "cell_type": "markdown",
   "metadata": {},
   "source": [
    "## Various Aspects (if time allows)"
   ]
  },
  {
   "cell_type": "markdown",
   "metadata": {},
   "source": [
    "### NLINV for Joint Estimation of Coils and Image\n",
    "\n",
    "The `bart nlinv` command can be used for joint estimation of coil sensitivities and the image, hence you only need to provide it the k-space data. We will discuss and use the command in the next sessions, but you can try it here already:"
   ]
  },
  {
   "cell_type": "code",
   "execution_count": null,
   "metadata": {},
   "outputs": [],
   "source": [
    "%%bash\n",
    "\n",
    "export BART_DEBUG_LEVEL=4\n",
    "bart nlinv ksp_cc ...\n",
    "\n",
    "bart view recon_nlinv coil_nlinv"
   ]
  },
  {
   "cell_type": "markdown",
   "metadata": {},
   "source": [
    "### Removing Frequency Oversampling\n",
    "\n",
    "To remove frequency oversampling, you need to perform an inverse FFT along the readout direction, crop the data, and perform a forward FFT again. For cropping, you can use the `bart resize` command with the `-c` option. The center cropping of resize is consistent with the definition of the center of the FFT.\n",
    "The NLINV reconstruction will be faster now:)"
   ]
  },
  {
   "cell_type": "code",
   "execution_count": null,
   "metadata": {},
   "outputs": [],
   "source": [
    "%%bash\n",
    "\n",
    "export BART_DEBUG_LEVEL=4\n",
    "bart fft -u -i 1 ksp_cc tmp\n",
    "bart resize -c 0 320 tmp tmp\n",
    "bart fft -u 1 tmp ksp_no_os\n",
    "\n",
    "bart nlinv ksp_no_os recon_nlinv_no_os coil_nlinv_no_os\n",
    "\n",
    "bart view recon_nlinv_no_os coil_nlinv_no_os"
   ]
  }
 ],
 "metadata": {
  "kernelspec": {
   "display_name": "base",
   "language": "python",
   "name": "python3"
  },
  "language_info": {
   "codemirror_mode": {
    "name": "ipython",
    "version": 3
   },
   "file_extension": ".py",
   "mimetype": "text/x-python",
   "name": "python",
   "nbconvert_exporter": "python",
   "pygments_lexer": "ipython3",
   "version": "3.10.9"
  }
 },
 "nbformat": 4,
 "nbformat_minor": 2
}
