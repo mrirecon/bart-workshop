{
 "cells": [
  {
   "cell_type": "markdown",
   "id": "6f2acd66",
   "metadata": {},
   "source": [
    "# Real-Time MRI with BART 🎥\n",
    "\n",
    "## Structure\n",
    "\n",
    "### Part 1: Simple Real-Time MRI Reconstruction\n",
    "\n",
    "Using the adjoint NuFFT paired with the Ram-Lak Filter, a real-time dataset\n",
    "acquired with a turn-based radial FLASH sequence is reconstructed.\n",
    "\n",
    "### Part 2: Iterative Reconstruction\n",
    "\n",
    "We transform the previous reconstruction into something more modern.\n",
    "\n",
    "### Part 3: iGRASP and Real-Time NLINV\n",
    "\n",
    "We use BART to run the well-known iGRASP method.\n",
    "\n",
    "A previously \"hidden\" step, the creation of coil sensitivities, is examined further. We look at a different iterative reconstruction scheme which is very suitable for real-time MRI and real-time reconstruction."
   ]
  },
  {
   "cell_type": "markdown",
   "id": "47ab7f2e-c673-4267-b17d-38510131a6e2",
   "metadata": {},
   "source": [
    "## Setup Environment for BART\n",
    "\n",
    "This notebook assumes bart is 'available', i.e. has been successfully installed beforehand.\n",
    "\n",
    "\n",
    "If this doesn't work, please consult the [installation guide](https://mrirecon.github.io/bart/installation.html)."
   ]
  },
  {
   "cell_type": "markdown",
   "id": "a3c44ae3-cd25-4670-b9b5-1d46e7a58130",
   "metadata": {},
   "source": [
    "✅ You should be able to run bart \"directly\" in this notebook:"
   ]
  },
  {
   "cell_type": "code",
   "execution_count": null,
   "id": "06cb31c3-b968-4c3c-bb7c-e0b7a990dbda",
   "metadata": {},
   "outputs": [],
   "source": [
    "! bart version"
   ]
  },
  {
   "cell_type": "markdown",
   "id": "46f9cf51-660f-4fc6-80b1-0f3abcde978f",
   "metadata": {},
   "source": [
    "# Part 3: iGRASP and Real-Time NLINV\n",
    "\n",
    "In this exercise, we will\n",
    "- Change to another dataset, acquired with golden angle\n",
    "- Add  TV regularization, that is, add the term $||\\frac{d}{dt}  x||_1$ to the optimization problem solved by pics.\n",
    "\n",
    "In combination, this is the well-known \"iGRASP\" method."
   ]
  },
  {
   "cell_type": "markdown",
   "id": "ba0c9c6a-3024-41a0-bd0e-597aa891e7f5",
   "metadata": {},
   "source": [
    "## Reading in the data\n",
    "\n",
    "- Change into a new directory for this exercise, as we're working with a different dataset"
   ]
  },
  {
   "cell_type": "code",
   "execution_count": null,
   "id": "3a32a815-d406-42bd-aa54-d162f3ade5e1",
   "metadata": {},
   "outputs": [],
   "source": [
    "! mkdir -p session3_2\n",
    "%cd session3_2"
   ]
  },
  {
   "cell_type": "markdown",
   "id": "2b707069-e64a-4139-8b55-fb4d7c96a3f5",
   "metadata": {},
   "source": [
    "Download the dataset.\n",
    "\n",
    "This might take a while, it is slighly larger."
   ]
  },
  {
   "cell_type": "code",
   "execution_count": null,
   "id": "039018d9-3373-4541-96bc-f4ea99e3b57f",
   "metadata": {},
   "outputs": [],
   "source": [
    "%%bash\n",
    "[ -f ksp_gi7.ra ] || wget https://cloud.tugraz.at/index.php/s/YtJLSmdwfDZrXzX/download/ksp_gi7.ra\n",
    "bart copy ksp_gi7.ra ksp"
   ]
  },
  {
   "cell_type": "markdown",
   "id": "e740472b-b5c0-405d-9965-f248c1a690bc",
   "metadata": {},
   "source": [
    "## 'Publish' data parameters & Rebinning choice\n",
    "\n",
    "This cell should be used to set the parameters for the following commands using \"environment variables\".\n",
    "\n",
    "As we can't do this persistently from `%%bash` cells, it is done in Python.\n",
    "\n",
    "✏️ **Adjust the parameters to the actually measured file**"
   ]
  },
  {
   "cell_type": "code",
   "execution_count": null,
   "id": "e18034f5-26b0-4672-b8a6-00a0054387f8",
   "metadata": {},
   "outputs": [],
   "source": [
    "# measurement (or simulation) parameters\n",
    "spokes = 3920\n",
    "golden_index = 7\n",
    "baseres = 196\n",
    "\n",
    "# rebinning choice:\n",
    "spokes_per_frame = 15\n",
    "\n",
    "\n",
    "# calculate rebinned dataset\n",
    "frames = (spokes // spokes_per_frame)\n",
    "spokes_cropped = spokes_per_frame * frames\n",
    "\n",
    "# export\n",
    "import os\n",
    "os.environ[\"SPOKES\"] = str(spokes)\n",
    "os.environ[\"SPOKES_PER_FRAME\"] = str(spokes_per_frame)\n",
    "os.environ[\"SPOKES_CROPPED\"] = str(spokes_cropped)\n",
    "os.environ[\"FRAMES\"] = str(frames)\n",
    "os.environ[\"GI\"] = str(golden_index)\n",
    "os.environ[\"BASERES\"] = str(baseres)"
   ]
  },
  {
   "cell_type": "markdown",
   "id": "ea613ced-368b-4d85-988c-abebb3a9ec47",
   "metadata": {},
   "source": [
    "---\n",
    "\n",
    "## Alternative: Simulate a golden angle dataset\n",
    "\n",
    "If no raw data is available, you can use the `bart phantom` tool to generate a dataset.\n",
    "\n",
    "Unfortunately, it doesn't move, but it can still help quickly testing your algorithms!"
   ]
  },
  {
   "cell_type": "code",
   "execution_count": null,
   "id": "9774ccbb-0a10-4bff-a237-0d699f0ebcc4",
   "metadata": {},
   "outputs": [],
   "source": [
    "%%bash\n",
    "# might take a few seconds, depending on the number of coils!\n",
    "set -eu\n",
    "\n",
    "NCOILS=4\n",
    "\n",
    "bart traj -r -D -o2 -x$BASERES -y$SPOKES -G -s$GI trj\n",
    "bart phantom -t trj -k -s$NCOILS ksp"
   ]
  },
  {
   "cell_type": "markdown",
   "id": "72e6c917-f49b-4dc3-82d9-06acfd8cf591",
   "metadata": {},
   "source": [
    "## Data preprocessing and rebinning\n",
    "\n",
    "We start with coil compression as per the usual:"
   ]
  },
  {
   "cell_type": "code",
   "execution_count": null,
   "id": "72cfd616-ed38-4459-8a69-e038b5bd3906",
   "metadata": {},
   "outputs": [],
   "source": [
    "%%bash\n",
    "bart cc -p8 ksp ksp_cc"
   ]
  },
  {
   "cell_type": "markdown",
   "id": "07654e09-049d-4c07-b2c3-6267a8e3e335",
   "metadata": {},
   "source": [
    "The next step (and first task) is to re-bin the dataset.\n",
    "Previously, we already exported the environment variables FRAMES, SPOKES_PER_FRAME, and SPOKES_CROPPED = FRAMES * SPOKES_PER_FRAME.\n",
    "\n",
    "✏️ **Re-Binning**:\n",
    "- Resize the dataset to SPOKES_CROPPED spokes, removing the last few spokes\n",
    "- Reshape the dataset, so that we get a file with several frames and a number of spokes per frame, instead of one big frame.\n",
    "\n",
    "output filename: ksp_frames"
   ]
  },
  {
   "cell_type": "code",
   "execution_count": null,
   "id": "2a5bfef0-2a77-496a-be28-e34eac5dfb9a",
   "metadata": {},
   "outputs": [],
   "source": [
    "%%bash\n"
   ]
  },
  {
   "cell_type": "markdown",
   "id": "666d9c8d-223e-4490-8014-a31d519b568e",
   "metadata": {},
   "source": [
    "<details>\n",
    "    <summary>Show solution</summary>\n",
    "\n",
    "    %%bash\n",
    "    bart resize 2 $SPOKES_CROPPED ksp_cc ksp_cropped\n",
    "    bart reshape $(bart bitmask 2 10) $SPOKES_PER_FRAME $FRAMES ksp_cropped ksp_frames\n",
    "</details>"
   ]
  },
  {
   "cell_type": "markdown",
   "id": "d941af94-c2f6-4c85-a404-8f5b52fedde5",
   "metadata": {},
   "source": [
    "✅ The output file should now have length FRAMES along dimension 10 and length SPOKES_PER_FRAME along dim 2.\n",
    "\n",
    "You can check with the following code:"
   ]
  },
  {
   "cell_type": "code",
   "execution_count": null,
   "id": "3d44726f-e8ee-4869-9259-37d6db151ac1",
   "metadata": {},
   "outputs": [],
   "source": [
    "%%bash\n",
    "\n",
    "[ $FRAMES -eq $(bart show -d 10 ksp_frames) ] && \\\n",
    "[ $SPOKES_PER_FRAME -eq $(bart show -d 2 ksp_frames) ] && echo \"Looks good!\" || echo \"Something's not yet right.\"\n",
    "\n",
    "bart show -m ksp_frames"
   ]
  },
  {
   "cell_type": "markdown",
   "id": "3e83b3eb-bce8-4b62-bf3d-d2cc120ea2cf",
   "metadata": {},
   "source": [
    "## Generating the trajectory\n",
    "\n",
    "✏️ **Generate a trajectory that matches the raw data.**\n",
    "\n",
    "\n",
    "The output file should be named \"trj\".\n",
    "\n",
    "<details>\n",
    "    <summary> Show me the parameters to the traj command </summary>\n",
    "\n",
    "    `bart traj -r -D -G -o2 -x$BASERES -y$SPOKES -G -s$GI trj`\n",
    "</details>"
   ]
  },
  {
   "cell_type": "code",
   "execution_count": null,
   "id": "3dcaa44e-193b-4dea-bdc6-f04feab9c525",
   "metadata": {},
   "outputs": [],
   "source": [
    "%%bash\n",
    "bart traj -r"
   ]
  },
  {
   "cell_type": "markdown",
   "id": "d5ef0d62-82e2-420d-bc2b-c4c6f03922e9",
   "metadata": {},
   "source": [
    "<details>\n",
    "    <summary>Show solution</summary>\n",
    "    \n",
    "    %%bash\n",
    "    bart traj -r -D -o2 -x$BASERES -y$SPOKES -G -s$GI trj\n",
    "</details>"
   ]
  },
  {
   "cell_type": "markdown",
   "id": "6f32bcde-b5d6-4439-a04b-f0d39ce3b5c3",
   "metadata": {},
   "source": [
    "✏️ **Rebin the trajectory**\n",
    "- Now, apply the same steps previously applied to the data to re-bin the trajectory:"
   ]
  },
  {
   "cell_type": "code",
   "execution_count": null,
   "id": "acdfa6ac-b4ed-4362-ae0b-669b6ae0a542",
   "metadata": {},
   "outputs": [],
   "source": [
    "%%bash\n"
   ]
  },
  {
   "cell_type": "markdown",
   "id": "869c1316-b59d-458f-9d41-157845b38c02",
   "metadata": {},
   "source": [
    "<details>\n",
    "    <summary>Show solution</summary>\n",
    "    \n",
    "    %%bash\n",
    "    # rebin traj\n",
    "    bart resize 2 $SPOKES_CROPPED trj trj_cropped\n",
    "    bart reshape $(bart bitmask 2 10) $SPOKES_PER_FRAME $FRAMES trj_cropped trj_frames\n",
    "</details>"
   ]
  },
  {
   "cell_type": "markdown",
   "id": "0d1fd96d-5b4d-4217-81db-3cd2f3c91277",
   "metadata": {},
   "source": [
    "## Estimating coil sensitivities\n",
    "\n",
    "To estimate coil sensitivities, we'll proceed as before, this time using the complete non-rebinned dataset as an input "
   ]
  },
  {
   "cell_type": "code",
   "execution_count": null,
   "id": "12771880-2065-446e-b0f1-47b27fdc5b16",
   "metadata": {},
   "outputs": [],
   "source": [
    "%%bash\n",
    "# full frame for coil estimation\n",
    "bart scale 1.5 trj trj_os\n",
    "bart ncalib -t trj_os ksp_cc coils"
   ]
  },
  {
   "cell_type": "markdown",
   "id": "c11929ed-8523-4fa1-a946-eca71650a5d8",
   "metadata": {},
   "source": [
    "## iGRASP Reco\n",
    "\n",
    "and finally!\n",
    "\n",
    "✏️ **Run an iGRASP Reco using BART PICS**\n",
    "\n",
    "Some hints:\n",
    "\n",
    "- `pics -Rh` gives you information about the available regularization options. Look for `T`\n",
    "- The \"joint\" threshold flags are zero.\n",
    "- A good regularization starting value is ~0.01\n",
    "- Remember scaling the trajectory! The value used here must match the value used before to reconstruct the coils.\n",
    "- Start with a few frames instead of the whole dataset, to see the command is working as intended."
   ]
  },
  {
   "cell_type": "code",
   "execution_count": null,
   "id": "0d36c162-e341-4914-b89f-fdb08e6e7593",
   "metadata": {},
   "outputs": [],
   "source": [
    "%%bash\n"
   ]
  },
  {
   "cell_type": "markdown",
   "id": "674021e8-87c4-4eb9-b88c-a20fa7963abc",
   "metadata": {},
   "source": [
    "<details>\n",
    "    <summary>Show solution</summary>\n",
    "    \n",
    "    %%bash\n",
    "    \n",
    "    bart extract 10 0 10 ksp_frames ksp_small\n",
    "    bart extract 10 0 10 trj_frames trj_small\n",
    "    \n",
    "    bart scale 1.5 trj_small trj_small_os\n",
    "    \n",
    "    bart pics -t trj_small_os ksp_small coils img_pics\n",
    "    \n",
    "    bart pics -RT:1024:0:0.01 -t trj_small_os ksp_small coils img_pics_os\n",
    "    \n",
    "    bart resize -c 0 $BASERES 1 $BASERES img_pics_os img_pics\n",
    "</details>"
   ]
  },
  {
   "cell_type": "code",
   "execution_count": null,
   "id": "aafe299a-744e-4307-aebe-dfba0b95a709",
   "metadata": {},
   "outputs": [],
   "source": [
    "!bart view img_pics"
   ]
  },
  {
   "cell_type": "markdown",
   "id": "501d92fd-bedc-4571-bcde-4f2258e8375f",
   "metadata": {},
   "source": [
    "### Parameter exploration\n",
    "\n",
    "Spokes per frame as well as regularization strength were chosen more or less arbitrarily here.\n",
    "\n",
    "Generally speaking, a low regularization strength and a low number of spokes per frame are desirable, but there is a trade-off.\n",
    "\n",
    "✏️ **Try to find parameter values which lead to (subjectively) optimal spatio-temporal resolution**"
   ]
  },
  {
   "cell_type": "markdown",
   "id": "0bcfc30e-1cba-4b7b-828a-40620cff7cf6",
   "metadata": {},
   "source": [
    "## Real-Time NLINV\n",
    "\n",
    "So far, we've been using the elusive `bart ncalib` command to estimate sensitivities for our reconstructions.\n",
    "\n",
    "ncalib under the hood uses nonlinear regularized inversion (NLINV), a method which estimates coil sensitivities and images in a single optimization step. The images are 'thrown away' in ncalib, albeit the method is very well-suited for real-time MRI.\n",
    "\n",
    "Thus, in this last part, we will use NLINV for image reconstruction without prior calibration step.\n",
    "\n",
    "✏️ **Reconstruct the iGRASP dataset with Real-Time NLINV**\n",
    "\n",
    "<details>\n",
    "    <summary>Hint about rtnlinv vs nlinv</summary>\n",
    "\n",
    "there are currently two nlinv commands in BART, nlinv and rtnlinv.\n",
    "If you built from source, we recommend that you use `nlinv --real-time` instead of rtnlinv.\n",
    "However, if you are stuck on BART v0.9.00, `rtnlinv` should work as well, but it is much slower.\n",
    "</details>"
   ]
  },
  {
   "cell_type": "code",
   "execution_count": null,
   "id": "c217c71f-db39-4078-9f29-78386e305234",
   "metadata": {},
   "outputs": [],
   "source": [
    "%%bash\n"
   ]
  },
  {
   "cell_type": "markdown",
   "id": "63d6b702-746c-4f05-93d9-7854915638ce",
   "metadata": {},
   "source": [
    "<details>\n",
    "    <summary>Show solution</summary>\n",
    "\n",
    "    %%bash\n",
    "    bart extract 10 0 10 ksp_frames ksp_small\n",
    "    bart extract 10 0 10 trj_frames trj_small\n",
    "    \n",
    "    bart scale 1.5 trj_small trj_small_os\n",
    "    \n",
    "    # for BART 0.9.00:\n",
    "    # bart rtnlinv -t trj_small_os ksp_small img_nlinv_os\n",
    "    bart nlinv --real-time -t trj_small_os ksp_small img_nlinv_os\n",
    "    \n",
    "    bart resize -c 0 $BASERES 1 $BASERES img_nlinv_os img_nlinv\n",
    "</details>"
   ]
  },
  {
   "cell_type": "code",
   "execution_count": null,
   "id": "cc35bd19-7f86-456c-b6ed-0b78b6f43888",
   "metadata": {},
   "outputs": [],
   "source": [
    "!bart view img_nlinv"
   ]
  },
  {
   "cell_type": "markdown",
   "id": "4009511f-9ca4-4cfa-ab4e-b879f3091d94",
   "metadata": {},
   "source": [
    "---\n",
    "\n",
    "This is the end of this tutorial on real-time MRI. :)\n",
    "🏁🐐🎉 All done!\n",
    "\n",
    "Hope you enjoyed!"
   ]
  }
 ],
 "metadata": {
  "kernelspec": {
   "display_name": "Python 3 (ipykernel)",
   "language": "python",
   "name": "python3"
  },
  "language_info": {
   "codemirror_mode": {
    "name": "ipython",
    "version": 3
   },
   "file_extension": ".py",
   "mimetype": "text/x-python",
   "name": "python",
   "nbconvert_exporter": "python",
   "pygments_lexer": "ipython3",
   "version": "3.13.2"
  }
 },
 "nbformat": 4,
 "nbformat_minor": 5
}
