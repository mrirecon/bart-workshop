{
 "cells": [
  {
   "cell_type": "markdown",
   "id": "1f4124b4",
   "metadata": {},
   "source": [
    "# Non-Cartesian T1 | Subspace-Constrained Reconstruction\n",
    "This tutorial uses the [`BART`](http://mrirecon.github.io/bart/) command-line interface (CLI) and presents how to work with radial data using BART, with the goal of implementing a full processing pipeline from raw data to T1 maps.\n",
    "\n",
    "\n",
    "## Outline\n",
    "1. Bart Setup\n",
    "6. Reconstruction Pulseq Data\n",
    "   1. Prepare data\n",
    "   2. Subspace reconstruction\n",
    "   3. Postprocessing\n",
    "   \n",
    "\n",
    "\n",
    "**Author**: [Vitali Telezki](mailto:vitali.telezki@med.uni-goettingen.de)\n",
    "\n",
    "**Institution**: University Medical Center Göttingen\n",
    "\n",
    "Based on previous material written by [Daniel Mackner](mailto:daniel.mackner@tugraz.at), [Moritz Blumenthal](mailto:blumenthal@@tugraz.at) and [Jon Tamir](mailto:jtamir@utexas.edu).\n",
    "\n",
    "In this interactive session, we recommend running BART calls in the terminal, and use this notebook as a reference. Nevertheless, we will provide some examples of how to run BART commands in this notebook to be self-contained.\n",
    "\n",
    "**💡CAVE:💡**\n",
    "\n",
    "- **`%%bash` Cells in Jupyter Notebooks:**\n",
    "  Magic commands like `%%bash` allow you to run bash commands directly within your notebook.\n",
    "  Simply prefix your cell with `%%bash`, and you can run any shell command, including calls to BART tools, just as you would in a terminal.\n",
    "\n",
    "- **`%%pybash` Cells in this Jupyter Notebook:**\n",
    "   Since it is cumbersome to redefine bash variables over and over, we use a custom magic command `%%pybash` instead. This custom magic command allows to access python variables inside the `bash` environment, making execution more convenient and consistent. The caveat here is that variables need to be enclosed by `{}` and not preceeded by `$`. Be careful, when copy-pasting code to your terminal. We use `%%bash` wherever possible for simple translation.\n",
    "- **Google Colab**\n",
    "The nootebook cell will setup BART on Google Colab automatically. For a detailed explanation, see **How to Run BART on Google Colaboratory** [here](https://github.com/mrirecon/bart-workshop/blob/master/ismrm2020/bart_on_colab/colab_gpu_tutorial.ipynb). This tutorial does need a GPU, you can select one by going to **Edit → Notebook settings**: Choose **GPU** from **Hardware accelerator** drop-down menu **before** you start a session.\n"
   ]
  },
  {
   "cell_type": "code",
   "execution_count": null,
   "id": "4c6d6216",
   "metadata": {},
   "outputs": [],
   "source": [
    "import os, sys\n",
    "\n",
    "os.environ['COLAB'] = 'true' if ('google.colab' in sys.modules) else 'false'"
   ]
  },
  {
   "cell_type": "code",
   "execution_count": null,
   "id": "cd7592ea",
   "metadata": {},
   "outputs": [],
   "source": [
    "from IPython import get_ipython\n",
    "from IPython.core.magic import register_cell_magic\n",
    "\n",
    "ipython = get_ipython()\n",
    "\n",
    "\n",
    "@register_cell_magic\n",
    "def pybash(line, cell):\n",
    "    ipython.run_cell_magic('bash', '', cell.format(**globals()))"
   ]
  },
  {
   "cell_type": "markdown",
   "id": "e98323ab",
   "metadata": {},
   "source": [
    "## Colab Requirements"
   ]
  },
  {
   "cell_type": "code",
   "execution_count": null,
   "id": "b2644b48",
   "metadata": {},
   "outputs": [],
   "source": [
    "%%bash\n",
    "\n",
    "# As of May 13 cuda installed in colab (12.5) is incompatible with the driver (12.4)\n",
    "# Therefore, we need to install cuda 12.4 and link it here but it takes time (up to 15 minutes!)\n",
    "\n",
    "if $COLAB; then\n",
    "\n",
    "    apt install cuda-12-4\n",
    "\n",
    "    cd /usr/local\n",
    "    rm cuda\n",
    "    ln -s cuda-12.4 cuda\n",
    "\n",
    "    echo \"GPU Information:\"\n",
    "    nvidia-smi --query-gpu=gpu_name,driver_version,memory.total --format=csv\n",
    "    nvcc --version\n",
    "fi"
   ]
  },
  {
   "cell_type": "code",
   "execution_count": null,
   "id": "25475863",
   "metadata": {},
   "outputs": [],
   "source": [
    "%%bash\n",
    "if $COLAB; then\n",
    "    apt-get install -y make  gcc-12 g++-12 libfftw3-dev liblapacke-dev libpng-dev libopenblas-dev &> /dev/null\n",
    "fi\n"
   ]
  },
  {
   "cell_type": "code",
   "execution_count": null,
   "id": "2104be73",
   "metadata": {},
   "outputs": [],
   "source": [
    "%%bash\n",
    "\n",
    "if $COLAB; then\n",
    "\n",
    "    [ -d /content/bart ] && rm -r /content/bart\n",
    "    git clone https://github.com/mrirecon/bart/ bart &> /dev/null\n",
    "fi"
   ]
  },
  {
   "cell_type": "markdown",
   "id": "e9e6815d",
   "metadata": {},
   "source": [
    "Install BART"
   ]
  },
  {
   "cell_type": "code",
   "execution_count": null,
   "id": "4a77e23b",
   "metadata": {},
   "outputs": [],
   "source": [
    "%%bash\n",
    "\n",
    "if $COLAB; then\n",
    "\n",
    "    cd bart\n",
    "    git checkout 3d6f19a\n",
    "    \n",
    "    COMPILE_SPECS=\" PARALLEL=1\n",
    "                    CUDA=1\n",
    "                    CUDA_BASE=/usr/local/cuda\n",
    "                    CUDA_LIB=lib64\n",
    "                    OPENBLAS=1\n",
    "                    BLAS_THREADSAFE=1\n",
    "                    CC=gcc-12\"\n",
    "\n",
    "\n",
    "    printf \"%s\\n\" $COMPILE_SPECS > Makefiles/Makefile.local\n",
    "    make &> /dev/null\n",
    "fi"
   ]
  },
  {
   "cell_type": "markdown",
   "id": "a9b0e93a",
   "metadata": {},
   "source": [
    "## Bart Setup"
   ]
  },
  {
   "cell_type": "markdown",
   "id": "3207f16c",
   "metadata": {},
   "source": [
    "Set environment variables: enables correct path to BART"
   ]
  },
  {
   "cell_type": "code",
   "execution_count": null,
   "id": "84dcad94",
   "metadata": {},
   "outputs": [],
   "source": [
    "# Define environment variables for BART and OpenMP\n",
    "if os.environ['COLAB']:\n",
    "\n",
    "    os.environ['BART_TOOLBOX_PATH'] = \"/content/bart\"\n",
    "    os.environ['OMP_NUM_THREADS']=\"4\"\n",
    "\n",
    "    # Add the BARTs toolbox to the PATH variable\n",
    "    os.environ['PATH'] = os.environ['BART_TOOLBOX_PATH'] + \":\" + os.environ['PATH']\n",
    "    sys.path.append(os.environ['BART_TOOLBOX_PATH'] + \"/python\")"
   ]
  },
  {
   "cell_type": "markdown",
   "id": "1150a41e",
   "metadata": {},
   "source": [
    "Test, if BART is installed correctly"
   ]
  },
  {
   "cell_type": "code",
   "execution_count": null,
   "id": "decdec9a",
   "metadata": {},
   "outputs": [],
   "source": [
    "%%bash\n",
    "echo \"# BART used in this notebook:\"\n",
    "which bart\n",
    "echo \"# BART version: \"\n",
    "bart version"
   ]
  },
  {
   "cell_type": "markdown",
   "id": "549091e3",
   "metadata": {},
   "source": [
    "## Python Requirements"
   ]
  },
  {
   "cell_type": "code",
   "execution_count": null,
   "id": "cbbddeee",
   "metadata": {},
   "outputs": [],
   "source": [
    "%%bash\n",
    "if $COLAB; then \n",
    "    mkdir -p tutorial\n",
    "    cd tutorial \n",
    "    git init\n",
    "    git remote add -f origin https://github.com/mrirecon/bart-workshop.git\n",
    "    git sparse-checkout init\n",
    "    git sparse-checkout set \"dach_ismrm2025/subspace/src/\"\n",
    "    git pull origin master\n",
    "    mv dach_ismrm2025/subspace/src/ ../\n",
    "fi"
   ]
  },
  {
   "cell_type": "code",
   "execution_count": null,
   "id": "3aa06091",
   "metadata": {},
   "outputs": [],
   "source": [
    "import matplotlib as mpl\n",
    "import matplotlib.pyplot as plt\n",
    "import src.plotSubspace as ps\n",
    "# import numpy as np\n",
    "# import importlib\n",
    "\n",
    "mpl.rcParams.update(mpl.rcParamsDefault)\n",
    "plt.style.use(['ggplot', 'src/customStyle.mplstyle'])"
   ]
  },
  {
   "cell_type": "markdown",
   "id": "ce287e47",
   "metadata": {},
   "source": [
    "## Reconstruction Pulseq Data\n",
    "\n",
    "Now, we aim to reconstruct data obtained with Pulseq and a sequence prepared by `bart seq`.\n",
    "First, we create a signal dictionary, then we perform a SVD and finally create the temporal basis used in subspace reconstruction."
   ]
  },
  {
   "cell_type": "markdown",
   "id": "e898fc17",
   "metadata": {},
   "source": [
    "### Download phantom data. **Might need to replace URL to get data we just recorded.**"
   ]
  },
  {
   "cell_type": "code",
   "execution_count": null,
   "id": "7312e40f",
   "metadata": {},
   "outputs": [],
   "source": [
    "%%bash \n",
    "\n",
    "wget https://zenodo.org/records/17076345/files/ksp_irraga.cfl -O tmp_ksp.cfl\n",
    "wget https://zenodo.org/records/17076345/files/ksp_irraga.hdr -O tmp_ksp.hdr\n"
   ]
  },
  {
   "cell_type": "markdown",
   "id": "ab8c08e4",
   "metadata": {},
   "source": [
    "We notice `PHS2_DIM` should be `TE_DM` instead."
   ]
  },
  {
   "cell_type": "code",
   "execution_count": null,
   "id": "d2b2a771",
   "metadata": {},
   "outputs": [],
   "source": [
    "%%bash \n",
    "bart transpose 2 5 tmp_ksp tmp_ksp\n",
    "head -n2 tmp_ksp.hdr"
   ]
  },
  {
   "cell_type": "markdown",
   "id": "e887aaff",
   "metadata": {},
   "source": [
    "### Trajectory and Sequence Params\n",
    "You should have all relevant information from initial use of `bart seq`, when preparing Pulseq sequence. In case that is lost, we rerun the following commands. "
   ]
  },
  {
   "cell_type": "code",
   "execution_count": null,
   "id": "cfa3809f",
   "metadata": {},
   "outputs": [],
   "source": [
    "FIBO=377  # fibonacci number satisfying Nyquist when using RAGA\n",
    "FRAMES=3\n",
    "REP=int(FIBO*FRAMES)"
   ]
  },
  {
   "cell_type": "code",
   "execution_count": null,
   "id": "c14782ff",
   "metadata": {},
   "outputs": [],
   "source": [
    "%%pybash \n",
    "\n",
    "bart seq --IR_NON --raga --chrono -t {REP} -r {FIBO} grad mom adc\n",
    "bart vec 1 1 0 tmp_a\n",
    "bart extract 0 2 5 adc - | bart fmac - tmp_a traj\n",
    "bart scale 0.5 traj traj\n",
    "head -n2 traj.hdr"
   ]
  },
  {
   "cell_type": "markdown",
   "id": "5b5d1ff1",
   "metadata": {},
   "source": [
    "For subspace reco, all spokes in dim 5:"
   ]
  },
  {
   "cell_type": "code",
   "execution_count": null,
   "id": "07b9dded",
   "metadata": {},
   "outputs": [],
   "source": [
    "%%pybash \n",
    "bart reshape $(bart bitmask 2 10) 1 {REP} traj - | bart transpose 5 10 - traj\n",
    "head -n2 traj.hdr"
   ]
  },
  {
   "cell_type": "markdown",
   "id": "5b4111b9",
   "metadata": {
    "notebookRunGroups": {
     "groupValue": "2"
    }
   },
   "source": [
    "## Create Dictionary\n",
    "\n",
    "The signal model according to Look-Locker in voxel $r$ at time $t$ is\n",
    "$$ \n",
    "M(t,r)~=~M_{ss}(r)~-~\\left[M_{ss}(r)~+~M_{0}(r)\\right]~e^{-tR_1^*(r)}.~\n",
    "$$\n",
    "\n",
    "Using `bart signal` we create our signal dictionary with `nR1s` values for R1star and `nMss` values for steady-state magnetization. "
   ]
  },
  {
   "cell_type": "code",
   "execution_count": null,
   "id": "bb12ae41",
   "metadata": {},
   "outputs": [],
   "source": [
    "TR=0.00311 # [s] , BlockDurationRaster x DUR = 1e-05 x 311 = 0.00311\n",
    "nR1s=1000\n",
    "nMss=100"
   ]
  },
  {
   "cell_type": "code",
   "execution_count": null,
   "id": "f00cf4a5",
   "metadata": {},
   "outputs": [],
   "source": [
    "%%pybash\n",
    "### create vector with inversion times nREP*TR\n",
    "bart index 5 {REP} - | bart scale {TR} - TI\n",
    "bart signal -F -I -n {REP} -r {TR} -1 5e-3:5:{nR1s} -3 1e-2:1:{nMss} tmp_dict\n",
    "# reshape the dictionary to have all the elements on the 6th dimension\n",
    "bart reshape $(bart bitmask 6 7) $(({nR1s} * {nMss})) 1 tmp_dict tmp_dict1\n",
    "head -n2 tmp_dict1.hdr\n",
    "# squeeze the dicc1 before SVD\n",
    "bart squeeze tmp_dict1 subspace_dict\n",
    "head -n2 subspace_dict.hdr\n",
    "# perform SVD on dictionary\n",
    "bart svd -e subspace_dict U S V"
   ]
  },
  {
   "cell_type": "markdown",
   "id": "9ac84bc2",
   "metadata": {},
   "source": [
    "### Visualize simulated dictionay and PCA coeffcients"
   ]
  },
  {
   "cell_type": "code",
   "execution_count": null,
   "id": "997f83b8",
   "metadata": {},
   "outputs": [],
   "source": [
    "ps.plotSubspace()"
   ]
  },
  {
   "cell_type": "markdown",
   "id": "366196ff",
   "metadata": {},
   "source": [
    "### Estimate Coil Sensitivities Using Subspace\n",
    "We realized, that 4 PCA coefficients contribute to more than 99% of the observed signal. Hence, we can reduce our basis to only contain the first 4 eigenvectors. We create a subspace basis spanned by those 4 eigenvectors."
   ]
  },
  {
   "cell_type": "code",
   "execution_count": null,
   "id": "34d0599a",
   "metadata": {},
   "outputs": [],
   "source": [
    "nCoe = 4 ## use 4 coefficients"
   ]
  },
  {
   "cell_type": "code",
   "execution_count": null,
   "id": "86725660",
   "metadata": {},
   "outputs": [],
   "source": [
    "%%pybash\n",
    "\n",
    "# create the temporal basis\n",
    "bart extract 1 0 {nCoe} U subbasis\n",
    "# transpose the basis to have time on the 6th dimension and coefficients on the 5th dimension\n",
    "bart transpose 1 6 subbasis - | bart transpose 0 5 - subbasis "
   ]
  },
  {
   "cell_type": "markdown",
   "id": "df31a4c0",
   "metadata": {},
   "source": [
    "For consistency, check dimensions of subbasis, input data and trajectory:"
   ]
  },
  {
   "cell_type": "code",
   "execution_count": null,
   "id": "dbc79fd8",
   "metadata": {},
   "outputs": [],
   "source": [
    "%%bash \n",
    "\n",
    "head -n2 subbasis.hdr\n",
    "head -n2 tmp_ksp.hdr\n",
    "head -n2 traj.hdr\n"
   ]
  },
  {
   "cell_type": "markdown",
   "id": "cf545179",
   "metadata": {},
   "source": [
    "\n",
    " Now, we estimate coil sensitivities using `bart ncalib` and reduced subspace basis in one go. "
   ]
  },
  {
   "cell_type": "code",
   "execution_count": null,
   "id": "09aa77bc",
   "metadata": {},
   "outputs": [],
   "source": [
    "%%bash\n",
    "\n",
    "DEBUG_LEVEL=4 bart ncalib -N -i16 -t traj -B subbasis tmp_ksp sens_ncalib"
   ]
  },
  {
   "cell_type": "markdown",
   "id": "d7a097cd",
   "metadata": {},
   "source": [
    "### Perform reconstruction \n",
    "\n",
    "Using estimated coil sensitvities, we can now perform parrallel imaging reconstruction with `bart pics`. We use the following parameter for iterations and regularization."
   ]
  },
  {
   "cell_type": "code",
   "execution_count": null,
   "id": "7122e0f6",
   "metadata": {},
   "outputs": [],
   "source": [
    "ITER=100\n",
    "REG=0.0005\n"
   ]
  },
  {
   "cell_type": "code",
   "execution_count": null,
   "id": "3a3d91b5",
   "metadata": {},
   "outputs": [],
   "source": [
    "%%pybash\n",
    "# # reconstruction with subspace constraint\n",
    "bart pics -g -e -d5 -i {ITER} -R W:$(bart bitmask 0 1):$(bart bitmask 6):{REG} -B subbasis -t traj tmp_ksp sens_ncalib subspace_reco"
   ]
  },
  {
   "cell_type": "markdown",
   "id": "7d0461f8",
   "metadata": {},
   "source": [
    "We can visualize the first 4 coefficients projected onto our data set"
   ]
  },
  {
   "cell_type": "code",
   "execution_count": null,
   "id": "53cca807",
   "metadata": {},
   "outputs": [],
   "source": [
    "ps.plotCoefficientMaps()\n"
   ]
  },
  {
   "cell_type": "code",
   "execution_count": null,
   "id": "649fe1a6",
   "metadata": {},
   "outputs": [],
   "source": [
    "%%bash\n",
    "## by chance, 2nd coefficient map also suitable for mask \n",
    "bart slice 6 1 subspace_reco - | bart threshold -B 0.3 - mask\n",
    "bart fmac mask subspace_reco subspace_reco"
   ]
  },
  {
   "cell_type": "markdown",
   "id": "498cd337",
   "metadata": {},
   "source": [
    "### Temporal Signal Evolution\n",
    "\n",
    "We can also project our subbasis onto all spokes, resulting in temporal signal evolution."
   ]
  },
  {
   "cell_type": "code",
   "execution_count": null,
   "id": "337338b7",
   "metadata": {},
   "outputs": [],
   "source": [
    "%%bash \n",
    "bart fmac -s $(bart bitmask 6) subbasis subspace_reco imgs"
   ]
  },
  {
   "cell_type": "code",
   "execution_count": null,
   "id": "6e62143e",
   "metadata": {},
   "outputs": [],
   "source": [
    "ps.plotTemporalEvolution()\n"
   ]
  },
  {
   "cell_type": "markdown",
   "id": "6662df65",
   "metadata": {},
   "source": [
    "### T1 Map from Reconstructed Images\n",
    "Using `bart mobafit` we obtain T1 parameter map via pixel-wise fitting. "
   ]
  },
  {
   "cell_type": "code",
   "execution_count": null,
   "id": "4d5e4eaa",
   "metadata": {},
   "outputs": [],
   "source": [
    "%%pybash\n",
    "### create vector with inversion times nREP*TR\n",
    "bart index 5 {REP} - | bart scale {TR} - TI\n",
    "\n",
    "DEBUG_LEVEL=4 bart mobafit -g -i8 --init 1:1:1 -B subbasis -L TI subspace_reco - | bart looklocker -t0 -D15.3e-3 - t1map"
   ]
  },
  {
   "cell_type": "code",
   "execution_count": null,
   "id": "a6cfbe43",
   "metadata": {},
   "outputs": [],
   "source": [
    "ps.plotT1Map()"
   ]
  }
 ],
 "metadata": {
  "kernelspec": {
   "display_name": ".venv",
   "language": "python",
   "name": "python3"
  },
  "language_info": {
   "codemirror_mode": {
    "name": "ipython",
    "version": 3
   },
   "file_extension": ".py",
   "mimetype": "text/x-python",
   "name": "python",
   "nbconvert_exporter": "python",
   "pygments_lexer": "ipython3",
   "version": "3.11.2"
  }
 },
 "nbformat": 4,
 "nbformat_minor": 5
}
