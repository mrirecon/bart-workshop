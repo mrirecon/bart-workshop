{
 "cells": [
  {
   "cell_type": "markdown",
   "metadata": {},
   "source": [
    "# BART sequence framework\n",
    "\n",
    "### 27th annual meeting of DACH-ISMRM + Nordic chapter\n",
    "\n",
    "- September 14th 2025\n",
    "\n",
    "\n",
    "The purpose of this notebook is to introduce basic concepts of the [BART toolbox](https://mrirecon.github.io/bart), especially the usage of the seq - tool, export to a pulseq sequence and actual scanning.\n",
    "\n",
    "We recommend checking other points of reference, primarily available in the following locations:\n",
    "- [BART Workshops](https://github.com/mrirecon/bart-workshop)\n",
    "- [BART Webinars](https://github.com/mrirecon/bart-webinars) (and [webinar recordings](https://www.youtube.com/@bart-toolboxdepartmental7435/playlists)\\)\n",
    "\n",
    "\n",
    "**Author**: [Daniel Mackner](mailto:daniel.mackner@tugraz.at)\n",
    "\n",
    "**Institution**: Graz University of Technology\n",
    "\n",
    "Based on previous material written by [Moritz Blumenthal](mailto:blumenthal@@tugraz.at), [H. Christian M. Holme](mailto:Holme@tugraz.at) and [Jon Tamir](mailto:jtamir@utexas.edu)"
   ]
  },
  {
   "cell_type": "markdown",
   "metadata": {},
   "source": [
    "## Content\n",
    "\n",
    "\n",
    "## Outline\n",
    "1. Bart Setup\n",
    "1. Sequence concepts\n",
    "1. pulse - tool\n",
    "1. seq - tool\n",
    "1. pulseq export\n",
    "\n",
    "* BART sequence\n",
    "  * config\n",
    "  * events and pulses\n",
    "  * gradients / moments\n",
    "  * trajectories\n",
    "  * (FoV shift)\n",
    "  * pulseq - export\n"
   ]
  },
  {
   "cell_type": "markdown",
   "metadata": {},
   "source": [
    "## Installation\n",
    "\n",
    "You can find more information on BART on the [Website](https://mrirecon.github.io/bart/)."
   ]
  },
  {
   "cell_type": "markdown",
   "metadata": {},
   "source": [
    "## 1 Setup BART\n",
    "This notebook is designed to run on a local system. It uses the python kernel, however, almost all commands use the `%%bash` cell magic to be executed in a `bash` subshell."
   ]
  },
  {
   "cell_type": "markdown",
   "metadata": {},
   "source": [
    "### 1.1 Local Usage\n",
    "- Install bart from its [github repository](https://github.com/mrirecon/bart)\n",
    "- Set the `BART_TOOLBOX_PATH` to the BART directory and add it to the `PATH`\n",
    "\n",
    "```bash\n",
    "export BART_TOOLBOX_PATH=/path/to/bart  \n",
    "export PATH=$BART_TOOLBOX_PATH:$PATH\n",
    "```\n",
    "\n",
    "Although the simplest way to call the BART CLI tools is from a terminal, there are also wrapper functions that allow the tools to be used from Matlab and Python. These are located under the `$BART_TOOLBOX_PATH/matlab` and `$BART_TOOLBOX_PATH/python` directories."
   ]
  },
  {
   "cell_type": "code",
   "execution_count": null,
   "metadata": {},
   "outputs": [],
   "source": [
    "import os, sys\n",
    "\n",
    "os.environ['COLAB'] = 'true' if ('google.colab' in sys.modules) else 'false'"
   ]
  },
  {
   "cell_type": "code",
   "execution_count": null,
   "metadata": {},
   "outputs": [],
   "source": [
    "%%bash\n",
    "\n",
    "# MyBinder has BART already installed via the container\n",
    "if $COLAB; then\n",
    "\n",
    "  # Install BARTs dependencies\n",
    "  apt-get install -y make gcc-12 g++-12 libfftw3-dev liblapacke-dev libpng-dev libopenblas-dev &> /dev/null\n",
    "\n",
    "  # Clone Bart\n",
    "  [ -d /content/bart ] && rm -r /content/bart\n",
    "  git clone https://github.com/mrirecon/bart/ bart &> /dev/null\n",
    "\n",
    "fi"
   ]
  },
  {
   "cell_type": "code",
   "execution_count": null,
   "metadata": {},
   "outputs": [],
   "source": [
    "%%bash\n",
    "\n",
    "if $COLAB; then\n",
    "\n",
    "  cd bart\n",
    "  git checkout d2896b04cb9a0b69c4ec26bbf790d73fcce29638\n",
    "\n",
    "  # Configuration\n",
    "  COMPILE_SPECS=\" PARALLEL=1\n",
    "                  OPENBLAS=1\n",
    "                  BLAS_THREADSAFE=1\n",
    "                  CC=gcc-12\"\n",
    "\n",
    "  printf \"%s\\n\" $COMPILE_SPECS > Makefiles/Makefile.local\n",
    "\n",
    "  # Compile BART\n",
    "  make &> /dev/null && echo ok\n",
    "fi"
   ]
  },
  {
   "cell_type": "code",
   "execution_count": null,
   "metadata": {},
   "outputs": [],
   "source": [
    "if os.environ['COLAB'] == 'true':\n",
    "    os.environ['BART_TOOLBOX_PATH'] = \"/content/bart\"\n",
    "    os.environ['OMP_NUM_THREADS']=\"4\"\n",
    "\n",
    "# Add the BARTs toolbox to the PATH variable\n",
    "os.environ['PATH'] = os.environ['BART_TOOLBOX_PATH'] + \":\" + os.environ['PATH']\n",
    "sys.path.append(os.environ['BART_TOOLBOX_PATH'] + \"/python\")"
   ]
  },
  {
   "cell_type": "code",
   "execution_count": null,
   "metadata": {},
   "outputs": [],
   "source": [
    "%%bash\n",
    "\n",
    "echo \"# The BART used in this notebook:\"\n",
    "which bart\n",
    "echo \"# BART version: \"\n",
    "bart version"
   ]
  },
  {
   "cell_type": "code",
   "execution_count": null,
   "metadata": {},
   "outputs": [],
   "source": [
    "# get a list of BART commands by running bart with no arguments:\n",
    "! bart"
   ]
  },
  {
   "cell_type": "code",
   "execution_count": null,
   "metadata": {},
   "outputs": [],
   "source": [
    "import os, sys\n",
    "import numpy as np\n",
    "import matplotlib.pyplot as plt\n",
    "\n",
    "sys.path.append(os.environ['BART_TOOLBOX_PATH'] + \"/python\")\n",
    "\n",
    "from bart import cfl\n",
    "\n",
    "def plot_from_cfl(name):\n",
    "    \"\"\"Plot from a BART cfl\"\"\"\n",
    "\n",
    "    if not os.path.exists(name + '.cfl'):\n",
    "        FileNotFoundError(f\"{name + '.cfl'} does not exist\")\n",
    "    if not os.path.exists(name + '.hdr'):\n",
    "        FileNotFoundError(f\"{name + '.hdr'} does not exist\")\n",
    "\n",
    "    data = np.array(cfl.readcfl('./' + name))\n",
    "\n",
    "    try:\n",
    "        fig, ax = plt.subplots(nrows=1, ncols=1, figsize=(10, 3))\n",
    "        ax.plot(np.real(data))\n",
    "        ax.grid()\n",
    "    except:\n",
    "        print(\"Could not plot data, probably not 1D.\")\n",
    "        plt.close(fig)\n",
    "    \n",
    "def plot_mom_from_cfl(name, ylim=-1):\n",
    "    \"\"\"Plot three axes from a BART cfl\"\"\"\n",
    "\n",
    "    if not os.path.exists(name + '.cfl'):\n",
    "        FileNotFoundError(f\"{name + '.cfl'} does not exist\")\n",
    "    if not os.path.exists(name + '.hdr'):\n",
    "        FileNotFoundError(f\"{name + '.hdr'} does not exist\")\n",
    "\n",
    "    data = np.array(cfl.readcfl('./' + name))\n",
    "\n",
    "    fig, ax = plt.subplots(nrows=1, ncols=3, figsize=(10, 3))\n",
    "\n",
    "    ax[0].plot(np.real(data[0,:]))\n",
    "    ax[1].plot(np.real(data[1,:]))\n",
    "    ax[2].plot(np.real(data[2,:]))\n",
    "\n",
    "    titles = ['RO', 'PE', 'SL']\n",
    "    for i in range(3):\n",
    "        ax[i].grid()\n",
    "        if ylim > 0:\n",
    "                ax[i].set_ylim(-ylim,ylim)\n",
    "        ax[i].set_title(titles[i])\n",
    "    \n",
    "\n",
    "def plot_grad_from_cfl(name):\n",
    "    \"\"\"Plot three axes from a BART cfl\"\"\"\n",
    "\n",
    "    plot_mom_from_cfl(name, 25)\n",
    "    \n",
    "\n",
    "def bart_show(name, title=None, vmin=None, vmax=None, cmap='gray', cbar_label='', mag=True, fsize=10):\n",
    "\n",
    "    if not os.path.exists(name + '.cfl'):\n",
    "        FileNotFoundError(f\"{name + '.cfl'} does not exist\")\n",
    "    if not os.path.exists(name + '.hdr'):\n",
    "        FileNotFoundError(f\"{name + '.hdr'} does not exist\")\n",
    "\n",
    "    # Import data\n",
    "    data = np.array(cfl.readcfl('./' + name))\n",
    "    data = np.abs(data) if mag else data\n",
    "\n",
    "    fig = plt.figure(figsize=(fsize,fsize))\n",
    "    ax1 = fig.add_subplot(111)\n",
    "    im = ax1.imshow(data, interpolation='nearest', cmap=cmap, vmin=vmin, vmax=vmax)\n",
    "    if title:\n",
    "      plt.title(title)\n",
    "\n",
    "    ax1.set_yticklabels([])\n",
    "    ax1.set_xticklabels([])\n",
    "    ax1.xaxis.set_ticks_position('none')\n",
    "    ax1.yaxis.set_ticks_position('none')\n",
    "    ax1.set_axis_off()\n",
    "\n",
    "\n",
    "    plt.show()\n"
   ]
  },
  {
   "cell_type": "markdown",
   "metadata": {},
   "source": [
    "## From pulse to pulseq"
   ]
  },
  {
   "cell_type": "markdown",
   "metadata": {},
   "source": [
    "### RF pulses\n",
    "\n",
    "We can generate pulses with the *pulse* tool"
   ]
  },
  {
   "cell_type": "code",
   "execution_count": null,
   "metadata": {},
   "outputs": [],
   "source": [
    "%%bash\n",
    "\n",
    "bart pulse -h"
   ]
  },
  {
   "cell_type": "code",
   "execution_count": null,
   "metadata": {},
   "outputs": [],
   "source": [
    "%%bash\n",
    "\n",
    "bart pulse --sinc pulse\n",
    "\n",
    "bart cabs pulse pulse_cabs\n",
    "bart carg pulse pulse_carg"
   ]
  },
  {
   "cell_type": "code",
   "execution_count": null,
   "metadata": {},
   "outputs": [],
   "source": [
    "plot_from_cfl('pulse_cabs')\n",
    "plot_from_cfl('pulse_carg')"
   ]
  },
  {
   "cell_type": "code",
   "execution_count": null,
   "metadata": {},
   "outputs": [],
   "source": [
    "%%bash\n",
    "\n",
    "bart pulse --hypsec pulse\n",
    "\n",
    "bart cabs pulse pulse_cabs\n",
    "bart carg pulse pulse_carg"
   ]
  },
  {
   "cell_type": "code",
   "execution_count": null,
   "metadata": {},
   "outputs": [],
   "source": [
    "plot_from_cfl('pulse_cabs')\n",
    "plot_from_cfl('pulse_carg')"
   ]
  },
  {
   "cell_type": "markdown",
   "metadata": {},
   "source": [
    "## Sequence block\n",
    "\n",
    "The computation of a single sequence block can be accessed with the *seq* tool.\n",
    "\n",
    "If we do not modify the sequence parameters via the interface, a default sequence configuration is used.\n",
    "\n",
    "Parameters can be found in *bart*: src/seq/config.c (or expand this cell)\n"
   ]
  },
  {
   "cell_type": "markdown",
   "metadata": {},
   "source": [
    "```c\n",
    "const struct seq_config seq_config_defaults = {\n",
    "\n",
    "\t.phys = {\n",
    "\t\t.tr = 3110.,\n",
    "\t\t.te = 1900.,\n",
    "\t\t.dwell = 4.0,\n",
    "\t\t.os = 2.,\n",
    "\t\t.contrast = CONTRAST_RF_RANDOM,\n",
    "\t\t.rf_duration = 620.,\n",
    "\t\t.flip_angle = 6.,\n",
    "\t\t.bwtp = 3.8,\n",
    "\t},\n",
    "\n",
    "\t.geom = {\n",
    "\t\t.fov = 256,\n",
    "\t\t.slice_thickness = 6.,\n",
    "\t\t.shift = { [0 ... MAX_SLICES - 1] = { 0., 0., 0. } },\n",
    "\t\t.baseres = 256,\n",
    "\t\t.mb_factor = 1,\n",
    "\t\t.sms_distance = 20.,\n",
    "\t},\n",
    "\n",
    "\t.enc = {\n",
    "\t\t.pe_mode = PEMODE_RAGA,\n",
    "\t\t.tiny = 1,\n",
    "\t\t.aligned_flags = 0,\n",
    "\t},\n",
    "\n",
    "\t.magn = {\n",
    "\t\t.mag_prep = PREP_OFF,\n",
    "\t\t.ti = 0.,\n",
    "\t},\n",
    "\n",
    "\t.sys = {\n",
    "\t\t.gamma = 42.575575,\n",
    "\t\t.grad.inv_slew_rate = 7.848885540911,\n",
    "\t\t.grad.max_amplitude = 24.,\n",
    "\t\t.coil_control_lead = 100.,\n",
    "\t\t.min_duration_ro_rf = 213.,\n",
    "\t},\n",
    "\n",
    "\t.order = { [0 ... DIMS - 1] = 1 },\n",
    "\t.loop_dims = { [0 ... DIMS - 1] = 1 },\n",
    "};\n",
    "```\n"
   ]
  },
  {
   "cell_type": "markdown",
   "metadata": {},
   "source": [
    "##"
   ]
  },
  {
   "cell_type": "code",
   "execution_count": null,
   "metadata": {},
   "outputs": [],
   "source": [
    "%%bash\n",
    "\n",
    "bart seq -h"
   ]
  },
  {
   "cell_type": "code",
   "execution_count": null,
   "metadata": {},
   "outputs": [],
   "source": [
    "%%bash\n",
    "\n",
    "bart seq grad moments"
   ]
  },
  {
   "cell_type": "code",
   "execution_count": null,
   "metadata": {},
   "outputs": [],
   "source": [
    "%%bash\n",
    "\n",
    "BART_DEBUG_LEVEL=5 bart seq grad moments\n",
    "bart show -m grad"
   ]
  },
  {
   "cell_type": "code",
   "execution_count": null,
   "metadata": {},
   "outputs": [],
   "source": [
    "plot_grad_from_cfl('grad')\n"
   ]
  },
  {
   "cell_type": "code",
   "execution_count": null,
   "metadata": {},
   "outputs": [],
   "source": [
    "plot_mom_from_cfl('moments')\n"
   ]
  },
  {
   "cell_type": "markdown",
   "metadata": {},
   "source": [
    "## Looping dimensions\n",
    "\n",
    "BART utilizes a variety of dimensions (long[16]) for different interpretations. In general these dimensions are consistent with other concepts, e.g. the trajectory.\n",
    "\n",
    "The current position of the loop counter is also used for setting the MDH header to be able to distinguish lines / partitions / slices / echoes  ...\n",
    "\n",
    "| Index | Dimension Name | Description |\n",
    "|-------|----------------|-------------|\n",
    "| 0     | READ_DIM\t| spatial position [x, y, z] for gradients/moments/trajectory |\n",
    "| 1     | PHS1_DIM\t| Readout dimension / Time of gradient/moment shape |\n",
    "| 2     | PHS2_DIM\t| First phase-encoding dimension |\n",
    "| ...   | ...\t\t| ... |\n",
    "| 6     | COEFF_DIM\t| = 3 (incl. pre- and post-imaging blocks, e.g. inversion pulse, delay times) |\n",
    "| 7     | COEFF2_DIM\t| multiple pre- (or post-) blocks |\n",
    "| ...   | ...\t\t| ... |\n",
    "| 10    | TIME_DIM\t| Dimension for time series |\n",
    "| ...   | ...\t\t| ... |\n",
    "| 13\t| SLICE_DIM\t| Second phase-encoding dimension / Slices |\n"
   ]
  },
  {
   "cell_type": "markdown",
   "metadata": {},
   "source": [
    "### Multiple radial spokes\n",
    "\n",
    "Now we want to set up a sequence with multiple radial spokes. \n",
    "\n",
    "In the case of RAGA (Rational Approximation of Golden Angle) we also have to set the total number of spokes (if more than 1 full frame)\n"
   ]
  },
  {
   "cell_type": "code",
   "execution_count": null,
   "metadata": {},
   "outputs": [],
   "source": [
    "%%bash\n",
    "\n",
    "BART_DEBUG_LEVEL=5 bart seq -r4 grad moments\n"
   ]
  },
  {
   "cell_type": "markdown",
   "metadata": {},
   "source": [
    "### What about the looping order?\n",
    "\n",
    "Looping over different dimensions also allows us to flexibly change the order.\n",
    "\n",
    "From the *seq* tool we can do this by setting the order which is basically a permutation of the dimension."
   ]
  },
  {
   "cell_type": "code",
   "execution_count": null,
   "metadata": {},
   "outputs": [],
   "source": [
    "%%bash\n",
    "\n",
    "BART_DEBUG_LEVEL=4 bart seq -r2 -m2 grad moments\n"
   ]
  },
  {
   "cell_type": "code",
   "execution_count": null,
   "metadata": {},
   "outputs": [],
   "source": [
    "%%bash\n",
    "BART_DEBUG_LEVEL=4 bart seq -r2 -m2 --sequential-multislice grad moments\n"
   ]
  },
  {
   "cell_type": "markdown",
   "metadata": {},
   "source": [
    "## How to obtain a trajectory from the sequence\n",
    "\n",
    "For this purpose we can define another optional output of the *seq* tool, which describes the ADC or actual sampling.\n",
    "\n",
    "When we check the dimensions, we see dim[READ_DIM] = 5: additionally to the trajectory, we also save the sampling time and the phase of each sample (where we can simulate FoV shifts).\n"
   ]
  },
  {
   "cell_type": "code",
   "execution_count": null,
   "metadata": {},
   "outputs": [],
   "source": [
    "%%bash\n",
    "bart seq -r377 grad moments adc\n",
    "\n",
    "bart show -m adc\n",
    "\n",
    "bart vec 1 1 0 a # set z component to zero\n",
    "bart extract 0 2 5 adc - | bart fmac a - seq_traj_lin\n",
    "\n",
    "\n",
    "bart traj -x 512 -y 377 -r -D trj_ref\n",
    "bart nrmse trj_ref seq_traj_lin"
   ]
  },
  {
   "cell_type": "markdown",
   "metadata": {},
   "source": [
    "\n",
    "### RAGA ordering scheme vs. chronologic ordering\n",
    "\n",
    "Let us compare the difference between the two different RAGA ordering schemes: saving in equidistant ordering scheme (default setting) and chronologic ordering"
   ]
  },
  {
   "cell_type": "code",
   "execution_count": null,
   "metadata": {},
   "outputs": [],
   "source": [
    "%%bash\n",
    "\n",
    "bart seq -r377 --chrono grad_chrono moments_chrono adc_chrono\n",
    "\n",
    "bart show -m adc_chrono\n",
    "\n",
    "bart vec 1 1 0 a # set z component to zero\n",
    "bart extract 0 2 5 adc_chrono - | bart fmac a - seq_traj_chrono\n",
    "\n",
    "\n",
    "bart traj -x 512 -y 377 -r -A -s 1 --double-base trj_ref_ga\n",
    "bart nrmse  trj_ref_ga seq_traj_chrono\n"
   ]
  },
  {
   "cell_type": "code",
   "execution_count": null,
   "metadata": {},
   "outputs": [],
   "source": [
    "plot_grad_from_cfl('grad')\n"
   ]
  },
  {
   "cell_type": "markdown",
   "metadata": {},
   "source": [
    "If we plot the first two gradients we see only a small incremenent of the projection angle"
   ]
  },
  {
   "cell_type": "code",
   "execution_count": null,
   "metadata": {},
   "outputs": [],
   "source": [
    "%%bash \n",
    "\n",
    "bart slice 2 0 grad grad_sp1\n",
    "bart slice 2 1 grad grad_sp2\n"
   ]
  },
  {
   "cell_type": "code",
   "execution_count": null,
   "metadata": {},
   "outputs": [],
   "source": [
    "plot_grad_from_cfl('grad_sp1')\n",
    "plot_grad_from_cfl('grad_sp2')\n"
   ]
  },
  {
   "cell_type": "markdown",
   "metadata": {},
   "source": [
    "In chronological ordering, e.g. the sequence which is played out, we have a way larger increment of the projection angle which is approximately the Golden Angle"
   ]
  },
  {
   "cell_type": "code",
   "execution_count": null,
   "metadata": {},
   "outputs": [],
   "source": [
    "%%bash \n",
    "\n",
    "bart slice 2 0 grad_chrono grad_sp1\n",
    "bart slice 2 1 grad_chrono grad_sp2"
   ]
  },
  {
   "cell_type": "code",
   "execution_count": null,
   "metadata": {},
   "outputs": [],
   "source": [
    "plot_grad_from_cfl('grad_sp1')\n",
    "plot_grad_from_cfl('grad_sp2')\n"
   ]
  },
  {
   "cell_type": "markdown",
   "metadata": {},
   "source": [
    "### FoV shifts\n",
    "\n",
    "We can also simulate (and validate) FoV shifts of our sequence by checking the phase of each ADC sample."
   ]
  },
  {
   "cell_type": "code",
   "execution_count": null,
   "metadata": {},
   "outputs": [],
   "source": [
    "%%bash\n",
    "\n",
    "bart seq -r 377 --raga --chrono --no-spoiling grad mom adc\n",
    "\n",
    "bart vec 1 1 0 a # set z component to zero\n",
    "bart extract 0 2 5 adc - | bart fmac a - - | bart scale 0.5 - traj\n",
    "\n",
    "bart phantom -k -t traj ksp\n",
    "\n",
    "bart nufft -i -t traj ksp img\n"
   ]
  },
  {
   "cell_type": "code",
   "execution_count": null,
   "metadata": {},
   "outputs": [],
   "source": [
    "bart_show(\"img\")"
   ]
  },
  {
   "cell_type": "code",
   "execution_count": null,
   "metadata": {},
   "outputs": [],
   "source": [
    "%%bash\n",
    "\n",
    "bart seq -s 25.6:12.8:0 -r 377 -t377 --raga --chrono --no-spoiling grad mom adc\n",
    "\n",
    "bart vec 1 1 0 a # set z component to zero\n",
    "bart extract 0 2 5 adc - | bart fmac a - - | bart scale 0.5 - traj\n",
    "\n",
    "bart phantom -k -t traj ksp\n",
    "\n",
    "bart nufft -i -t traj ksp img2\n"
   ]
  },
  {
   "cell_type": "code",
   "execution_count": null,
   "metadata": {},
   "outputs": [],
   "source": [
    "bart_show(\"img2\")\n"
   ]
  },
  {
   "cell_type": "code",
   "execution_count": null,
   "metadata": {},
   "outputs": [],
   "source": [
    "%%bash\n",
    "\n",
    "bart seq -s 25.6:12.8:0 -r 377 -t377 --raga --chrono --no-spoiling grad mom adc\n",
    "\n",
    "bart vec 1 1 0 a # set z component to zero\n",
    "bart extract 0 2 5 adc - | bart fmac a - - | bart scale 0.5 - traj\n",
    "\n",
    "\n",
    "bart extract 0 1 2 adc adc_phase\n",
    "\n",
    "# bart scale 0.5 trj_ref trj_scale\n",
    "bart phantom -k -t traj ksp\n",
    "\n",
    "bart fmac adc_phase ksp ksp_off\n",
    "\n",
    "bart nufft -i -t traj ksp img\n",
    "bart nufft -i -t traj ksp_off img_off"
   ]
  },
  {
   "cell_type": "code",
   "execution_count": null,
   "metadata": {},
   "outputs": [],
   "source": [
    "bart_show(\"img_off\", vmax=0.005)\n"
   ]
  },
  {
   "cell_type": "markdown",
   "metadata": {},
   "source": [
    "## Pulseq export\n",
    "\n",
    "\n",
    "We have already a sequence - let's export it to the open-source pulseq format"
   ]
  },
  {
   "cell_type": "code",
   "execution_count": null,
   "metadata": {},
   "outputs": [],
   "source": [
    "%%bash\n",
    "\n",
    "BART_DEBUG_LEVEL=5 bart seq -r1 grad moments adc single_spoke.seq"
   ]
  },
  {
   "cell_type": "markdown",
   "metadata": {},
   "source": [
    "### adding an inversion pulse"
   ]
  },
  {
   "cell_type": "code",
   "execution_count": null,
   "metadata": {},
   "outputs": [],
   "source": [
    "%%bash\n",
    "\n",
    "BART_DEBUG_LEVEL=5 bart seq -r1 --IR_NON grad moments adc single_spoke_ir.seq"
   ]
  },
  {
   "cell_type": "markdown",
   "metadata": {},
   "source": [
    "## IR - FLASH\n",
    "\n",
    "\n",
    "For pulseq filese, the chronologic order is saved in each case since the interpreter runs sequentially the blocks."
   ]
  },
  {
   "cell_type": "code",
   "execution_count": null,
   "metadata": {},
   "outputs": [],
   "source": [
    "%%bash\n",
    "\n",
    "bart seq --IR_NON --raga -r377          grad1 mom1 adc1 ibi_raga_377.seq\n",
    "bart seq --IR_NON --raga -r377 --chrono grad2 mom2 adc2 ibi_raga_377_chrono.seq\n",
    "\n",
    "\n",
    "bart nrmse adc1 adc2\n",
    "\n",
    "diff ibi_raga_377.seq ibi_raga_377_chrono.seq"
   ]
  },
  {
   "cell_type": "markdown",
   "metadata": {},
   "source": [
    "We are only acquiring ~1.2 seconds which is too short for valid T1 mapping. \n",
    "\n",
    "Therefore we can increase the total number of spokes to 3 * 377 = 1131 to measure continously for about 3.5 seconds"
   ]
  },
  {
   "cell_type": "code",
   "execution_count": null,
   "metadata": {},
   "outputs": [],
   "source": [
    "%%bash\n",
    "\n",
    "bart seq --IR_NON --raga -t 1131 -r377 --chrono grad mom adc ibi_raga_3x377.seq"
   ]
  },
  {
   "cell_type": "markdown",
   "metadata": {},
   "source": [
    "From practical perspective:\n",
    "\n",
    "Usually adjustement scans are performed prior to the actual measurement.\n",
    "In order to avoid starting from non-equilibrium magnetization state, we delay the inversion pulse initially with 10 seconds.\n"
   ]
  },
  {
   "cell_type": "code",
   "execution_count": null,
   "metadata": {},
   "outputs": [],
   "source": [
    "%%bash\n",
    "\n",
    "bart seq --IR_NON --raga -t 1131 -r377 --chrono --init_delay 10 grad mom adc ibi_raga_3x377.seq"
   ]
  }
 ],
 "metadata": {
  "kernelspec": {
   "display_name": ".venv",
   "language": "python",
   "name": "python3"
  },
  "language_info": {
   "codemirror_mode": {
    "name": "ipython",
    "version": 3
   },
   "file_extension": ".py",
   "mimetype": "text/x-python",
   "name": "python",
   "nbconvert_exporter": "python",
   "pygments_lexer": "ipython3",
   "version": "3.11.2"
  }
 },
 "nbformat": 4,
 "nbformat_minor": 2
}
