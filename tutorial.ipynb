{
 "cells": [
  {
   "cell_type": "markdown",
   "id": "1f4124b4",
   "metadata": {},
   "source": [
    "# Non-Cartesian T1 | Subspace-Constrained Reconstruction\n",
    "This tutorial uses the [`BART`](http://mrirecon.github.io/bart/) command-line interface (CLI) and presents how to work with radial data using BART, with the goal of implementing a full processing pipeline from raw data to T1 maps.\n",
    "\n",
    "\n",
    "## Outline\n",
    "1. Bart Setup\n",
    "2. Simulation IR radial FLASH\n",
    "4. Reconstruction Simulation PICS?\n",
    "5. Prepare Subspace Reconstruction\n",
    "   1. Subspace basis generation\n",
    "    6. Subspace reconstruction\n",
    "    7. Postprocessing\n",
    "\n",
    "\n",
    "**Author**: [Vitali Telezki](mailto:vitali.telezki@med.uni-goettingen.de)\n",
    "\n",
    "**Institution**: University Medical Center Göttingen\n",
    "\n",
    "Based on previous material written by [Daniel Mackner](mailto:daniel.mackner@tugraz.at), [Moritz Blumenthal](mailto:blumenthal@@tugraz.at) and [Jon Tamir](mailto:jtamir@utexas.edu)\n",
    "\n"
   ]
  },
  {
   "cell_type": "code",
   "execution_count": null,
   "id": "90fab0a9",
   "metadata": {},
   "outputs": [],
   "source": [
    "import matplotlib as mpl\n",
    "import matplotlib.pyplot as plt\n",
    "import os\n",
    "import src.plotSubspace as ps\n",
    "import numpy as np\n",
    "import importlib\n",
    "\n",
    "mpl.rcParams.update(mpl.rcParamsDefault)\n",
    "plt.style.use(['ggplot', 'src/customStyle.mplstyle'])"
   ]
  },
  {
   "cell_type": "markdown",
   "id": "638eb164",
   "metadata": {},
   "source": [
    "## Bart Setup Check\n"
   ]
  },
  {
   "cell_type": "code",
   "execution_count": null,
   "id": "decdec9a",
   "metadata": {},
   "outputs": [],
   "source": [
    "%%bash\n",
    "echo \"# BART used in this notebook:\"\n",
    "which bart\n",
    "echo \"# BART version: \"\n",
    "bart version"
   ]
  },
  {
   "cell_type": "markdown",
   "id": "525c7c4b",
   "metadata": {},
   "source": [
    "## Simulation: inversion-prepared radial FLASH \n",
    "Using `bart phantom`, we will create a a numerical phantom with the inversion-prepared radial FLASH sequence with the following parameters. We use `bart signal` to simulate signal curves from individual vials and background and join them in one file"
   ]
  },
  {
   "cell_type": "code",
   "execution_count": null,
   "id": "37a12f00",
   "metadata": {},
   "outputs": [],
   "source": [
    "%%bash\n",
    "# Define Sequence Parameters\n",
    "TR=0.006 # [s]\n",
    "DIM=384 # Readouts\n",
    "SPOKES=1\n",
    "REP=700 # Repetitions\n",
    "NC=8 # Number of Coils\n",
    "BR=$((DIM/2)) # Base resolution, as DIM includes two-fold oversampling\n",
    "\n",
    "# create trajectory\n",
    "bart traj -x $DIM -y $SPOKES -t $REP -c -r -G - | bart transpose 5 10 - tmp_traj\n",
    "bart scale 0.5 tmp_traj traj\n",
    "\n",
    "echo dimensions of trajectory\n",
    "head -n2 traj.hdr\n",
    "\n",
    "# create geometry basis functions\n",
    "bart phantom -s$NC -T -k -b -t traj tmp_basis_geom\n",
    "#create phantom in plane mask \n",
    "bart phantom -x $BR -T roi_mask\n",
    "\n",
    "# check the dimensions\n",
    "echo dimensions of geometry basis functions\n",
    "head -n2 tmp_basis_geom.hdr\n",
    "\n",
    "# create signal tubes and background\n",
    "bart signal -F -I -n$REP -r$TR  -1 0.2:2.2:10 -2 0.045:0.045:1 tmp_basis_simu_tubes\n",
    "bart signal -F -I -n$REP -r$TR  -1 3:3:1 -2 1:1:1 tmp_basis_simu_water\n",
    "\n",
    "bart join 6 tmp_basis_simu_water tmp_basis_simu_tubes tmp_basis_simu\n",
    "# check the dimensions\n",
    "echo dimensions of signal basis functions\n",
    "head -n2 tmp_basis_simu.hdr"
   ]
  },
  {
   "cell_type": "code",
   "execution_count": null,
   "id": "f459b704",
   "metadata": {},
   "outputs": [],
   "source": [
    "%%bash\n",
    "# create simulated dataset\n",
    "bart fmac -s $(bart bitmask 6) tmp_basis_geom tmp_basis_simu simu_ksp\n",
    "\n",
    "# add noise to the simulated dataset \n",
    "# bart noise -n1 simu_ksp simu_ksp\n",
    "# check the dimensions\n",
    "echo dimensions of simulated phantom \n",
    "head -n2 simu_ksp.hdr\n",
    "\n",
    "## remove tmp files\n",
    "rm tmp_*"
   ]
  },
  {
   "cell_type": "markdown",
   "id": "a68b191f",
   "metadata": {},
   "source": [
    "## Subspace Reconstruction\n",
    "Now, we aim to reconstruct the simulated phantom data. First, we create a signal dictionary, then we perform a SVD and finally create the temporal basis used in subspace reconstruction.\n",
    "\n",
    "The signal model according to Look-Locker in voxel $r$ at time $t$ is\n",
    "$$ \n",
    "M(t,r)~=~M_{ss}(r)~-~\\left[M_{ss}(r)~+~M_{0}(r)\\right]~e^{-tR_1^*(r)}.~\n",
    "$$\n"
   ]
  },
  {
   "cell_type": "code",
   "execution_count": null,
   "id": "2060b295",
   "metadata": {},
   "outputs": [],
   "source": [
    "%%bash \n",
    "bart show -m simu_ksp"
   ]
  },
  {
   "cell_type": "markdown",
   "id": "69753496",
   "metadata": {},
   "source": [
    "### Create Signal Dictionary\n",
    "Using `bart signal` we create our signal dictionary with `nR1s` values for R1star and `nMss` values for steady-state magnetization. "
   ]
  },
  {
   "cell_type": "code",
   "execution_count": null,
   "id": "f46a35cc",
   "metadata": {},
   "outputs": [],
   "source": [
    "%%bash\n",
    "## signal parameter\n",
    "nR1s=1000\n",
    "nMss=100 \n",
    "REP=700\n",
    "TR=0.006\n",
    "\n",
    "bart signal -help\n",
    "\n",
    "bart signal -F -I -n $REP -r $TR -1 5e-3:5:$nR1s -3 1e-2:1:$nMss tmp_dict\n",
    "# reshape the dicc to have all the elements on the 6th dimension\n",
    "bart reshape $(bart bitmask 6 7) $((nR1s * nMss)) 1 tmp_dict tmp_dict1\n",
    "head -n2 tmp_dict1.hdr\n",
    "# squeeze the dicc1 before SVD\n",
    "bart squeeze tmp_dict1 subspace_dict\n",
    "head -n2 subspace_dict.hdr\n",
    "# perform SVD on dictionary\n",
    "bart svd -e subspace_dict U S V"
   ]
  },
  {
   "cell_type": "markdown",
   "id": "2ea6095b",
   "metadata": {},
   "source": [
    "### Visualize simulated dictionay and PCA coeffcients"
   ]
  },
  {
   "cell_type": "code",
   "execution_count": null,
   "id": "3f506260",
   "metadata": {},
   "outputs": [],
   "source": [
    "importlib.reload(ps)\n",
    "ps.plotSubspace()"
   ]
  },
  {
   "cell_type": "markdown",
   "id": "796024a0",
   "metadata": {},
   "source": [
    "\n",
    "### Estimate Coil Sensitivities Using Subspace\n",
    "We realized, that 4 PCA coefficients contribute to more than 99% of the observed signal. Hence, we can reduce our basis to only contain the first 4 eigenvectors. We create a subspace basis spanned by those 4 eigenvectors.\n"
   ]
  },
  {
   "cell_type": "code",
   "execution_count": null,
   "id": "e4af968a",
   "metadata": {},
   "outputs": [],
   "source": [
    "%%bash\n",
    "\n",
    "nCoe=4 # use 4 coefficients\n",
    "\n",
    "# create the temporal basis\n",
    "bart extract 1 0 $nCoe U subbasis\n",
    "# transpose the basis to have time on the 6th dimension and coefficients on the 5th dimension\n",
    "bart transpose 1 6 subbasis - | bart transpose 0 5 - subbasis \n",
    "head -n2 subbasis.hdr"
   ]
  },
  {
   "cell_type": "markdown",
   "id": "afee5df8",
   "metadata": {},
   "source": [
    "\n",
    " Now, we estimate coil sensitivities using `bart ncalib` and reduced subspace basis in one go. "
   ]
  },
  {
   "cell_type": "code",
   "execution_count": null,
   "id": "0d735922",
   "metadata": {},
   "outputs": [],
   "source": [
    "%%bash\n",
    "DEBUG_LEVEL=4 bart ncalib -N -i8 -t traj -B subbasis simu_ksp sens_ncalib"
   ]
  },
  {
   "cell_type": "markdown",
   "id": "1800164c",
   "metadata": {},
   "source": [
    "### Perform reconstruction \n",
    "\n",
    "Using estimated coil sensitvities, we can now perform parrallel imaging reconstruction with `bart pics`."
   ]
  },
  {
   "cell_type": "code",
   "execution_count": null,
   "id": "e4c42af8",
   "metadata": {},
   "outputs": [],
   "source": [
    "%%bash\n",
    "\n",
    "DIM=384 # Readouts\n",
    "BR=$((DIM/2)) # Base resolution, as DIM includes two-fold oversampling\n",
    "ITER=100\n",
    "REG=0.0005\n",
    "# # reconstruction with subspace constraint\n",
    "bart pics -g -e -d5 -i $ITER -R W:$(bart bitmask 0 1):$(bart bitmask 6):$REG -B subbasis -t traj simu_ksp sens_ncalib subspace_reco\n",
    "\n",
    "# resize the coefficient maps to the original size and multiply it with the roi_mask\n",
    "# bart resize -c 0 $BR 1 $BR subspace_reco - | bart fmac roi_mask - subspace_reco_masked\n",
    "# visualize subspace maps for 4 nCoe\n",
    "# bart reshape $(bart bitmask 1 6) $((BR*nCoe)) 1 subspace_reco_masked subspace_maps"
   ]
  },
  {
   "cell_type": "code",
   "execution_count": null,
   "id": "df606d77",
   "metadata": {},
   "outputs": [],
   "source": [
    "ps.plotCoefficientMaps()\n"
   ]
  },
  {
   "cell_type": "markdown",
   "id": "edd72a17",
   "metadata": {},
   "source": [
    "### Temporal Signal Evolution"
   ]
  },
  {
   "cell_type": "code",
   "execution_count": null,
   "metadata": {},
   "outputs": [],
   "source": [
    "%%bash \n",
    "bart fmac -s $(bart bitmask 6) tmp_basis_4 subspace_reco imgs"
   ]
  },
  {
   "cell_type": "code",
   "execution_count": null,
   "id": "92b113c5",
   "metadata": {},
   "outputs": [],
   "source": [
    "ps.plotTemporalEvolution()\n"
   ]
  },
  {
   "cell_type": "markdown",
   "id": "74857a61",
   "metadata": {},
   "source": [
    "### T1 Map from Reconstructed Images\n",
    "Using `bart mobafit` we obtain T1 parameter map via pixel-wise fitting. "
   ]
  },
  {
   "cell_type": "code",
   "execution_count": null,
   "id": "cb9b6bbe",
   "metadata": {},
   "outputs": [],
   "source": [
    "%%bash\n",
    "TR=0.006 # [s]\n",
    "REP=700 # Repetitions\n",
    "\n",
    "### create vector with inversion times nREP*TR\n",
    "bart index 5 $REP - | bart scale $TR - TI\n",
    "\n",
    "bart mobafit -g -B tmp_basis_4 -L --init 1:1:1 TI imgs - | bart looklocker -t0 - -| bart fmac roi_mask - t1map"
   ]
  },
  {
   "cell_type": "code",
   "execution_count": null,
   "id": "79442445",
   "metadata": {},
   "outputs": [],
   "source": [
    "ps.plotT1Map()"
   ]
  },
  {
   "cell_type": "code",
   "execution_count": null,
   "id": "73525ec5",
   "metadata": {},
   "outputs": [],
   "source": []
  }
 ],
 "metadata": {
  "kernelspec": {
   "display_name": ".venv",
   "language": "python",
   "name": "python3"
  },
  "language_info": {
   "codemirror_mode": {
    "name": "ipython",
    "version": 3
   },
   "file_extension": ".py",
   "mimetype": "text/x-python",
   "name": "python",
   "nbconvert_exporter": "python",
   "pygments_lexer": "ipython3",
   "version": "3.11.2"
  }
 },
 "nbformat": 4,
 "nbformat_minor": 5
}
