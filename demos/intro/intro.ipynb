{
 "cells": [
  {
   "cell_type": "markdown",
   "metadata": {},
   "source": [
    "## Introduction to the BART command-line tools"
   ]
  },
  {
   "cell_type": "code",
   "execution_count": 1,
   "metadata": {},
   "outputs": [
    {
     "name": "stdout",
     "output_type": "stream",
     "text": [
      "BART. Available commands are:\n",
      "avg         bench       bitmask     cabs        caldir      calmat      \n",
      "BART. Available commands are:\n",
      "carg        casorati    cc          ccapply     cdf97       circshift   \n",
      "avg         bench       bitmask     cabs        caldir      calmat      \n",
      "conj        conv        copy        cpyphs      creal       crop        \n",
      "delta       ecalib      ecaltwo     estdelay    estdims     estshift    \n",
      "estvar      extract     fakeksp     fft         fftmod      fftshift    \n",
      "carg        casorati    cc          ccapply     cdf97       circshift   \n",
      "conj        conv        copy        cpyphs      creal       crop        \n",
      "delta       ecalib      ecaltwo     estdelay    estdims     estshift    \n",
      "estvar      extract     fakeksp     fft         fftmod      fftshift    \n",
      "filter      flatten     flip        fmac        homodyne    index       \n",
      "invert      itsense     join        lrmatrix    mandelbrot  mip         \n",
      "filter      flatten     flip        fmac        homodyne    index       \n",
      "invert      itsense     join        lrmatrix    mandelbrot  mip         \n",
      "nlinv       noise       normalize   nrmse       nufft       ones        \n",
      "nlinv       noise       normalize   nrmse       nufft       ones        \n",
      "pattern     phantom     pics        pocsense    poisson     poly        \n",
      "repmat      reshape     resize      rof         rss         sake        \n",
      "saxpy       scale       sdot        show        slice       spow        \n",
      "pattern     phantom     pics        pocsense    poisson     poly        \n",
      "repmat      reshape     resize      rof         rss         sake        \n",
      "saxpy       scale       sdot        show        slice       spow        \n",
      "sqpics      squeeze     std         svd         threshold   toimg       \n",
      "sqpics      squeeze     std         svd         threshold   toimg       \n",
      "traj        transpose   twixread    var         vec         version     \n",
      "walsh       wave        wavelet     wavepsf     whiten      window      \n",
      "wshfl       zeros       zexp        \n",
      "traj        transpose   twixread    var         vec         version     \n",
      "walsh       wave        wavelet     wavepsf     whiten      window      \n",
      "wshfl       zeros       zexp        \n"
     ]
    },
    {
     "ename": "",
     "evalue": "1",
     "output_type": "error",
     "traceback": []
    },
    {
     "ename": "",
     "evalue": "1",
     "output_type": "error",
     "traceback": []
    }
   ],
   "source": [
    "# get a list of BART commands by running bart with no arguments:\n",
    "bart"
   ]
  },
  {
   "cell_type": "markdown",
   "metadata": {},
   "source": [
    "BART data operates on bitmasks. All data files are multi-dimensional arrays. To operate on a particular array dimension, a bitmask specifies the active dimensions"
   ]
  },
  {
   "cell_type": "code",
   "execution_count": 3,
   "metadata": {},
   "outputs": [
    {
     "name": "stdout",
     "output_type": "stream",
     "text": [
      "Type: complex float\n",
      "Dimensions: 16\n",
      "Type: complex float\n",
      "Dimensions: 16\n",
      "AoD:\t256\t256\t1\t1\t1\t1\t1\t1\t1\t1\t1\t1\t1\t1\t1\t1\n",
      "AoD:\t256\t256\t1\t1\t1\t1\t1\t1\t1\t1\t1\t1\t1\t1\t1\t1\n"
     ]
    }
   ],
   "source": [
    "bart phantom -x 256 shepp_logan\n",
    "bart show -m shepp_logan"
   ]
  },
  {
   "cell_type": "markdown",
   "metadata": {},
   "source": [
    "By convention, the dimensions are `[X, Y, Z, C, M, T, C, ...]`,\n",
    "where `(X, Y, Z)` are the spatial matrix dimensions,  \n",
    "`C` and `M` are the coil dimensions and ESPIRiT maps dimensions, respectively,  \n",
    "`T` and `C` are used for echo times and coefficient dimensions,   \n",
    "and other higher order dimensions such as phase, flow encode, etc."
   ]
  },
  {
   "cell_type": "code",
   "execution_count": null,
   "metadata": {},
   "outputs": [],
   "source": []
  }
 ],
 "metadata": {
  "kernelspec": {
   "display_name": "Bash",
   "language": "bash",
   "name": "bash"
  },
  "language_info": {
   "codemirror_mode": "shell",
   "file_extension": ".sh",
   "mimetype": "text/x-sh",
   "name": "bash"
  }
 },
 "nbformat": 4,
 "nbformat_minor": 2
}
