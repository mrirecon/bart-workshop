{
 "cells": [
  {
   "cell_type": "markdown",
   "metadata": {},
   "source": [
    "# Introduction to the BART command-line tools\n",
    "\n",
    "\n",
    "This tutorial introduces the BART command-line inteface (CLI). The CLI tools operate on multidimensional arrays stored in files, and can be stringed together to create complete simulation and reconstruction programs.\n",
    "\n",
    "### Requirements\n",
    "- Install bart (version 0.4.04 or newer): https://github.com/mrirecon/bart  \n",
    "- Set the `TOOLBOX_PATH` to the BART directory and add it to the `PATH`\n",
    "- If running interactively, add the `view` program to `PATH` for plotting\n",
    "```bash\n",
    "export TOOLBOX_PATH=/path/to/bart  \n",
    "export PATH=$TOOLBOX_PATH:$PATH\n",
    "export PATH=/path/to/view:$PATH\n",
    "```\n",
    "\n",
    "Although the simplest way to call the BART CLI tools is through a terminal, there are also wrapper functions that allow the tools to run through Matlab and Python. These are located under the `$TOOLBOX_PATH/matlab` and `$TOOLBOX_PATH/python` directories.\n",
    "\n",
    "### DEBUG statements\n",
    "It is possible to control the level of Debug info that BART commands produce through the `DEBUG_LEVEL` environment variable. By setting this to a number greater than zero, different amounts of output will be seen. A good choice is to set it to 5, which is a balance between too much info and too little."
   ]
  },
  {
   "cell_type": "code",
   "execution_count": 2,
   "metadata": {
    "collapsed": true
   },
   "outputs": [],
   "source": [
    "export DEBUG_LEVEL=5"
   ]
  },
  {
   "cell_type": "markdown",
   "metadata": {},
   "source": [
    "BART provides a number of tools for MRI image reconstruction and multi-dimensional array manipulation."
   ]
  },
  {
   "cell_type": "code",
   "execution_count": 3,
   "metadata": {
    "scrolled": true
   },
   "outputs": [
    {
     "name": "stdout",
     "output_type": "stream",
     "text": [
      "BART. Available commands are:\n",
      "avg         bench       bitmask     cabs        caldir      calmat      \n",
      "carg        casorati    cc          ccapply     cdf97       circshift   \n",
      "conj        conv        copy        cpyphs      creal       crop        \n",
      "delta       ecalib      ecaltwo     estdelay    estdims     estshift    \n",
      "estvar      extract     fakeksp     fft         fftmod      fftshift    \n",
      "filter      flatten     flip        fmac        homodyne    index       \n",
      "invert      itsense     join        lrmatrix    mandelbrot  mip         \n",
      "nlinv       noise       normalize   nrmse       nufft       ones        \n",
      "pattern     phantom     pics        pocsense    poisson     poly        \n",
      "repmat      reshape     resize      rof         rss         sake        \n",
      "saxpy       scale       sdot        show        slice       spow        \n",
      "sqpics      squeeze     std         svd         threshold   toimg       \n",
      "traj        transpose   twixread    var         vec         version     \n",
      "walsh       wave        wavelet     wavepsf     whiten      window      \n",
      "wshfl       zeros       zexp        \n"
     ]
    },
    {
     "ename": "",
     "evalue": "1",
     "output_type": "error",
     "traceback": []
    }
   ],
   "source": [
    "# get a list of BART commands by running bart with no arguments:\n",
    "bart"
   ]
  },
  {
   "cell_type": "markdown",
   "metadata": {},
   "source": [
    "## BART command structure:\n",
    "### **`bart`** + **`command`** + **`options`** + **`input / output`**\n",
    "\n",
    "Each BART command comtains a number of optional arguments, followed by input and output files.   \n",
    "To see all options and requirements of a command, use the `-h` flag:\n"
   ]
  },
  {
   "cell_type": "code",
   "execution_count": 4,
   "metadata": {},
   "outputs": [
    {
     "name": "stdout",
     "output_type": "stream",
     "text": [
      "Usage: toimg [-g f] [-c f] [-w f] [-d] [-m] [-W] [-h] <input> <output_prefix>\n",
      "\n",
      "Create magnitude images as png or proto-dicom.\n",
      "The first two non-singleton dimensions will\n",
      "be used for the image, and the other dimensions\n",
      "will be looped over.\n",
      "\n",
      "\n",
      "-g gamma      \tgamma level\n",
      "-c contrast      \tcontrast level\n",
      "-w window      \twindow level\n",
      "-d\t\twrite to dicom format (deprecated, use extension .dcm)\n",
      "-m\t\tre-scale each image\n",
      "-W\t\tuse dynamic windowing\n",
      "-h\t\thelp\n"
     ]
    }
   ],
   "source": [
    "# Obtain help for each command (-h)\n",
    "bart toimg -h"
   ]
  },
  {
   "cell_type": "markdown",
   "metadata": {},
   "source": [
    "BART loosely follows the Linux CLI convention, where optional arguments are indicated with brackets, and files are indicated by carrot symbols.\n",
    "\n",
    "As we can see, there are many CLI tools available. The full descriptions of each program can be found under `$TOOLBOX_PATH/doc/commands.txt`."
   ]
  },
  {
   "cell_type": "markdown",
   "metadata": {},
   "source": [
    "## Displaying images\n",
    "\n",
    "Before getting started, let's make a helper function for displaying images. We will use the BART command `toimg`, which can convert BART files to pngs.\n",
    "\n",
    "If our session supports X-windows forwarding, we can instead use the BART viewer, `view`, to open an interactive viewer.\n",
    "\n",
    "Other options for viewing BART files are to use the Python and Matlab wrappers, and use any viewer within those programs."
   ]
  },
  {
   "cell_type": "code",
   "execution_count": 5,
   "metadata": {
    "collapsed": true
   },
   "outputs": [],
   "source": [
    "# BASH function to write BART file to png,\n",
    "# display the png, and then temove it\n",
    "function imshow () {\n",
    "    bart toimg -W $1 $1.png > /dev/null\n",
    "    cat $1.png | display\n",
    "    rm $1.png\n",
    "}"
   ]
  },
  {
   "cell_type": "markdown",
   "metadata": {},
   "source": [
    " ## Using BART\n",
    " \n",
    "As a first example, let's create a Shepp-Logan numerical phantom in k-space. We will use the `phantom` tool. Before using the tool, let's look at its options"
   ]
  },
  {
   "cell_type": "code",
   "execution_count": 6,
   "metadata": {},
   "outputs": [
    {
     "name": "stdout",
     "output_type": "stream",
     "text": [
      "Usage: phantom [-s d] [-S d] [-k] [-t <string>] [-x d] [-G d] [-3] <output>\n",
      "\n",
      "Image and k-space domain phantoms.\n",
      "\n",
      "-s nc      \tnc sensitivities\n",
      "-S Output nc sensitivities\n",
      "-k\t\tk-space\n",
      "-t file      \ttrajectory\n",
      "-x n      \tdimensions in y and z\n",
      "-G n=1,2      \tGeometric object phantom\n",
      "-3\t\t3D\n",
      "-h\t\thelp\n"
     ]
    }
   ],
   "source": [
    "bart phantom -h"
   ]
  },
  {
   "cell_type": "markdown",
   "metadata": {},
   "source": [
    "The `phantom` tool includes the option `-k` to create it directly in k-space, and `-x` to specify the dimensions."
   ]
  },
  {
   "cell_type": "code",
   "execution_count": 7,
   "metadata": {},
   "outputs": [
    {
     "name": "stdout",
     "output_type": "stream",
     "text": [
      "Shepp-Logan k-space phantom\n"
     ]
    },
    {
     "data": {
      "image/png": "[encoded data removed]"
     },
     "metadata": {},
     "output_type": "display_data"
    }
   ],
   "source": [
    "# Create Cartesian k-space phantom (256 samples)\n",
    "bart phantom -x 256 -k shepp_logan\n",
    "\n",
    "echo \"Shepp-Logan k-space phantom\"\n",
    "imshow shepp_logan\n",
    "# view  shepp_logan"
   ]
  },
  {
   "cell_type": "markdown",
   "metadata": {},
   "source": [
    "## Data files\n",
    "All data files are multi-dimensional arrays. By running the `phantom` command, we made new files on disk, with the names  \n",
    "`shepp_logan.cfl` and `shepp_logan.hdr`\n",
    "\n",
    "The data files represent a multi-dimensional array. The `hdr`, or header file, contains the data dimensions and other information about the dataset. The `cfl`, or complex-float file, contains the single-precision raw data in column-major order and interleaved real and imaginary parts.  \n",
    "\n",
    "The header file is a raw text file and can be opened with any text editor. The complex-float file is a binary file. Matlab and Python readers/writers are available under the `matlab` and `python` directories, respectively.\n",
    "\n",
    "### View data dimensions\n",
    "Because the header file is a text file, we can directly print it:"
   ]
  },
  {
   "cell_type": "code",
   "execution_count": 8,
   "metadata": {},
   "outputs": [
    {
     "name": "stdout",
     "output_type": "stream",
     "text": [
      "# Dimensions\n",
      "256 256 1 1 1 1 1 1 1 1 1 1 1 1 1 1 \n",
      "# Command\n",
      "phantom -x 256 -k shepp_logan \n",
      "# Files\n",
      " >shepp_logan\n",
      "# Creator\n",
      "BART v0.4.04-dirty\n"
     ]
    }
   ],
   "source": [
    "cat shepp_logan.hdr"
   ]
  },
  {
   "cell_type": "markdown",
   "metadata": {},
   "source": [
    "Although not discussed here, BART can write to other file formats, including a simple H5 container, ISMRMRD format, and others. Therefore, not every format will include a header file. Thus, it is better to use the `show` command."
   ]
  },
  {
   "cell_type": "code",
   "execution_count": 9,
   "metadata": {},
   "outputs": [
    {
     "name": "stdout",
     "output_type": "stream",
     "text": [
      "Usage: show [-m] [-d d] [-s <string>] [-f <string>] <input>\n",
      "\n",
      "Outputs values or meta data.\n",
      "\n",
      "-m\t\tshow meta data\n",
      "-d dim      \tshow size of dimension\n",
      "-s sep      \tuse <sep> as the separator\n",
      "-f format      \tuse <format> as the format. Default: \"%+e%+ei\"\n",
      "-h\t\thelp\n"
     ]
    }
   ],
   "source": [
    "bart show -h"
   ]
  },
  {
   "cell_type": "markdown",
   "metadata": {},
   "source": [
    "We can look at an individual dimension of the data with the `-d` command, or we can display all the meta data about the dataset. \n",
    "\n",
    "Next, we show the dimensions of the created Shepp-Logan phantom"
   ]
  },
  {
   "cell_type": "code",
   "execution_count": 10,
   "metadata": {},
   "outputs": [
    {
     "name": "stdout",
     "output_type": "stream",
     "text": [
      "Type: complex float\n",
      "Dimensions: 16\n",
      "AoD:\t256\t256\t1\t1\t1\t1\t1\t1\t1\t1\t1\t1\t1\t1\t1\t1\n"
     ]
    }
   ],
   "source": [
    "bart show -m shepp_logan"
   ]
  },
  {
   "cell_type": "markdown",
   "metadata": {
    "collapsed": true
   },
   "source": [
    "Our dataset is 16-dimensional, but only the first two dimensions are non-singleton.\n",
    "\n",
    "By convention, the dimensions are `[X, Y, Z, C, M, T, F, ...]`,\n",
    "where `(X, Y, Z)` are the spatial matrix dimensions,  \n",
    "`C` and `M` are the coil dimensions and ESPIRiT maps dimensions, respectively,  \n",
    "`T` and `F` are used for echo times and coefficient dimensions,   \n",
    "and other higher order dimensions such as phase, flow encode, etc."
   ]
  },
  {
   "cell_type": "markdown",
   "metadata": {},
   "source": [
    "## Bitmasks\n",
    "Let's reconstruct our k-space phantom. using a simple inverse Fourier transform.  \n",
    "Therefore, we perform a Fast Fourier Transform (FFT).\n",
    "\n",
    "BART has an `fft` tool for doing just that."
   ]
  },
  {
   "cell_type": "code",
   "execution_count": 11,
   "metadata": {},
   "outputs": [
    {
     "name": "stdout",
     "output_type": "stream",
     "text": [
      "IFFT of Shepp-Logan phantom\n"
     ]
    },
    {
     "data": {
      "image/png": "[encoded data removed]"
     },
     "metadata": {},
     "output_type": "display_data"
    }
   ],
   "source": [
    "# Perform FFT reconstruction\n",
    "bart fft -u -i 3 shepp_logan shepp_logan_rec\n",
    "\n",
    "echo \"IFFT of Shepp-Logan phantom\"\n",
    "imshow shepp_logan_rec\n",
    "# view shepp_logan_rec"
   ]
  },
  {
   "cell_type": "markdown",
   "metadata": {},
   "source": [
    "Let's see the fft-options."
   ]
  },
  {
   "cell_type": "code",
   "execution_count": 12,
   "metadata": {},
   "outputs": [
    {
     "name": "stdout",
     "output_type": "stream",
     "text": [
      "Usage: fft [-u] [-i] [-n] bitmask <input> <output>\n",
      "\n",
      "Performs a fast Fourier transform (FFT) along selected dimensions.\n",
      "\n",
      "-u\t\tunitary\n",
      "-i\t\tinverse\n",
      "-n\t\tun-centered\n",
      "-h\t\thelp\n"
     ]
    }
   ],
   "source": [
    "# Show help for fft command\n",
    "bart fft -h"
   ]
  },
  {
   "cell_type": "markdown",
   "metadata": {},
   "source": [
    "Thus, we performed an inverse (`-i`) unitary (`-u`) Fast Fourier Transform on the image dimensions **`(0, 1)`** specified by the bitmask **`3`**.\n"
   ]
  },
  {
   "cell_type": "markdown",
   "metadata": {},
   "source": [
    "Instead of using for loops, BART data operates on bitmasks. To operate on a particular array dimension, a bitmask specifies the active dimensions. This is a powerful approach for perfoming multi-dimensional operations, as all the tools will work on arbitrarily chosen dimensions.   \n",
    "\n",
    "In our case, we wanted to perform an IFFT along dimensions 0 and 1, and the bitmask is calculated as:  \n",
    "<center>\n",
    "$ \\text{bitmask}=2^{~0} + 2^{~1} = 3$\n",
    "</center> <br>\n",
    "BART also provides a command-line tool to calculate the bitmasks for specific dimensions."
   ]
  },
  {
   "cell_type": "code",
   "execution_count": null,
   "metadata": {
    "collapsed": true
   },
   "outputs": [],
   "source": [
    "# Calculate bitmask for active dimensions 0 and 1\n",
    "bart bitmask 0 1"
   ]
  },
  {
   "cell_type": "markdown",
   "metadata": {},
   "source": [
    "## BART Examples\n",
    "### Low-Pass Filtering\n",
    "\n",
    "Here, we create and apply a simple mask to low-pass filter the k-space phantom. We use the `ones` tool to make an array of all-ones, and then zero-pad it to the full k-space matrix size"
   ]
  },
  {
   "cell_type": "code",
   "execution_count": 1,
   "metadata": {},
   "outputs": [
    {
     "name": "stdout",
     "output_type": "stream",
     "text": [
      "low-pass filter mask\n",
      "bash: imshow: command not found\n"
     ]
    },
    {
     "ename": "",
     "evalue": "127",
     "output_type": "error",
     "traceback": []
    }
   ],
   "source": [
    "# Create a mask consisting of ones with two dimensions: (256, 30)\n",
    "bart ones 2 256 30 mask_center\n",
    "\n",
    "# Zero-pad the second (index 1) dimension to the full k-space dimension \n",
    "bart resize -c 1 256 mask_center mask_full\n",
    "\n",
    "echo \"low-pass filter mask\"\n",
    "# view mask_full\n",
    "imshow mask_full"
   ]
  },
  {
   "cell_type": "markdown",
   "metadata": {},
   "source": [
    "Now let's multiply our data with the mask. To perform the multiplication, we use the `fmac` tool, which stands for **Fused Multiply-Accumulate**. The `fmac` tool is a very powerful way of multiplying two multi-dimensional arrays, and then summing along specific dimension. In this way, we can perform simple multiplication, through vector and matrix multiplications, all the way to tensor products."
   ]
  },
  {
   "cell_type": "code",
   "execution_count": null,
   "metadata": {
    "collapsed": true
   },
   "outputs": [],
   "source": [
    "# Multiply mask with k-space\n",
    "bart fmac shepp_logan mask_full shepp_logan_lp\n",
    "\n",
    "echo \"Low-pass filtered k-space\"\n",
    "imshow shepp_logan_lp\n",
    "# view shepp_logan_lp"
   ]
  },
  {
   "cell_type": "markdown",
   "metadata": {},
   "source": [
    "We repeat the unitary inverse FFT on our dataset:"
   ]
  },
  {
   "cell_type": "code",
   "execution_count": null,
   "metadata": {
    "collapsed": true
   },
   "outputs": [],
   "source": [
    "# Reconstruction of low-pass filtered k-space data\n",
    "bart fft -u -i 3 shepp_logan_lp shepp_logan_lp_reco\n",
    "\n",
    "echo 'Low-pass filtered reconstruction'\n",
    "imshow shepp_logan_lp_reco\n",
    "# view shepp_logan_lp_reco"
   ]
  },
  {
   "cell_type": "markdown",
   "metadata": {},
   "source": [
    "### Undersampling Artifacts"
   ]
  },
  {
   "cell_type": "markdown",
   "metadata": {},
   "source": [
    "Now let's consider downsampling k-space by a factor of `R` which is common in parallel imaging. To do this with BART, we will string together multiple commands"
   ]
  },
  {
   "cell_type": "code",
   "execution_count": 2,
   "metadata": {},
   "outputs": [
    {
     "name": "stdout",
     "output_type": "stream",
     "text": [
      "loading ones\n",
      "loading ones\n",
      "loading ones\n",
      "loading ones\n",
      "loading zeros\n",
      "loading zeros\n",
      "loading zeros\n",
      "loading zeros\n",
      "done copying file 2\n",
      "done copying file 4\n",
      "done copying file 6\n",
      "done copying file 5\n",
      "done copying file 0\n",
      "done copying file 3\n",
      "done copying file 7\n",
      "done copying file 1\n",
      "Sampling pattern\n",
      "bash: imshow: command not found\n",
      "Under-sampled k-space data\n",
      "bash: imshow: command not found\n"
     ]
    },
    {
     "ename": "",
     "evalue": "127",
     "output_type": "error",
     "traceback": []
    }
   ],
   "source": [
    "# Create Cartesian undersampling pattern (2x undersampling with 20 auto-calibration lines)\n",
    "\n",
    "R=4 #Define undersampling factor as powers of 2\n",
    "\n",
    "# Create local pattern, assuming homogeneous undersampling in one dimension\n",
    "bart ones 2 256 1 ones\n",
    "bart zeros 2 256 1 zeros\n",
    "\n",
    "bart join 1 $(seq 1 $R | xargs  -I{} echo ones) $(seq 1 $R | xargs -I{}  echo zeros) pattern\n",
    "\n",
    "# Repeat local pattern to get undersampling pattern\n",
    "bart repmat 2 $((128/R)) pattern tmp\n",
    "bart reshape $(bart bitmask 1 2) 256 1 tmp grid\n",
    "\n",
    "echo \"Sampling pattern\"\n",
    "imshow grid\n",
    "\n",
    "\n",
    "# Multiply undersampling pattern with image\n",
    "bart fmac shepp_logan grid shepp_us\n",
    "\n",
    "echo \"Under-sampled k-space data\"\n",
    "imshow shepp_us"
   ]
  },
  {
   "cell_type": "markdown",
   "metadata": {},
   "source": [
    "When we reconstruct the data with an IFFT, what do we expect to see?"
   ]
  },
  {
   "cell_type": "code",
   "execution_count": null,
   "metadata": {
    "collapsed": true
   },
   "outputs": [],
   "source": [
    "# Reconstruction of undersampled k-space data\n",
    "bart fft -u -i 3 shepp_us shepp_us_reco\n",
    "\n",
    "echo \"Under-sampled reconstruction\"\n",
    "imshow shepp_us_reco"
   ]
  },
  {
   "cell_type": "markdown",
   "metadata": {},
   "source": [
    "### Reconstruction of Multi-Coil Data\n",
    "Now, let's create and reconstruct multi-coil data. We will again use the `phantom` command, but this time we will pass the `-s` flag to indicate that we want multiple channels.\n",
    "\n",
    "We will also add complex-valued Gaussian noise with the `noise` tool, and coil-compress the channels using a software coil compression method with the `cc` tool."
   ]
  },
  {
   "cell_type": "code",
   "execution_count": 3,
   "metadata": {
    "collapsed": true
   },
   "outputs": [],
   "source": [
    "# Create a k-space phantom with multiple (8) coils\n",
    "bart phantom -x 256 -s 8 -k shepp_coils"
   ]
  },
  {
   "cell_type": "code",
   "execution_count": 4,
   "metadata": {
    "collapsed": true
   },
   "outputs": [],
   "source": [
    "# Add Gaussian white noise to the k-space, multi-coil phantom\n",
    "bart noise -n 2 shepp_coils shepp_noise"
   ]
  },
  {
   "cell_type": "code",
   "execution_count": 5,
   "metadata": {},
   "outputs": [
    {
     "name": "stdout",
     "output_type": "stream",
     "text": [
      "Calibration region...  (size: 24x24x1, pos: 116x116x0)\n",
      "Energy: 0.591 0.285 0.103 0.015 0.004 0.001 0.000 0.000\n",
      "Compressing to 4 virtual coils...\n",
      "Done.\n"
     ]
    }
   ],
   "source": [
    "# Compress to 4 coils\n",
    "bart cc -p 4 shepp_noise shepp_cc"
   ]
  },
  {
   "cell_type": "code",
   "execution_count": 6,
   "metadata": {
    "collapsed": true
   },
   "outputs": [],
   "source": [
    "# Reconstruct noisy phantom\n",
    "bart fft -u -i $(bart bitmask 0 1) shepp_cc shepp"
   ]
  },
  {
   "cell_type": "code",
   "execution_count": 7,
   "metadata": {},
   "outputs": [
    {
     "name": "stdout",
     "output_type": "stream",
     "text": [
      "Coil image 0\n",
      "bash: imshow: command not found\n"
     ]
    },
    {
     "ename": "",
     "evalue": "127",
     "output_type": "error",
     "traceback": []
    }
   ],
   "source": [
    "# Slice out one coil-image of the reconstructed k-space phantom and display.\n",
    "bart slice 3 0 shepp shepp_coil0\n",
    "echo \"Coil image 0\"\n",
    "imshow shepp_coil0"
   ]
  },
  {
   "cell_type": "code",
   "execution_count": null,
   "metadata": {
    "collapsed": true
   },
   "outputs": [],
   "source": [
    "# Reshape the coil images for displaying. We will concatenate the row dimension with the coil dimension  \n",
    "bart reshape $(bart bitmask 1 3) 1024 1 shepp shepp_flat\n",
    "echo \"Coil images\"\n",
    "imshow shepp_flat"
   ]
  },
  {
   "cell_type": "code",
   "execution_count": null,
   "metadata": {
    "collapsed": true
   },
   "outputs": [],
   "source": [
    "# Combine coils (Root-Sum-of-Squares)\n",
    "bart rss $(bart bitmask 3) shepp shepp_rss\n",
    "\n",
    "echo \"RSS result\"\n",
    "imshow shepp_rss\n",
    "# view shepp_rss shepp_coil0"
   ]
  },
  {
   "cell_type": "markdown",
   "metadata": {},
   "source": [
    "# Parallel Imaging Compressed Sensing\n",
    "\n",
    "One of the most useful functions of BART is the ability to perform parallel imaging calibration and compressed sensing (PICS) reconstructions, including estimating sensitivity maps with ESPIRiT.\n",
    "\n",
    "BART allows to perform a Parallel Imaging Compressed Sensing reconstruction using the **`bart pics`** command. You can specify a variety of different regularization terms and solvers by simply specifying the respective flags.\n",
    "Here, we demonstrate how to perform a PICS reconstruction on synthetic data.  \n",
    "\n",
    "We will reuse the coil-compressed k-space data from the previous section"
   ]
  },
  {
   "cell_type": "code",
   "execution_count": null,
   "metadata": {
    "collapsed": true
   },
   "outputs": [],
   "source": [
    "# Display k-space phantom\n",
    "bart reshape $(bart bitmask 1 3) 1024 1 shepp_cc shepp_flat\n",
    "echo \"multi-channel k-space phantom\"\n",
    "imshow shepp_flat"
   ]
  },
  {
   "cell_type": "markdown",
   "metadata": {},
   "source": [
    "Next, we create an undersampling pattern. Since we want to demonstrate Compressed Sensing, we choose a Poisson-Disc undersampling pattern with 2x2 in-plane acceleration and an Auto-calibration region of 32x32 samples."
   ]
  },
  {
   "cell_type": "code",
   "execution_count": null,
   "metadata": {
    "collapsed": true
   },
   "outputs": [],
   "source": [
    "# Create Poisson-Disc undersampling pattern\n",
    "\n",
    "# 2x2-fold in-plane acceleration. Auto-calibration region: 32x32\n",
    "bart poisson -Y 256 -y 2 -Z 256 -z 2 -C 32 -e poisson\n",
    "\n",
    "# Reshape into required dimensions to match the k-space\n",
    "bart squeeze poisson poisson\n",
    "\n",
    "# Show pattern\n",
    "echo \"Poisson-disc sampling pattern\"\n",
    "imshow poisson"
   ]
  },
  {
   "cell_type": "markdown",
   "metadata": {},
   "source": [
    "We simulate an undersampled k-space by applying the pattern to the fully-sampled k-space phantom."
   ]
  },
  {
   "cell_type": "code",
   "execution_count": null,
   "metadata": {
    "collapsed": true
   },
   "outputs": [],
   "source": [
    "# Multiply pattern and k-space to obtain undersampled k-space\n",
    "bart fmac shepp_cc poisson shepp_usamp\n",
    "\n",
    "# Show undersampled k-space phantom\n",
    "bart reshape $(bart bitmask 1 3) 1024 1 shepp_usamp shepp_usamp_flat\n",
    "echo \"under-sampled k-space\"\n",
    "imshow shepp_usamp_flat"
   ]
  },
  {
   "cell_type": "markdown",
   "metadata": {},
   "source": [
    "Note that the undersampling pattern was automatically applied to each coil! This is the beauty of the `fmac` tool.  \n",
    "First, we perform a conventional inverse Fourier Transform and Root-Sum-of-Squares reconstruction."
   ]
  },
  {
   "cell_type": "code",
   "execution_count": null,
   "metadata": {
    "collapsed": true
   },
   "outputs": [],
   "source": [
    "# Conventional FFT-reconstruction\n",
    "\n",
    "# Perform conventional inverse FFT reconstruction\n",
    "bart fft -i -u $(bart bitmask 0 1) shepp_usamp shepp_fft\n",
    "\n",
    "# Combine coils by Root-Sum-of-Squares\n",
    "bart rss $(bart bitmask 3) shepp_fft shepp_fft_rss\n",
    "\n",
    "# Show FFT reconstruction\n",
    "echo \"Linear reconstruction\"\n",
    "imshow shepp_fft_rss"
   ]
  },
  {
   "cell_type": "markdown",
   "metadata": {},
   "source": [
    "The result is - of course - not very pleasing. The image is corrupted by ringing and noise-like artifacts. <br>\n",
    "So, lets try a more advanced reconstruction technique. We therefore need to determine the coil sensitivities. We therefore use the ESPIRiT approach to obtain one map for each coil."
   ]
  },
  {
   "cell_type": "code",
   "execution_count": 8,
   "metadata": {
    "scrolled": false
   },
   "outputs": [
    {
     "name": "stdout",
     "output_type": "stream",
     "text": [
      "Calibration region...  (size: 24x24x1, pos: 116x116x0)\n",
      "Energy: 0.595 0.286 0.104 0.015\n",
      "Build calibration matrix and SVD...\n",
      "Eigen decomposition... (size: 144)\n",
      "Using 47/144 kernels (32.64%, last SV: 0.032712).\n",
      "Zeropad...\n",
      "FFT (juggling)...\n",
      "Calculate Gram matrix...\n",
      "Resize...\n",
      "Point-wise eigen-decomposition...\n",
      "Crop maps... (c = 0.80)\n",
      "Fix phase...\n",
      "Done.\n",
      "Estimated sensitivity maps with ESPIRiT\n",
      "bash: imshow: command not found\n"
     ]
    },
    {
     "ename": "",
     "evalue": "127",
     "output_type": "error",
     "traceback": []
    }
   ],
   "source": [
    "# Iterative Parallel Imaging Reconstruction with different regularization terms\n",
    "\n",
    "# Compute sensitivity maps using ESPIRiT (constrained to a single map)\n",
    "# change the DEBUG_LEVEL for this command to reduce the output\n",
    "DEBUG_LEVEL=4 bart ecalib -m1 shepp_usamp sens\n",
    "\n",
    "# Show sensitivity maps\n",
    "bart reshape $(bart bitmask 1 3) 1024 1 sens sens_flat\n",
    "echo \"Estimated sensitivity maps with ESPIRiT\"\n",
    "imshow sens_flat"
   ]
  },
  {
   "cell_type": "markdown",
   "metadata": {},
   "source": [
    "Given the sensitivities, the **`bart pics`** command allows an iterative Parallel Imaging reconstruction using different regularization terms. It solves the following minimization problem:\n",
    "\n",
    "$$\\min_x \\frac{1}{2} \\| F_u S x - y \\|_2^2 + R(x) $$\n",
    "- $F_u$ is the (undersampled) DFT operator\n",
    "- $S$ is the multi-channel sensitivity operator\n",
    "- $x$ is the desired image\n",
    "- $y$ is the acquired kspace data\n",
    "- $R$ is the desired regularization term"
   ]
  },
  {
   "cell_type": "markdown",
   "metadata": {},
   "source": [
    "A popular regularization is Tikhonov (L2) with\n",
    "$$R(x) = \\frac{\\lambda}{2}  \\| x \\|_2^2  $$\n",
    "\n",
    "with regularization parameter $\\lambda$. "
   ]
  },
  {
   "cell_type": "code",
   "execution_count": 9,
   "metadata": {},
   "outputs": [
    {
     "name": "stdout",
     "output_type": "stream",
     "text": [
      "Size: 65536 Samples: 13644 Acc: 4.80\n",
      "Linking args 1-2 of 4.\n",
      "Linking args 1-2 of 4.\n",
      "Linking args 1-2 of 4.\n",
      "Linking args 1-2 of 4.\n",
      "Calibration region...  (size: 32x32x1, pos: 112x112x0)\n",
      "Scaling: 644.484558! (max = 644.484558/p90 = 183.449295/median = 43.066902)\n",
      "Inverse scaling of the data: 644.484558\n",
      "l2 regularization: 0.005000\n",
      "conjugate gradients\n",
      "Linking args 1-2 of 4.\n",
      "Linking args 1-2 of 4.\n",
      "Linking args 1-2 of 4.\n",
      "Linking args 1-2 of 4.\n",
      "Linking args 1-2 of 4.\n",
      "Linking args 1-2 of 4.\n",
      "#0: 52.615627\n",
      "#1: 4.844840\n",
      "#2: 1.873068\n",
      "#3: 1.125854\n",
      "#4: 0.671931\n",
      "#5: 0.472993\n",
      "#6: 0.327247\n",
      "#7: 0.243088\n",
      "#8: 0.188450\n",
      "#9: 0.142078\n",
      "#10: 0.112799\n",
      "#11: 0.089352\n",
      "#12: 0.070982\n",
      "#13: 0.058000\n",
      "#14: 0.046580\n",
      "#15: 0.037910\n",
      "#16: 0.030471\n",
      "#17: 0.025459\n",
      "#18: 0.021277\n",
      "#19: 0.017463\n",
      "#20: 0.014611\n",
      "#21: 0.012130\n",
      "#22: 0.010200\n",
      "#23: 0.008461\n",
      "#24: 0.007037\n",
      "#25: 0.005974\n",
      "#26: 0.005075\n",
      "#27: 0.004330\n",
      "#28: 0.003622\n",
      "#29: 0.003116\n",
      "#30: 0.002716\n",
      "#31: 0.002308\n",
      "#32: 0.001956\n",
      "#33: 0.001664\n",
      "#34: 0.001410\n",
      "#35: 0.001204\n",
      "#36: 0.001031\n",
      "#37: 0.000894\n",
      "#38: 0.000777\n",
      "#39: 0.000668\n",
      "#40: 0.000590\n",
      "#41: 0.000511\n",
      "#42: 0.000444\n",
      "#43: 0.000384\n",
      "#44: 0.000333\n",
      "#45: 0.000291\n",
      "#46: 0.000253\n",
      "#47: 0.000219\n",
      "#48: 0.000194\n",
      "#49: 0.000167\n",
      "\t cg:  50\n",
      "Total Time: 0.290788\n",
      "L2 Regularization\n",
      "bash: imshow: command not found\n"
     ]
    },
    {
     "ename": "",
     "evalue": "127",
     "output_type": "error",
     "traceback": []
    }
   ],
   "source": [
    "lambda=0.005\n",
    "iter=50\n",
    "\n",
    "# Parallel Imaging reconstruction using L2 regularization\n",
    "DEBUG_LEVEL=5 bart pics -S -l2 -r$lambda -i $iter shepp_usamp sens shepp_l2\n",
    "\n",
    "# Show L2 and Wavelet reconstructions\n",
    "echo \"L2 Regularization\"\n",
    "imshow shepp_l2\n"
   ]
  },
  {
   "cell_type": "markdown",
   "metadata": {
    "collapsed": true
   },
   "source": [
    "The result is definitely better than the conventional FFT reconstruction, but still undersampling artifacts are visible.<br><br>\n",
    "We therefore try another regularization term: L1 Wavelets\n",
    " $$ R(x) = \\lambda \\| \\Psi x \\|_1$$\n"
   ]
  },
  {
   "cell_type": "code",
   "execution_count": 10,
   "metadata": {},
   "outputs": [
    {
     "name": "stdout",
     "output_type": "stream",
     "text": [
      "Size: 65536 Samples: 13644 Acc: 4.80\n",
      "Linking args 1-2 of 4.\n",
      "Linking args 1-2 of 4.\n",
      "Linking args 1-2 of 4.\n",
      "Linking args 1-2 of 4.\n",
      "Calibration region...  (size: 32x32x1, pos: 112x112x0)\n",
      "Scaling: 644.484558! (max = 644.484558/p90 = 183.449295/median = 43.066902)\n",
      "Inverse scaling of the data: 644.484558\n",
      "l1-wavelet regularization: 0.005000\n",
      "FISTA\n",
      "Linking args 1-2 of 4.\n",
      "Linking args 1-2 of 4.\n",
      "Linking args 1-2 of 4.\n",
      "Linking args 1-2 of 4.\n",
      "Linking args 1-2 of 4.\n",
      "Linking args 1-2 of 4.\n",
      "#It 000: 1.000000   \n",
      "#It 001: 0.225656   \n",
      "#It 002: 0.054369   \n",
      "#It 003: 0.025167   \n",
      "#It 004: 0.017820   \n",
      "#It 005: 0.014175   \n",
      "#It 006: 0.012475   \n",
      "#It 007: 0.012375   \n",
      "#It 008: 0.012228   \n",
      "#It 009: 0.011422   \n",
      "#It 010: 0.011153   \n",
      "#It 011: 0.011139   \n",
      "#It 012: 0.010823   \n",
      "#It 013: 0.010887   \n",
      "#It 014: 0.010693   \n",
      "#It 015: 0.011291   \n",
      "#It 016: 0.011616   \n",
      "#It 017: 0.011856   \n",
      "#It 018: 0.011943   \n",
      "#It 019: 0.011418   \n",
      "#It 020: 0.011857   \n",
      "#It 021: 0.011434   \n",
      "#It 022: 0.012070   \n",
      "#It 023: 0.011145   \n",
      "#It 024: 0.011236   \n",
      "#It 025: 0.011217   \n",
      "#It 026: 0.011512   \n",
      "#It 027: 0.011658   \n",
      "#It 028: 0.012135   \n",
      "#It 029: 0.011788   \n",
      "#It 030: 0.010890   \n",
      "#It 031: 0.011117   \n",
      "#It 032: 0.011419   \n",
      "#It 033: 0.011087   \n",
      "#It 034: 0.011221   \n",
      "#It 035: 0.011122   \n",
      "#It 036: 0.010988   \n",
      "#It 037: 0.011131   \n",
      "#It 038: 0.011103   \n",
      "#It 039: 0.011045   \n",
      "#It 040: 0.011416   \n",
      "#It 041: 0.011993   \n",
      "#It 042: 0.011505   \n",
      "#It 043: 0.011229   \n",
      "#It 044: 0.011188   \n",
      "#It 045: 0.011550   \n",
      "#It 046: 0.011733   \n",
      "#It 047: 0.011444   \n",
      "#It 048: 0.011934   \n",
      "#It 049: 0.011299   \n",
      "\n",
      "\t\tFISTA iterations: 50\n",
      "Total Time: 0.507590\n",
      "L1 Wavelet Regularization\n",
      "bash: imshow: command not found\n"
     ]
    },
    {
     "ename": "",
     "evalue": "127",
     "output_type": "error",
     "traceback": []
    }
   ],
   "source": [
    "lambda=0.005\n",
    "iter=50\n",
    "\n",
    "# Parallel Imaging Compressed Sensing reconstruction using WAVELET regularization\n",
    "bart pics -S -R W:$(bart bitmask 0 1):0:$lambda -i $iter shepp_usamp sens shepp_wavelet\n",
    "\n",
    "# Show Wavelet reconstructions\n",
    "echo \"L1 Wavelet Regularization\"\n",
    "imshow shepp_wavelet\n"
   ]
  },
  {
   "cell_type": "markdown",
   "metadata": {},
   "source": [
    "A list of available regularization terms can be displayed using the option `-Rh`"
   ]
  },
  {
   "cell_type": "code",
   "execution_count": 11,
   "metadata": {},
   "outputs": [
    {
     "name": "stdout",
     "output_type": "stream",
     "text": [
      "Generalized regularization options (experimental)\n",
      "\n",
      "-R <T>:A:B:C\t<T> is regularization type (single letter),\n",
      "\t\tA is transform flags, B is joint threshold flags,\n",
      "\t\tand C is regularization value. Specify any number\n",
      "\t\tof regularization terms.\n",
      "\n",
      "-R Q:C    \tl2-norm in image domain\n",
      "-R I:B:C  \tl1-norm in image domain\n",
      "-R W:A:B:C\tl1-wavelet\n",
      "-R N:A:B:C\tNormalized Iterative Hard Thresholding (NIHT), image domain\n",
      "\t\tC is an integer percentage, i.e. from 0-100\n",
      "-R H:A:B:C\tNIHT, wavelet domain\n",
      "-R F:A:B:C\tl1-Fourier\n",
      "-R T:A:B:C\ttotal variation\n",
      "-R T:7:0:.01\t3D isotropic total variation with 0.01 regularization.\n",
      "-R L:7:7:.02\tLocally low rank with spatial decimation and 0.02 regularization.\n",
      "-R M:7:7:.03\tMulti-scale low rank with spatial decimation and 0.03 regularization.\n"
     ]
    }
   ],
   "source": [
    "bart pics -Rh"
   ]
  },
  {
   "cell_type": "markdown",
   "metadata": {
    "collapsed": true
   },
   "source": [
    "## Conclusion\n",
    "This concludes the introduction to the BART tools. Additional demos showcase more advanced reconstruction methods, including dynamic imaging with spatio-temporal regularization."
   ]
  }
 ],
 "metadata": {
  "kernelspec": {
   "display_name": "Bash",
   "language": "bash",
   "name": "bash"
  },
  "language_info": {
   "codemirror_mode": "shell",
   "file_extension": ".sh",
   "mimetype": "text/x-sh",
   "name": "bash"
  }
 },
 "nbformat": 4,
 "nbformat_minor": 2
}
