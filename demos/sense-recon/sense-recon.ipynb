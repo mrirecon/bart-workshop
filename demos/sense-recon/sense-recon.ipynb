{
 "cells": [
  {
   "cell_type": "markdown",
   "metadata": {},
   "source": [
    "# Non-Cartesian SENSE reconstruction\n",
    "\n",
    "Author: Jon Tamir <jtamir@eecs.berkeley.edu>\n",
    "\n",
    "In this tutorial we build a non-Cartesian SENSE reconstruction, called `sense_recon`, using the BART C API. We use the BART C libraries to implement the SENSE model and run the Conjugate Gradient algorithm. \n",
    "\n",
    "To compile the program, the BART toolbox should first be compiled and the `TOOLBOX_PATH` environment variable should point to it.\n",
    "\n",
    "We will also use the `view` program to plot data and images. It should be included in the `PATH` environment variable\n",
    "\n",
    "\n",
    "#### For more information, see the following papers:\n",
    "\n",
    "Pruessmann KP, Weiger M, Scheidegger MB, Boesiger P. SENSE: Sensitivity encoding for fast MRI. Magn Reson Med 1999; 42:952-962.\n",
    "\n",
    "Pruessmann KP, Weiger M, Boernert P, Boesiger P. Advances in sensitivity encoding with arbitrary k-space trajectories. Magn Reson Med 2001; 46:638-651.\n"
   ]
  },
  {
   "cell_type": "markdown",
   "metadata": {},
   "source": [
    "### Requirements\n",
    "- Install bart (version 0.4.04 or newer): https://github.com/mrirecon/bart  \n",
    "- Set TOOLBOX_PATH\n",
    "- Add view program to PATH\n",
    "```bash\n",
    "export TOOLBOX_PATH=/path/to/bart  \n",
    "export PATH=/path/to/view:$PATH\n",
    "```"
   ]
  },
  {
   "cell_type": "markdown",
   "metadata": {},
   "source": [
    "## Source code\n",
    "The source code to the `sense_recon` tool can be found under `src/sense_recon.c`. Let's look at a few snippets:\n",
    "\n",
    "#### We include BART modules for different functionality, including numerical operations, iterative optimization, NUFFT, linear operators, file I/O, and more"
   ]
  },
  {
   "cell_type": "code",
   "execution_count": 1,
   "metadata": {},
   "outputs": [
    {
     "name": "stdout",
     "output_type": "stream",
     "text": [
      "#include \"num/multind.h\"\n",
      "#include \"num/init.h\"\n",
      "#include \"num/flpmath.h\"\n",
      "\n",
      "#include \"iter/iter.h\"\n",
      "\n",
      "#include \"noncart/nufft.h\"\n",
      "\n",
      "#include \"linops/linop.h\"\n",
      "\n",
      "#include \"sense/model.h\"\n",
      "\n",
      "#include \"misc/mmio.h\"\n",
      "#include \"misc/misc.h\"\n",
      "#include \"misc/opts.h\"\n",
      "#include \"misc/debug.h\"\n",
      "#include \"misc/mri.h\"\n"
     ]
    }
   ],
   "source": [
    "sed -n '5,21p' < src/sense_recon.c"
   ]
  },
  {
   "cell_type": "markdown",
   "metadata": {},
   "source": [
    "#### The function `sense_nc_init` creates a non-Cartesian SENSE linear operator, that we will use for our forward model\n",
    "It takes the sensitivity maps, kspace data, trajectory, and their dimensions, and returns a linear operator"
   ]
  },
  {
   "cell_type": "code",
   "execution_count": 2,
   "metadata": {},
   "outputs": [
    {
     "name": "stdout",
     "output_type": "stream",
     "text": [
      "/* \n",
      " * Returns a non-Cartesian SENSE forward model linear operator, consisting of sensitivity map operator\n",
      " * and NUFFT operator.\n",
      " */\n",
      "static const struct linop_s* sense_nc_init(const long sens_dims[DIMS], const complex float* sens, const long ksp_dims[DIMS], const long traj_dims[DIMS], const complex float* traj, struct nufft_conf_s conf)\n"
     ]
    }
   ],
   "source": [
    "sed -n '34,38p' < src/sense_recon.c"
   ]
  },
  {
   "cell_type": "markdown",
   "metadata": {},
   "source": [
    "#### The `main` function creates an instance of the forward model linop, computes the linop adjoint of the data, and solves the reconstruction using the conjugate gradient algorithm"
   ]
  },
  {
   "cell_type": "code",
   "execution_count": 3,
   "metadata": {},
   "outputs": [
    {
     "name": "stdout",
     "output_type": "stream",
     "text": [
      "\tconst struct linop_s* forward_op = sense_nc_init(sens_dims, sens, ksp_dims, traj_dims, traj, nuconf);\n",
      "\tcomplex float* adj = md_alloc(DIMS, img_dims, CFL_SIZE);\n",
      "\tlinop_adjoint(forward_op, DIMS, img_dims, adj, DIMS, ksp_dims, ksp);\n"
     ]
    }
   ],
   "source": [
    "sed -n '162p' < src/sense_recon.c\n",
    "sed -n '170p' < src/sense_recon.c\n",
    "sed -n '171p' < src/sense_recon.c"
   ]
  },
  {
   "cell_type": "markdown",
   "metadata": {},
   "source": [
    "## Compile the source code\n",
    "We can compile the program by setting the `TOOLBOX_PATH` to the location of the bart directory. The included `Makefile` will source the necessary BART libraries and compile the program."
   ]
  },
  {
   "cell_type": "code",
   "execution_count": 4,
   "metadata": {},
   "outputs": [
    {
     "name": "stdout",
     "output_type": "stream",
     "text": [
      "gcc -Wall -O2 -std=c11 -fopenmp -export-dynamic -o sense_recon src/sense_recon.c -I/home/jtamir/bart/src/ -L/home/jtamir/bart/lib/ -liter -lnoncart -llinops -lsense -lnum -lmisc -lm -lfftw3f -lfftw3f_threads -lopenblas  -lm \n",
      "\u001b[01;31m\u001b[Ksense_recon\u001b[m\u001b[K\n"
     ]
    }
   ],
   "source": [
    "export CC=gcc\n",
    "make\n",
    "ls | grep sense_recon"
   ]
  },
  {
   "cell_type": "markdown",
   "metadata": {},
   "source": [
    "Print the help message of the program"
   ]
  },
  {
   "cell_type": "code",
   "execution_count": 5,
   "metadata": {},
   "outputs": [
    {
     "name": "stdout",
     "output_type": "stream",
     "text": [
      "Usage: ./sense_recon [-i d] [-r f] <trajectory> <rawdata> <sens> <img>\n",
      "\n",
      "Perform non-Cartesian CG-SENSE reconstruction with l2 regularization.\n",
      "\n",
      "-i itr      \tmaximum number of iterations\n",
      "-r lambda      \tl2 regularization parameter\n",
      "-h\t\thelp\n"
     ]
    }
   ],
   "source": [
    "./sense_recon -h"
   ]
  },
  {
   "cell_type": "markdown",
   "metadata": {},
   "source": [
    "## Unpack the data"
   ]
  },
  {
   "cell_type": "markdown",
   "metadata": {},
   "source": [
    "We will use the brain data provided for the ISMRM 2019 reproducibility challenge, available at \n",
    "https://blog.ismrm.org/2019/04/02/ismrm-reproducible-research-study-group-2019-reproduce-a-seminal-paper-initiative. We have converted the data into the BART cfl/hdr format"
   ]
  },
  {
   "cell_type": "code",
   "execution_count": 6,
   "metadata": {},
   "outputs": [
    {
     "name": "stdout",
     "output_type": "stream",
     "text": [
      "DIRSTACK: ~/projects/bart-workshop/demos/sense-recon/data ~/projects/bart-workshop/demos/sense-recon\n",
      "-rw------- jtamir/jtamir 8640000 2019-04-29 18:42 sens.cfl\n",
      "-rw------- jtamir/jtamir     169 2019-04-29 18:42 sens.hdr\n",
      "-rw-rw-r-- jtamir/jtamir 4718592 2019-04-29 18:46 rawdata.cfl\n",
      "-rw-rw-r-- jtamir/jtamir      26 2019-04-29 18:46 rawdata.hdr\n",
      "-rw-rw-r-- jtamir/jtamir 1179648 2019-04-29 18:46 trajectory.cfl\n",
      "-rw-rw-r-- jtamir/jtamir      23 2019-04-29 18:46 trajectory.hdr\n",
      "DIRSTACK: ~/projects/bart-workshop/demos/sense-recon\n"
     ]
    }
   ],
   "source": [
    "pushd data\n",
    "tar -xvvf data.tgz\n",
    "popd"
   ]
  },
  {
   "cell_type": "code",
   "execution_count": 7,
   "metadata": {},
   "outputs": [
    {
     "name": "stdout",
     "output_type": "stream",
     "text": [
      "[1] 37821\n",
      "[2] 37822\n"
     ]
    }
   ],
   "source": [
    "view data/rawdata &\n",
    "view data/sens &"
   ]
  },
  {
   "cell_type": "markdown",
   "metadata": {},
   "source": [
    "### Raw data (first channel):\n",
    "![recon](imgs/rawdata.png \"Reconstructed image\")\n",
    "\n",
    "### Sensitivity maps (first channel):\n",
    "![recon](imgs/sens.png \"Reconstructed image\")\n"
   ]
  },
  {
   "cell_type": "code",
   "execution_count": 8,
   "metadata": {},
   "outputs": [
    {
     "name": "stdout",
     "output_type": "stream",
     "text": [
      "Non-Cartesian CG-SENSE Reconstruction\n",
      "ksp : [  1 512  96  12   1   1   1   1   1   1   1   1   1   1   1   1 ]\n",
      "cim : [300 300   1  12   1   1   1   1   1   1   1   1   1   1   1   1 ]\n",
      "traj: [  3 512  96   1   1   1   1   1   1   1   1   1   1   1   1   1 ]\n",
      "NUFFT: Toeplitz mode\n",
      "ksp : [  1 512  96   1   1   1   1   1   1   1   1   1   1   1   1   1   1 ]\n",
      "cim : [600 600   1   1   1   1   1   1   1   1   1   1   1   1   1   1   1 ]\n",
      "traj: [  3 512  96   1   1   1   1   1   1   1   1   1   1   1   1   1   1 ]\n",
      "NUFFT: low-mem mode\n",
      "Linking args 1-2 of 4.\n",
      "Linking args 1-2 of 4.\n",
      "Linking args 1-2 of 4.\n",
      "Linking args 1-2 of 4.\n",
      "#0: 1.212388\n",
      "#1: 0.110693\n",
      "#2: 0.032519\n",
      "#3: 0.023002\n",
      "#4: 0.012807\n",
      "#5: 0.009070\n",
      "#6: 0.006068\n",
      "#7: 0.004484\n",
      "#8: 0.002883\n",
      "#9: 0.002510\n",
      "#10: 0.003170\n",
      "#11: 0.001525\n",
      "#12: 0.001194\n",
      "#13: 0.000842\n",
      "#14: 0.000641\n",
      "\t cg:  15\n"
     ]
    }
   ],
   "source": [
    "./sense_recon -i 15 -r .2 data/trajectory data/rawdata data/sens reco"
   ]
  },
  {
   "cell_type": "code",
   "execution_count": 9,
   "metadata": {},
   "outputs": [
    {
     "name": "stdout",
     "output_type": "stream",
     "text": [
      "[3] 37933\n"
     ]
    }
   ],
   "source": [
    "bart transpose 0 1 reco reco1\n",
    "bart flip 2 reco1 reco\n",
    "view reco &"
   ]
  },
  {
   "cell_type": "markdown",
   "metadata": {},
   "source": [
    "### Reconstruction:\n",
    "![recon](imgs/reco.png \"Reconstructed image\")"
   ]
  }
 ],
 "metadata": {
  "kernelspec": {
   "display_name": "Bash",
   "language": "bash",
   "name": "bash"
  },
  "language_info": {
   "codemirror_mode": "shell",
   "file_extension": ".sh",
   "mimetype": "text/x-sh",
   "name": "bash"
  }
 },
 "nbformat": 4,
 "nbformat_minor": 2
}
