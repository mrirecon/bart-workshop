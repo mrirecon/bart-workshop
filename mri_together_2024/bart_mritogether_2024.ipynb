{
  "nbformat": 4,
  "nbformat_minor": 0,
  "metadata": {
    "colab": {
      "provenance": []
    },
    "kernelspec": {
      "name": "python3",
      "display_name": "Python 3"
    },
    "language_info": {
      "name": "python"
    }
  },
  "cells": [
    {
      "cell_type": "markdown",
      "source": [
        "As BART is packaged for Debian / Ubuntu, we can simply install it with the package manager."
      ],
      "metadata": {
        "id": "NdCBlOcdQIuA"
      }
    },
    {
      "cell_type": "code",
      "execution_count": 1,
      "metadata": {
        "colab": {
          "base_uri": "https://localhost:8080/"
        },
        "id": "xptfqo71K5d1",
        "outputId": "5dd2e77a-279d-4c89-e8fb-d39960c995a8"
      },
      "outputs": [
        {
          "output_type": "stream",
          "name": "stdout",
          "text": [
            "Reading package lists...\n",
            "Building dependency tree...\n",
            "Reading state information...\n",
            "bart is already the newest version (0.7.00-2).\n",
            "0 upgraded, 0 newly installed, 0 to remove and 49 not upgraded.\n"
          ]
        }
      ],
      "source": [
        "!apt-get -q install bart"
      ]
    },
    {
      "cell_type": "markdown",
      "source": [
        "We can now the bart 'version' command to print the version number."
      ],
      "metadata": {
        "id": "eBlBqfURSwgQ"
      }
    },
    {
      "cell_type": "code",
      "source": [
        "!bart version"
      ],
      "metadata": {
        "colab": {
          "base_uri": "https://localhost:8080/"
        },
        "id": "zmHusLmYNKW3",
        "outputId": "cda3dd20-082f-4658-a8f5-662dd6a37165"
      },
      "execution_count": 9,
      "outputs": [
        {
          "output_type": "stream",
          "name": "stdout",
          "text": [
            "v0.7.00\n"
          ]
        }
      ]
    },
    {
      "cell_type": "markdown",
      "source": [
        "... or run a series of commands ..."
      ],
      "metadata": {
        "id": "f02v34IoQrh7"
      }
    },
    {
      "cell_type": "code",
      "source": [
        "%%bash\n",
        "bart phantom -B a\n",
        "bart transpose 0 1 a b\n",
        "bart toimg b b.png"
      ],
      "metadata": {
        "colab": {
          "base_uri": "https://localhost:8080/"
        },
        "id": "bZ28vAUYNOWp",
        "outputId": "70b036c4-5a49-4834-b2d6-dc10b01f78c0"
      },
      "execution_count": 32,
      "outputs": [
        {
          "output_type": "stream",
          "name": "stdout",
          "text": [
            "Writing 1 image(s)...done.\n"
          ]
        }
      ]
    },
    {
      "cell_type": "markdown",
      "source": [
        "This should produce an image file 'b.png' you can open."
      ],
      "metadata": {
        "id": "hnZdmtzxTEuV"
      }
    },
    {
      "cell_type": "markdown",
      "source": [
        "If you need a version new version of BART, you can clone it using git and compile it directly in Google collab. This takes about 2 minutes."
      ],
      "metadata": {
        "id": "-SWFqzwrVj4M"
      }
    },
    {
      "cell_type": "code",
      "source": [
        "%%bash\n",
        "# remove previous installation\n",
        "# rm -rf bart\n",
        "# install build dependencies\n",
        "apt-get install -yqq make gcc-12 libfftw3-dev liblapacke-dev libpng-dev libopenblas-dev\n",
        "# clone newest bart version\n",
        "git clone https://github.com/mrirecon/bart/ bart\n",
        "# build it\n",
        "CC=gcc-12 make -j -s -C bart"
      ],
      "metadata": {
        "colab": {
          "base_uri": "https://localhost:8080/"
        },
        "id": "_7a-rS86NWe8",
        "outputId": "57281cbe-ff05-42fc-e2b2-b58b4dc839f0"
      },
      "execution_count": 25,
      "outputs": [
        {
          "output_type": "stream",
          "name": "stdout",
          "text": [
            "CONFIGURATION MODIFIED. RUNNING FULL REBUILD.\n"
          ]
        },
        {
          "output_type": "stream",
          "name": "stderr",
          "text": [
            "Cloning into 'bart'...\n",
            "ar: creating lib/libbox.a\n",
            "ar: creating lib/libgrecon.a\n",
            "ar: creating lib/libsense.a\n",
            "ar: creating lib/libnoir.a\n",
            "ar: creating lib/libiter.a\n",
            "ar: creating lib/liblinops.a\n",
            "ar: creating lib/libwavelet.a\n",
            "ar: creating lib/liblowrank.a\n",
            "ar: creating lib/libnoncart.a\n",
            "ar: creating lib/libcalib.a\n",
            "ar: creating lib/libsimu.a\n",
            "ar: creating lib/libsake.a\n",
            "ar: creating lib/libnlops.a\n",
            "ar: creating lib/libnetworks.a\n",
            "ar: creating lib/libnn.a\n",
            "ar: creating lib/libmoba.a\n",
            "ar: creating lib/libgeom.a\n",
            "ar: creating lib/libmotion.a\n",
            "ar: creating lib/libnum.a\n",
            "ar: creating lib/libmisc.a\n"
          ]
        }
      ]
    },
    {
      "cell_type": "markdown",
      "source": [
        "We can then use Python to set the BART_TOOLBOX_PATH and the PATH enviromnment variable to this new installation."
      ],
      "metadata": {
        "id": "TCdrUI3cReKW"
      }
    },
    {
      "cell_type": "code",
      "source": [
        "import sys, os\n",
        "os.environ['BART_TOOLBOX_PATH'] = \"./bart\"\n",
        "os.environ['PATH'] = os.environ['BART_TOOLBOX_PATH'] + \":\" + os.environ['PATH']\n",
        "sys.path.append(os.environ['BART_TOOLBOX_PATH'] + \"/python/\")"
      ],
      "metadata": {
        "id": "NlFRYLOrRfc2"
      },
      "execution_count": 22,
      "outputs": []
    },
    {
      "cell_type": "code",
      "source": [
        "!bart version"
      ],
      "metadata": {
        "colab": {
          "base_uri": "https://localhost:8080/"
        },
        "id": "8ptjFfDTRktl",
        "outputId": "ba77cf32-f9ff-4b2d-fec1-481e64aa437c"
      },
      "execution_count": 23,
      "outputs": [
        {
          "output_type": "stream",
          "name": "stdout",
          "text": [
            "v0.9.00-643-ge93cee6\n"
          ]
        }
      ]
    },
    {
      "cell_type": "markdown",
      "source": [
        "If you want to know more, please check out the following resources:\n",
        "\n",
        "* [Website](https://mrirecon.github.io/bart/)\n",
        "* [Tutorials](https://github.com/mrirecon/bart-workshop)\n",
        "* [Webinars](https://github.com/mrirecon/bart-webinars)"
      ],
      "metadata": {
        "id": "chEYYwctUQ2S"
      }
    },
    {
      "cell_type": "code",
      "source": [],
      "metadata": {
        "id": "3dprfF1hUVTA"
      },
      "execution_count": null,
      "outputs": []
    }
  ]
}